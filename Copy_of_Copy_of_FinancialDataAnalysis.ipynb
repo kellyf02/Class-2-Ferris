{
  "nbformat": 4,
  "nbformat_minor": 0,
  "metadata": {
    "colab": {
      "provenance": [],
      "include_colab_link": true
    },
    "kernelspec": {
      "name": "python3",
      "display_name": "Python 3"
    },
    "language_info": {
      "name": "python"
    }
  },
  "cells": [
    {
      "cell_type": "markdown",
      "metadata": {
        "id": "view-in-github",
        "colab_type": "text"
      },
      "source": [
        "<a href=\"https://colab.research.google.com/github/kellyf02/Class-2-Ferris/blob/main/Copy_of_Copy_of_FinancialDataAnalysis.ipynb\" target=\"_parent\"><img src=\"https://colab.research.google.com/assets/colab-badge.svg\" alt=\"Open In Colab\"/></a>"
      ]
    },
    {
      "cell_type": "code",
      "source": [
        "# !pip install pandas-datareader"
      ],
      "metadata": {
        "id": "nLkQ57EhAUvn"
      },
      "execution_count": 5,
      "outputs": []
    },
    {
      "cell_type": "code",
      "execution_count": 6,
      "metadata": {
        "id": "axzgQ88K_tLm"
      },
      "outputs": [],
      "source": [
        "import pandas as pd\n",
        "import numpy as np\n",
        "import matplotlib.pyplot as plt\n",
        "import seaborn as sns\n",
        "%matplotlib inline\n",
        "sns.set()\n",
        "plt.style.use('fivethirtyeight')\n",
        "import datetime\n",
        "\n",
        "from pandas_datareader import data as pdr\n",
        "import yfinance as yf\n",
        "# yf.pdr_override()"
      ]
    },
    {
      "cell_type": "code",
      "source": [
        "import yfinance as yf\n",
        "\n",
        "end_date = datetime.date.today().strftime('%Y-%m-%d')\n",
        "apple = yf.Ticker(\"AAPL\")\n",
        "AAPL = apple.history(start = \"2020-01-01\", end= end_date)\n",
        "AAPL.head()"
      ],
      "metadata": {
        "colab": {
          "base_uri": "https://localhost:8080/",
          "height": 237
        },
        "id": "kHngR0VlAHsZ",
        "outputId": "69f8cb2a-b403-4d15-e662-8da3e41201f3"
      },
      "execution_count": 7,
      "outputs": [
        {
          "output_type": "execute_result",
          "data": {
            "text/plain": [
              "                                Open       High        Low      Close  \\\n",
              "Date                                                                    \n",
              "2020-01-02 00:00:00-05:00  71.721034  72.776613  71.466827  72.716087   \n",
              "2020-01-03 00:00:00-05:00  71.941343  72.771760  71.783977  72.009132   \n",
              "2020-01-06 00:00:00-05:00  71.127836  72.621616  70.876045  72.582878   \n",
              "2020-01-07 00:00:00-05:00  72.592594  72.849224  72.021231  72.241547   \n",
              "2020-01-08 00:00:00-05:00  71.943781  73.706302  71.943781  73.403671   \n",
              "\n",
              "                              Volume  Dividends  Stock Splits  \n",
              "Date                                                           \n",
              "2020-01-02 00:00:00-05:00  135480400        0.0           0.0  \n",
              "2020-01-03 00:00:00-05:00  146322800        0.0           0.0  \n",
              "2020-01-06 00:00:00-05:00  118387200        0.0           0.0  \n",
              "2020-01-07 00:00:00-05:00  108872000        0.0           0.0  \n",
              "2020-01-08 00:00:00-05:00  132079200        0.0           0.0  "
            ],
            "text/html": [
              "\n",
              "  <div id=\"df-8f33a9d7-8b88-4fc0-a13d-ee0af47b33ba\" class=\"colab-df-container\">\n",
              "    <div>\n",
              "<style scoped>\n",
              "    .dataframe tbody tr th:only-of-type {\n",
              "        vertical-align: middle;\n",
              "    }\n",
              "\n",
              "    .dataframe tbody tr th {\n",
              "        vertical-align: top;\n",
              "    }\n",
              "\n",
              "    .dataframe thead th {\n",
              "        text-align: right;\n",
              "    }\n",
              "</style>\n",
              "<table border=\"1\" class=\"dataframe\">\n",
              "  <thead>\n",
              "    <tr style=\"text-align: right;\">\n",
              "      <th></th>\n",
              "      <th>Open</th>\n",
              "      <th>High</th>\n",
              "      <th>Low</th>\n",
              "      <th>Close</th>\n",
              "      <th>Volume</th>\n",
              "      <th>Dividends</th>\n",
              "      <th>Stock Splits</th>\n",
              "    </tr>\n",
              "    <tr>\n",
              "      <th>Date</th>\n",
              "      <th></th>\n",
              "      <th></th>\n",
              "      <th></th>\n",
              "      <th></th>\n",
              "      <th></th>\n",
              "      <th></th>\n",
              "      <th></th>\n",
              "    </tr>\n",
              "  </thead>\n",
              "  <tbody>\n",
              "    <tr>\n",
              "      <th>2020-01-02 00:00:00-05:00</th>\n",
              "      <td>71.721034</td>\n",
              "      <td>72.776613</td>\n",
              "      <td>71.466827</td>\n",
              "      <td>72.716087</td>\n",
              "      <td>135480400</td>\n",
              "      <td>0.0</td>\n",
              "      <td>0.0</td>\n",
              "    </tr>\n",
              "    <tr>\n",
              "      <th>2020-01-03 00:00:00-05:00</th>\n",
              "      <td>71.941343</td>\n",
              "      <td>72.771760</td>\n",
              "      <td>71.783977</td>\n",
              "      <td>72.009132</td>\n",
              "      <td>146322800</td>\n",
              "      <td>0.0</td>\n",
              "      <td>0.0</td>\n",
              "    </tr>\n",
              "    <tr>\n",
              "      <th>2020-01-06 00:00:00-05:00</th>\n",
              "      <td>71.127836</td>\n",
              "      <td>72.621616</td>\n",
              "      <td>70.876045</td>\n",
              "      <td>72.582878</td>\n",
              "      <td>118387200</td>\n",
              "      <td>0.0</td>\n",
              "      <td>0.0</td>\n",
              "    </tr>\n",
              "    <tr>\n",
              "      <th>2020-01-07 00:00:00-05:00</th>\n",
              "      <td>72.592594</td>\n",
              "      <td>72.849224</td>\n",
              "      <td>72.021231</td>\n",
              "      <td>72.241547</td>\n",
              "      <td>108872000</td>\n",
              "      <td>0.0</td>\n",
              "      <td>0.0</td>\n",
              "    </tr>\n",
              "    <tr>\n",
              "      <th>2020-01-08 00:00:00-05:00</th>\n",
              "      <td>71.943781</td>\n",
              "      <td>73.706302</td>\n",
              "      <td>71.943781</td>\n",
              "      <td>73.403671</td>\n",
              "      <td>132079200</td>\n",
              "      <td>0.0</td>\n",
              "      <td>0.0</td>\n",
              "    </tr>\n",
              "  </tbody>\n",
              "</table>\n",
              "</div>\n",
              "    <div class=\"colab-df-buttons\">\n",
              "\n",
              "  <div class=\"colab-df-container\">\n",
              "    <button class=\"colab-df-convert\" onclick=\"convertToInteractive('df-8f33a9d7-8b88-4fc0-a13d-ee0af47b33ba')\"\n",
              "            title=\"Convert this dataframe to an interactive table.\"\n",
              "            style=\"display:none;\">\n",
              "\n",
              "  <svg xmlns=\"http://www.w3.org/2000/svg\" height=\"24px\" viewBox=\"0 -960 960 960\">\n",
              "    <path d=\"M120-120v-720h720v720H120Zm60-500h600v-160H180v160Zm220 220h160v-160H400v160Zm0 220h160v-160H400v160ZM180-400h160v-160H180v160Zm440 0h160v-160H620v160ZM180-180h160v-160H180v160Zm440 0h160v-160H620v160Z\"/>\n",
              "  </svg>\n",
              "    </button>\n",
              "\n",
              "  <style>\n",
              "    .colab-df-container {\n",
              "      display:flex;\n",
              "      gap: 12px;\n",
              "    }\n",
              "\n",
              "    .colab-df-convert {\n",
              "      background-color: #E8F0FE;\n",
              "      border: none;\n",
              "      border-radius: 50%;\n",
              "      cursor: pointer;\n",
              "      display: none;\n",
              "      fill: #1967D2;\n",
              "      height: 32px;\n",
              "      padding: 0 0 0 0;\n",
              "      width: 32px;\n",
              "    }\n",
              "\n",
              "    .colab-df-convert:hover {\n",
              "      background-color: #E2EBFA;\n",
              "      box-shadow: 0px 1px 2px rgba(60, 64, 67, 0.3), 0px 1px 3px 1px rgba(60, 64, 67, 0.15);\n",
              "      fill: #174EA6;\n",
              "    }\n",
              "\n",
              "    .colab-df-buttons div {\n",
              "      margin-bottom: 4px;\n",
              "    }\n",
              "\n",
              "    [theme=dark] .colab-df-convert {\n",
              "      background-color: #3B4455;\n",
              "      fill: #D2E3FC;\n",
              "    }\n",
              "\n",
              "    [theme=dark] .colab-df-convert:hover {\n",
              "      background-color: #434B5C;\n",
              "      box-shadow: 0px 1px 3px 1px rgba(0, 0, 0, 0.15);\n",
              "      filter: drop-shadow(0px 1px 2px rgba(0, 0, 0, 0.3));\n",
              "      fill: #FFFFFF;\n",
              "    }\n",
              "  </style>\n",
              "\n",
              "    <script>\n",
              "      const buttonEl =\n",
              "        document.querySelector('#df-8f33a9d7-8b88-4fc0-a13d-ee0af47b33ba button.colab-df-convert');\n",
              "      buttonEl.style.display =\n",
              "        google.colab.kernel.accessAllowed ? 'block' : 'none';\n",
              "\n",
              "      async function convertToInteractive(key) {\n",
              "        const element = document.querySelector('#df-8f33a9d7-8b88-4fc0-a13d-ee0af47b33ba');\n",
              "        const dataTable =\n",
              "          await google.colab.kernel.invokeFunction('convertToInteractive',\n",
              "                                                    [key], {});\n",
              "        if (!dataTable) return;\n",
              "\n",
              "        const docLinkHtml = 'Like what you see? Visit the ' +\n",
              "          '<a target=\"_blank\" href=https://colab.research.google.com/notebooks/data_table.ipynb>data table notebook</a>'\n",
              "          + ' to learn more about interactive tables.';\n",
              "        element.innerHTML = '';\n",
              "        dataTable['output_type'] = 'display_data';\n",
              "        await google.colab.output.renderOutput(dataTable, element);\n",
              "        const docLink = document.createElement('div');\n",
              "        docLink.innerHTML = docLinkHtml;\n",
              "        element.appendChild(docLink);\n",
              "      }\n",
              "    </script>\n",
              "  </div>\n",
              "\n",
              "\n",
              "<div id=\"df-3bcae6ee-822b-4421-a0f5-f9a27ef5eacc\">\n",
              "  <button class=\"colab-df-quickchart\" onclick=\"quickchart('df-3bcae6ee-822b-4421-a0f5-f9a27ef5eacc')\"\n",
              "            title=\"Suggest charts\"\n",
              "            style=\"display:none;\">\n",
              "\n",
              "<svg xmlns=\"http://www.w3.org/2000/svg\" height=\"24px\"viewBox=\"0 0 24 24\"\n",
              "     width=\"24px\">\n",
              "    <g>\n",
              "        <path d=\"M19 3H5c-1.1 0-2 .9-2 2v14c0 1.1.9 2 2 2h14c1.1 0 2-.9 2-2V5c0-1.1-.9-2-2-2zM9 17H7v-7h2v7zm4 0h-2V7h2v10zm4 0h-2v-4h2v4z\"/>\n",
              "    </g>\n",
              "</svg>\n",
              "  </button>\n",
              "\n",
              "<style>\n",
              "  .colab-df-quickchart {\n",
              "      --bg-color: #E8F0FE;\n",
              "      --fill-color: #1967D2;\n",
              "      --hover-bg-color: #E2EBFA;\n",
              "      --hover-fill-color: #174EA6;\n",
              "      --disabled-fill-color: #AAA;\n",
              "      --disabled-bg-color: #DDD;\n",
              "  }\n",
              "\n",
              "  [theme=dark] .colab-df-quickchart {\n",
              "      --bg-color: #3B4455;\n",
              "      --fill-color: #D2E3FC;\n",
              "      --hover-bg-color: #434B5C;\n",
              "      --hover-fill-color: #FFFFFF;\n",
              "      --disabled-bg-color: #3B4455;\n",
              "      --disabled-fill-color: #666;\n",
              "  }\n",
              "\n",
              "  .colab-df-quickchart {\n",
              "    background-color: var(--bg-color);\n",
              "    border: none;\n",
              "    border-radius: 50%;\n",
              "    cursor: pointer;\n",
              "    display: none;\n",
              "    fill: var(--fill-color);\n",
              "    height: 32px;\n",
              "    padding: 0;\n",
              "    width: 32px;\n",
              "  }\n",
              "\n",
              "  .colab-df-quickchart:hover {\n",
              "    background-color: var(--hover-bg-color);\n",
              "    box-shadow: 0 1px 2px rgba(60, 64, 67, 0.3), 0 1px 3px 1px rgba(60, 64, 67, 0.15);\n",
              "    fill: var(--button-hover-fill-color);\n",
              "  }\n",
              "\n",
              "  .colab-df-quickchart-complete:disabled,\n",
              "  .colab-df-quickchart-complete:disabled:hover {\n",
              "    background-color: var(--disabled-bg-color);\n",
              "    fill: var(--disabled-fill-color);\n",
              "    box-shadow: none;\n",
              "  }\n",
              "\n",
              "  .colab-df-spinner {\n",
              "    border: 2px solid var(--fill-color);\n",
              "    border-color: transparent;\n",
              "    border-bottom-color: var(--fill-color);\n",
              "    animation:\n",
              "      spin 1s steps(1) infinite;\n",
              "  }\n",
              "\n",
              "  @keyframes spin {\n",
              "    0% {\n",
              "      border-color: transparent;\n",
              "      border-bottom-color: var(--fill-color);\n",
              "      border-left-color: var(--fill-color);\n",
              "    }\n",
              "    20% {\n",
              "      border-color: transparent;\n",
              "      border-left-color: var(--fill-color);\n",
              "      border-top-color: var(--fill-color);\n",
              "    }\n",
              "    30% {\n",
              "      border-color: transparent;\n",
              "      border-left-color: var(--fill-color);\n",
              "      border-top-color: var(--fill-color);\n",
              "      border-right-color: var(--fill-color);\n",
              "    }\n",
              "    40% {\n",
              "      border-color: transparent;\n",
              "      border-right-color: var(--fill-color);\n",
              "      border-top-color: var(--fill-color);\n",
              "    }\n",
              "    60% {\n",
              "      border-color: transparent;\n",
              "      border-right-color: var(--fill-color);\n",
              "    }\n",
              "    80% {\n",
              "      border-color: transparent;\n",
              "      border-right-color: var(--fill-color);\n",
              "      border-bottom-color: var(--fill-color);\n",
              "    }\n",
              "    90% {\n",
              "      border-color: transparent;\n",
              "      border-bottom-color: var(--fill-color);\n",
              "    }\n",
              "  }\n",
              "</style>\n",
              "\n",
              "  <script>\n",
              "    async function quickchart(key) {\n",
              "      const quickchartButtonEl =\n",
              "        document.querySelector('#' + key + ' button');\n",
              "      quickchartButtonEl.disabled = true;  // To prevent multiple clicks.\n",
              "      quickchartButtonEl.classList.add('colab-df-spinner');\n",
              "      try {\n",
              "        const charts = await google.colab.kernel.invokeFunction(\n",
              "            'suggestCharts', [key], {});\n",
              "      } catch (error) {\n",
              "        console.error('Error during call to suggestCharts:', error);\n",
              "      }\n",
              "      quickchartButtonEl.classList.remove('colab-df-spinner');\n",
              "      quickchartButtonEl.classList.add('colab-df-quickchart-complete');\n",
              "    }\n",
              "    (() => {\n",
              "      let quickchartButtonEl =\n",
              "        document.querySelector('#df-3bcae6ee-822b-4421-a0f5-f9a27ef5eacc button');\n",
              "      quickchartButtonEl.style.display =\n",
              "        google.colab.kernel.accessAllowed ? 'block' : 'none';\n",
              "    })();\n",
              "  </script>\n",
              "</div>\n",
              "\n",
              "    </div>\n",
              "  </div>\n"
            ],
            "application/vnd.google.colaboratory.intrinsic+json": {
              "type": "dataframe",
              "variable_name": "AAPL",
              "summary": "{\n  \"name\": \"AAPL\",\n  \"rows\": 1323,\n  \"fields\": [\n    {\n      \"column\": \"Date\",\n      \"properties\": {\n        \"dtype\": \"date\",\n        \"min\": \"2020-01-02 00:00:00-05:00\",\n        \"max\": \"2025-04-07 00:00:00-04:00\",\n        \"num_unique_values\": 1323,\n        \"samples\": [\n          \"2022-11-18 00:00:00-05:00\",\n          \"2021-11-24 00:00:00-05:00\",\n          \"2020-12-14 00:00:00-05:00\"\n        ],\n        \"semantic_type\": \"\",\n        \"description\": \"\"\n      }\n    },\n    {\n      \"column\": \"Open\",\n      \"properties\": {\n        \"dtype\": \"number\",\n        \"std\": 44.34891754218148,\n        \"min\": 55.350234801464175,\n        \"max\": 257.90642916266114,\n        \"num_unique_values\": 1323,\n        \"samples\": [\n          150.55945907613687,\n          157.9855374355737,\n          119.75335272421145\n        ],\n        \"semantic_type\": \"\",\n        \"description\": \"\"\n      }\n    },\n    {\n      \"column\": \"High\",\n      \"properties\": {\n        \"dtype\": \"number\",\n        \"std\": 44.63021770788763,\n        \"min\": 55.45215955190559,\n        \"max\": 259.81433504408284,\n        \"num_unique_values\": 1323,\n        \"samples\": [\n          150.9449761011956,\n          159.35163261820963,\n          120.48593849632398\n        ],\n        \"semantic_type\": \"\",\n        \"description\": \"\"\n      }\n    },\n    {\n      \"column\": \"Low\",\n      \"properties\": {\n        \"dtype\": \"number\",\n        \"std\": 44.09023554083678,\n        \"min\": 51.595989830091725,\n        \"max\": 257.34704665632455,\n        \"num_unique_values\": 1323,\n        \"samples\": [\n          148.24635692578445,\n          156.89462581516804,\n          118.71796721767839\n        ],\n        \"semantic_type\": \"\",\n        \"description\": \"\"\n      }\n    },\n    {\n      \"column\": \"Close\",\n      \"properties\": {\n        \"dtype\": \"number\",\n        \"std\": 44.39392111827401,\n        \"min\": 54.449893951416016,\n        \"max\": 258.7355041503906,\n        \"num_unique_values\": 1308,\n        \"samples\": [\n          186.91775512695312,\n          177.83030700683594,\n          141.8624725341797\n        ],\n        \"semantic_type\": \"\",\n        \"description\": \"\"\n      }\n    },\n    {\n      \"column\": \"Volume\",\n      \"properties\": {\n        \"dtype\": \"number\",\n        \"std\": 52719263,\n        \"min\": 23234700,\n        \"max\": 426510000,\n        \"num_unique_values\": 1321,\n        \"samples\": [\n          51804100,\n          69463600,\n          79184500\n        ],\n        \"semantic_type\": \"\",\n        \"description\": \"\"\n      }\n    },\n    {\n      \"column\": \"Dividends\",\n      \"properties\": {\n        \"dtype\": \"number\",\n        \"std\": 0.028496625843756784,\n        \"min\": 0.0,\n        \"max\": 0.25,\n        \"num_unique_values\": 7,\n        \"samples\": [\n          0.0,\n          0.1925,\n          0.24\n        ],\n        \"semantic_type\": \"\",\n        \"description\": \"\"\n      }\n    },\n    {\n      \"column\": \"Stock Splits\",\n      \"properties\": {\n        \"dtype\": \"number\",\n        \"std\": 0.10997147984564272,\n        \"min\": 0.0,\n        \"max\": 4.0,\n        \"num_unique_values\": 2,\n        \"samples\": [\n          4.0,\n          0.0\n        ],\n        \"semantic_type\": \"\",\n        \"description\": \"\"\n      }\n    }\n  ]\n}"
            }
          },
          "metadata": {},
          "execution_count": 7
        }
      ]
    },
    {
      "cell_type": "markdown",
      "source": [
        "## Get the Balance Sheet and Income Statements"
      ],
      "metadata": {
        "id": "s5gowY_dyZtx"
      }
    },
    {
      "cell_type": "code",
      "source": [
        "balance_sheet = apple.balance_sheet\n",
        "print(\"Balance Sheet:\")\n",
        "print(balance_sheet.head())\n",
        "\n",
        "income_statement = apple.financials\n",
        "print(\"\\nIncome Statement:\")\n",
        "print(income_statement.head())\n",
        "\n",
        "# Information about Apple:\n",
        "info = apple.info\n",
        "print(f\"\\nCompany: {info['longName']}\")\n",
        "print(f\"Sector: {info['sector']}\")\n",
        "print(f\"Industry: {info['industry']}\")\n",
        "print(f\"Market Cap: {info['marketCap']}\")\n",
        "print(f\"P/E Ratio: {info['trailingPE']}\")\n",
        "\n",
        "# dividend data\n",
        "dividends = apple.dividends\n",
        "print(\"Dividends:\")\n",
        "print(dividends.tail())"
      ],
      "metadata": {
        "colab": {
          "base_uri": "https://localhost:8080/",
          "height": 0
        },
        "id": "zk0LJ3aZyZL7",
        "outputId": "45f5fb1c-386d-4685-b52e-337c950e029e"
      },
      "execution_count": 8,
      "outputs": [
        {
          "output_type": "stream",
          "name": "stdout",
          "text": [
            "Balance Sheet:\n",
            "                            2024-09-30      2023-09-30      2022-09-30  \\\n",
            "Treasury Shares Number             NaN             0.0             NaN   \n",
            "Ordinary Shares Number   15116786000.0   15550061000.0   15943425000.0   \n",
            "Share Issued             15116786000.0   15550061000.0   15943425000.0   \n",
            "Net Debt                 76686000000.0   81123000000.0   96423000000.0   \n",
            "Total Debt              106629000000.0  111088000000.0  132480000000.0   \n",
            "\n",
            "                            2021-09-30 2020-09-30  \n",
            "Treasury Shares Number             NaN        NaN  \n",
            "Ordinary Shares Number   16426786000.0        NaN  \n",
            "Share Issued             16426786000.0        NaN  \n",
            "Net Debt                 89779000000.0        NaN  \n",
            "Total Debt              136522000000.0        NaN  \n",
            "\n",
            "Income Statement:\n",
            "                                                        2024-09-30  \\\n",
            "Tax Effect Of Unusual Items                                    0.0   \n",
            "Tax Rate For Calcs                                           0.241   \n",
            "Normalized EBITDA                                   134661000000.0   \n",
            "Net Income From Continuing Operation Net Minori...   93736000000.0   \n",
            "Reconciled Depreciation                              11445000000.0   \n",
            "\n",
            "                                                        2023-09-30  \\\n",
            "Tax Effect Of Unusual Items                                    0.0   \n",
            "Tax Rate For Calcs                                           0.147   \n",
            "Normalized EBITDA                                   125820000000.0   \n",
            "Net Income From Continuing Operation Net Minori...   96995000000.0   \n",
            "Reconciled Depreciation                              11519000000.0   \n",
            "\n",
            "                                                        2022-09-30  \\\n",
            "Tax Effect Of Unusual Items                                    0.0   \n",
            "Tax Rate For Calcs                                           0.162   \n",
            "Normalized EBITDA                                   130541000000.0   \n",
            "Net Income From Continuing Operation Net Minori...   99803000000.0   \n",
            "Reconciled Depreciation                              11104000000.0   \n",
            "\n",
            "                                                        2021-09-30 2020-09-30  \n",
            "Tax Effect Of Unusual Items                                    0.0        NaN  \n",
            "Tax Rate For Calcs                                           0.133        NaN  \n",
            "Normalized EBITDA                                   123136000000.0        NaN  \n",
            "Net Income From Continuing Operation Net Minori...   94680000000.0        NaN  \n",
            "Reconciled Depreciation                              11284000000.0        NaN  \n",
            "\n",
            "Company: Apple Inc.\n",
            "Sector: Technology\n",
            "Industry: Consumer Electronics\n",
            "Market Cap: 2590110646272\n",
            "P/E Ratio: 27.368254\n",
            "Dividends:\n",
            "Date\n",
            "2024-02-09 00:00:00-05:00    0.24\n",
            "2024-05-10 00:00:00-04:00    0.25\n",
            "2024-08-12 00:00:00-04:00    0.25\n",
            "2024-11-08 00:00:00-05:00    0.25\n",
            "2025-02-10 00:00:00-05:00    0.25\n",
            "Name: Dividends, dtype: float64\n"
          ]
        }
      ]
    },
    {
      "cell_type": "code",
      "source": [
        "apple = yf.Ticker(\"AAPL\")\n",
        "\n",
        "tickers = [\"SPY\", \"AAL\", \"ZM\", \"NFLX\", \"META\", \"TSLA\", \"DIS\", \"NVDA\", \"TGT\", \"VZ\", 'AAPL']\n",
        "\n",
        "end_date = datetime.date.today().strftime('%Y-%m-%d')\n",
        "apple = yf.Ticker(\"AAPL\")\n",
        "AAPL = apple.history(start = \"2020-01-01\", end= \"2024-12-31\")\n",
        "\n",
        "for ticker in tickers:\n",
        "    globals()[ticker] = yf.Ticker(ticker)\n",
        "    globals()[ticker] = globals()[ticker].history(start = \"2020-01-01\", end= \"2024-12-31\")"
      ],
      "metadata": {
        "id": "mWYRwuzdx-H7"
      },
      "execution_count": 9,
      "outputs": []
    },
    {
      "cell_type": "code",
      "source": [
        "print(META.Close.mean())\n",
        "META.describe()"
      ],
      "metadata": {
        "colab": {
          "base_uri": "https://localhost:8080/",
          "height": 317
        },
        "id": "aw_bliWMxhkx",
        "outputId": "952da299-0715-4264-f568-fd6ad7e9fd24"
      },
      "execution_count": 10,
      "outputs": [
        {
          "output_type": "stream",
          "name": "stdout",
          "text": [
            "299.9754138421519\n"
          ]
        },
        {
          "output_type": "execute_result",
          "data": {
            "text/plain": [
              "              Open         High          Low        Close        Volume  \\\n",
              "count  1257.000000  1257.000000  1257.000000  1257.000000  1.257000e+03   \n",
              "mean    299.811909   304.029697   295.797742   299.975414  2.315541e+07   \n",
              "std     124.745251   125.702635   123.419958   124.602583  1.572882e+07   \n",
              "min      89.657445    90.035660    87.676774    88.492935  4.726100e+06   \n",
              "25%     207.860343   210.607429   205.541291   208.795944  1.453120e+07   \n",
              "50%     277.850462   283.892024   274.983974   279.512634  1.938320e+07   \n",
              "75%     345.003967   350.448326   341.570169   344.665588  2.711680e+07   \n",
              "max     630.430133   637.318434   626.147422   631.608093  2.323166e+08   \n",
              "\n",
              "         Dividends  Stock Splits  \n",
              "count  1257.000000        1257.0  \n",
              "mean      0.001591           0.0  \n",
              "std       0.028172           0.0  \n",
              "min       0.000000           0.0  \n",
              "25%       0.000000           0.0  \n",
              "50%       0.000000           0.0  \n",
              "75%       0.000000           0.0  \n",
              "max       0.500000           0.0  "
            ],
            "text/html": [
              "\n",
              "  <div id=\"df-7f5d362d-b992-44d8-8b22-7240ae2d40c3\" class=\"colab-df-container\">\n",
              "    <div>\n",
              "<style scoped>\n",
              "    .dataframe tbody tr th:only-of-type {\n",
              "        vertical-align: middle;\n",
              "    }\n",
              "\n",
              "    .dataframe tbody tr th {\n",
              "        vertical-align: top;\n",
              "    }\n",
              "\n",
              "    .dataframe thead th {\n",
              "        text-align: right;\n",
              "    }\n",
              "</style>\n",
              "<table border=\"1\" class=\"dataframe\">\n",
              "  <thead>\n",
              "    <tr style=\"text-align: right;\">\n",
              "      <th></th>\n",
              "      <th>Open</th>\n",
              "      <th>High</th>\n",
              "      <th>Low</th>\n",
              "      <th>Close</th>\n",
              "      <th>Volume</th>\n",
              "      <th>Dividends</th>\n",
              "      <th>Stock Splits</th>\n",
              "    </tr>\n",
              "  </thead>\n",
              "  <tbody>\n",
              "    <tr>\n",
              "      <th>count</th>\n",
              "      <td>1257.000000</td>\n",
              "      <td>1257.000000</td>\n",
              "      <td>1257.000000</td>\n",
              "      <td>1257.000000</td>\n",
              "      <td>1.257000e+03</td>\n",
              "      <td>1257.000000</td>\n",
              "      <td>1257.0</td>\n",
              "    </tr>\n",
              "    <tr>\n",
              "      <th>mean</th>\n",
              "      <td>299.811909</td>\n",
              "      <td>304.029697</td>\n",
              "      <td>295.797742</td>\n",
              "      <td>299.975414</td>\n",
              "      <td>2.315541e+07</td>\n",
              "      <td>0.001591</td>\n",
              "      <td>0.0</td>\n",
              "    </tr>\n",
              "    <tr>\n",
              "      <th>std</th>\n",
              "      <td>124.745251</td>\n",
              "      <td>125.702635</td>\n",
              "      <td>123.419958</td>\n",
              "      <td>124.602583</td>\n",
              "      <td>1.572882e+07</td>\n",
              "      <td>0.028172</td>\n",
              "      <td>0.0</td>\n",
              "    </tr>\n",
              "    <tr>\n",
              "      <th>min</th>\n",
              "      <td>89.657445</td>\n",
              "      <td>90.035660</td>\n",
              "      <td>87.676774</td>\n",
              "      <td>88.492935</td>\n",
              "      <td>4.726100e+06</td>\n",
              "      <td>0.000000</td>\n",
              "      <td>0.0</td>\n",
              "    </tr>\n",
              "    <tr>\n",
              "      <th>25%</th>\n",
              "      <td>207.860343</td>\n",
              "      <td>210.607429</td>\n",
              "      <td>205.541291</td>\n",
              "      <td>208.795944</td>\n",
              "      <td>1.453120e+07</td>\n",
              "      <td>0.000000</td>\n",
              "      <td>0.0</td>\n",
              "    </tr>\n",
              "    <tr>\n",
              "      <th>50%</th>\n",
              "      <td>277.850462</td>\n",
              "      <td>283.892024</td>\n",
              "      <td>274.983974</td>\n",
              "      <td>279.512634</td>\n",
              "      <td>1.938320e+07</td>\n",
              "      <td>0.000000</td>\n",
              "      <td>0.0</td>\n",
              "    </tr>\n",
              "    <tr>\n",
              "      <th>75%</th>\n",
              "      <td>345.003967</td>\n",
              "      <td>350.448326</td>\n",
              "      <td>341.570169</td>\n",
              "      <td>344.665588</td>\n",
              "      <td>2.711680e+07</td>\n",
              "      <td>0.000000</td>\n",
              "      <td>0.0</td>\n",
              "    </tr>\n",
              "    <tr>\n",
              "      <th>max</th>\n",
              "      <td>630.430133</td>\n",
              "      <td>637.318434</td>\n",
              "      <td>626.147422</td>\n",
              "      <td>631.608093</td>\n",
              "      <td>2.323166e+08</td>\n",
              "      <td>0.500000</td>\n",
              "      <td>0.0</td>\n",
              "    </tr>\n",
              "  </tbody>\n",
              "</table>\n",
              "</div>\n",
              "    <div class=\"colab-df-buttons\">\n",
              "\n",
              "  <div class=\"colab-df-container\">\n",
              "    <button class=\"colab-df-convert\" onclick=\"convertToInteractive('df-7f5d362d-b992-44d8-8b22-7240ae2d40c3')\"\n",
              "            title=\"Convert this dataframe to an interactive table.\"\n",
              "            style=\"display:none;\">\n",
              "\n",
              "  <svg xmlns=\"http://www.w3.org/2000/svg\" height=\"24px\" viewBox=\"0 -960 960 960\">\n",
              "    <path d=\"M120-120v-720h720v720H120Zm60-500h600v-160H180v160Zm220 220h160v-160H400v160Zm0 220h160v-160H400v160ZM180-400h160v-160H180v160Zm440 0h160v-160H620v160ZM180-180h160v-160H180v160Zm440 0h160v-160H620v160Z\"/>\n",
              "  </svg>\n",
              "    </button>\n",
              "\n",
              "  <style>\n",
              "    .colab-df-container {\n",
              "      display:flex;\n",
              "      gap: 12px;\n",
              "    }\n",
              "\n",
              "    .colab-df-convert {\n",
              "      background-color: #E8F0FE;\n",
              "      border: none;\n",
              "      border-radius: 50%;\n",
              "      cursor: pointer;\n",
              "      display: none;\n",
              "      fill: #1967D2;\n",
              "      height: 32px;\n",
              "      padding: 0 0 0 0;\n",
              "      width: 32px;\n",
              "    }\n",
              "\n",
              "    .colab-df-convert:hover {\n",
              "      background-color: #E2EBFA;\n",
              "      box-shadow: 0px 1px 2px rgba(60, 64, 67, 0.3), 0px 1px 3px 1px rgba(60, 64, 67, 0.15);\n",
              "      fill: #174EA6;\n",
              "    }\n",
              "\n",
              "    .colab-df-buttons div {\n",
              "      margin-bottom: 4px;\n",
              "    }\n",
              "\n",
              "    [theme=dark] .colab-df-convert {\n",
              "      background-color: #3B4455;\n",
              "      fill: #D2E3FC;\n",
              "    }\n",
              "\n",
              "    [theme=dark] .colab-df-convert:hover {\n",
              "      background-color: #434B5C;\n",
              "      box-shadow: 0px 1px 3px 1px rgba(0, 0, 0, 0.15);\n",
              "      filter: drop-shadow(0px 1px 2px rgba(0, 0, 0, 0.3));\n",
              "      fill: #FFFFFF;\n",
              "    }\n",
              "  </style>\n",
              "\n",
              "    <script>\n",
              "      const buttonEl =\n",
              "        document.querySelector('#df-7f5d362d-b992-44d8-8b22-7240ae2d40c3 button.colab-df-convert');\n",
              "      buttonEl.style.display =\n",
              "        google.colab.kernel.accessAllowed ? 'block' : 'none';\n",
              "\n",
              "      async function convertToInteractive(key) {\n",
              "        const element = document.querySelector('#df-7f5d362d-b992-44d8-8b22-7240ae2d40c3');\n",
              "        const dataTable =\n",
              "          await google.colab.kernel.invokeFunction('convertToInteractive',\n",
              "                                                    [key], {});\n",
              "        if (!dataTable) return;\n",
              "\n",
              "        const docLinkHtml = 'Like what you see? Visit the ' +\n",
              "          '<a target=\"_blank\" href=https://colab.research.google.com/notebooks/data_table.ipynb>data table notebook</a>'\n",
              "          + ' to learn more about interactive tables.';\n",
              "        element.innerHTML = '';\n",
              "        dataTable['output_type'] = 'display_data';\n",
              "        await google.colab.output.renderOutput(dataTable, element);\n",
              "        const docLink = document.createElement('div');\n",
              "        docLink.innerHTML = docLinkHtml;\n",
              "        element.appendChild(docLink);\n",
              "      }\n",
              "    </script>\n",
              "  </div>\n",
              "\n",
              "\n",
              "<div id=\"df-8575554a-522b-4c88-9942-4282437b9160\">\n",
              "  <button class=\"colab-df-quickchart\" onclick=\"quickchart('df-8575554a-522b-4c88-9942-4282437b9160')\"\n",
              "            title=\"Suggest charts\"\n",
              "            style=\"display:none;\">\n",
              "\n",
              "<svg xmlns=\"http://www.w3.org/2000/svg\" height=\"24px\"viewBox=\"0 0 24 24\"\n",
              "     width=\"24px\">\n",
              "    <g>\n",
              "        <path d=\"M19 3H5c-1.1 0-2 .9-2 2v14c0 1.1.9 2 2 2h14c1.1 0 2-.9 2-2V5c0-1.1-.9-2-2-2zM9 17H7v-7h2v7zm4 0h-2V7h2v10zm4 0h-2v-4h2v4z\"/>\n",
              "    </g>\n",
              "</svg>\n",
              "  </button>\n",
              "\n",
              "<style>\n",
              "  .colab-df-quickchart {\n",
              "      --bg-color: #E8F0FE;\n",
              "      --fill-color: #1967D2;\n",
              "      --hover-bg-color: #E2EBFA;\n",
              "      --hover-fill-color: #174EA6;\n",
              "      --disabled-fill-color: #AAA;\n",
              "      --disabled-bg-color: #DDD;\n",
              "  }\n",
              "\n",
              "  [theme=dark] .colab-df-quickchart {\n",
              "      --bg-color: #3B4455;\n",
              "      --fill-color: #D2E3FC;\n",
              "      --hover-bg-color: #434B5C;\n",
              "      --hover-fill-color: #FFFFFF;\n",
              "      --disabled-bg-color: #3B4455;\n",
              "      --disabled-fill-color: #666;\n",
              "  }\n",
              "\n",
              "  .colab-df-quickchart {\n",
              "    background-color: var(--bg-color);\n",
              "    border: none;\n",
              "    border-radius: 50%;\n",
              "    cursor: pointer;\n",
              "    display: none;\n",
              "    fill: var(--fill-color);\n",
              "    height: 32px;\n",
              "    padding: 0;\n",
              "    width: 32px;\n",
              "  }\n",
              "\n",
              "  .colab-df-quickchart:hover {\n",
              "    background-color: var(--hover-bg-color);\n",
              "    box-shadow: 0 1px 2px rgba(60, 64, 67, 0.3), 0 1px 3px 1px rgba(60, 64, 67, 0.15);\n",
              "    fill: var(--button-hover-fill-color);\n",
              "  }\n",
              "\n",
              "  .colab-df-quickchart-complete:disabled,\n",
              "  .colab-df-quickchart-complete:disabled:hover {\n",
              "    background-color: var(--disabled-bg-color);\n",
              "    fill: var(--disabled-fill-color);\n",
              "    box-shadow: none;\n",
              "  }\n",
              "\n",
              "  .colab-df-spinner {\n",
              "    border: 2px solid var(--fill-color);\n",
              "    border-color: transparent;\n",
              "    border-bottom-color: var(--fill-color);\n",
              "    animation:\n",
              "      spin 1s steps(1) infinite;\n",
              "  }\n",
              "\n",
              "  @keyframes spin {\n",
              "    0% {\n",
              "      border-color: transparent;\n",
              "      border-bottom-color: var(--fill-color);\n",
              "      border-left-color: var(--fill-color);\n",
              "    }\n",
              "    20% {\n",
              "      border-color: transparent;\n",
              "      border-left-color: var(--fill-color);\n",
              "      border-top-color: var(--fill-color);\n",
              "    }\n",
              "    30% {\n",
              "      border-color: transparent;\n",
              "      border-left-color: var(--fill-color);\n",
              "      border-top-color: var(--fill-color);\n",
              "      border-right-color: var(--fill-color);\n",
              "    }\n",
              "    40% {\n",
              "      border-color: transparent;\n",
              "      border-right-color: var(--fill-color);\n",
              "      border-top-color: var(--fill-color);\n",
              "    }\n",
              "    60% {\n",
              "      border-color: transparent;\n",
              "      border-right-color: var(--fill-color);\n",
              "    }\n",
              "    80% {\n",
              "      border-color: transparent;\n",
              "      border-right-color: var(--fill-color);\n",
              "      border-bottom-color: var(--fill-color);\n",
              "    }\n",
              "    90% {\n",
              "      border-color: transparent;\n",
              "      border-bottom-color: var(--fill-color);\n",
              "    }\n",
              "  }\n",
              "</style>\n",
              "\n",
              "  <script>\n",
              "    async function quickchart(key) {\n",
              "      const quickchartButtonEl =\n",
              "        document.querySelector('#' + key + ' button');\n",
              "      quickchartButtonEl.disabled = true;  // To prevent multiple clicks.\n",
              "      quickchartButtonEl.classList.add('colab-df-spinner');\n",
              "      try {\n",
              "        const charts = await google.colab.kernel.invokeFunction(\n",
              "            'suggestCharts', [key], {});\n",
              "      } catch (error) {\n",
              "        console.error('Error during call to suggestCharts:', error);\n",
              "      }\n",
              "      quickchartButtonEl.classList.remove('colab-df-spinner');\n",
              "      quickchartButtonEl.classList.add('colab-df-quickchart-complete');\n",
              "    }\n",
              "    (() => {\n",
              "      let quickchartButtonEl =\n",
              "        document.querySelector('#df-8575554a-522b-4c88-9942-4282437b9160 button');\n",
              "      quickchartButtonEl.style.display =\n",
              "        google.colab.kernel.accessAllowed ? 'block' : 'none';\n",
              "    })();\n",
              "  </script>\n",
              "</div>\n",
              "\n",
              "    </div>\n",
              "  </div>\n"
            ],
            "application/vnd.google.colaboratory.intrinsic+json": {
              "type": "dataframe",
              "summary": "{\n  \"name\": \"META\",\n  \"rows\": 8,\n  \"fields\": [\n    {\n      \"column\": \"Open\",\n      \"properties\": {\n        \"dtype\": \"number\",\n        \"std\": 382.5467677421256,\n        \"min\": 89.65744499802331,\n        \"max\": 1257.0,\n        \"num_unique_values\": 8,\n        \"samples\": [\n          299.8119089776115,\n          277.8504623596669,\n          1257.0\n        ],\n        \"semantic_type\": \"\",\n        \"description\": \"\"\n      }\n    },\n    {\n      \"column\": \"High\",\n      \"properties\": {\n        \"dtype\": \"number\",\n        \"std\": 382.2240595072363,\n        \"min\": 90.03565971999477,\n        \"max\": 1257.0,\n        \"num_unique_values\": 8,\n        \"samples\": [\n          304.02969718540834,\n          283.8920244882496,\n          1257.0\n        ],\n        \"semantic_type\": \"\",\n        \"description\": \"\"\n      }\n    },\n    {\n      \"column\": \"Low\",\n      \"properties\": {\n        \"dtype\": \"number\",\n        \"std\": 383.0947125893819,\n        \"min\": 87.67677376490204,\n        \"max\": 1257.0,\n        \"num_unique_values\": 8,\n        \"samples\": [\n          295.7977421083837,\n          274.98397390963555,\n          1257.0\n        ],\n        \"semantic_type\": \"\",\n        \"description\": \"\"\n      }\n    },\n    {\n      \"column\": \"Close\",\n      \"properties\": {\n        \"dtype\": \"number\",\n        \"std\": 382.65325653165655,\n        \"min\": 88.49293518066406,\n        \"max\": 1257.0,\n        \"num_unique_values\": 8,\n        \"samples\": [\n          299.9754138421519,\n          279.51263427734375,\n          1257.0\n        ],\n        \"semantic_type\": \"\",\n        \"description\": \"\"\n      }\n    },\n    {\n      \"column\": \"Volume\",\n      \"properties\": {\n        \"dtype\": \"number\",\n        \"std\": 77373296.67712471,\n        \"min\": 1257.0,\n        \"max\": 232316600.0,\n        \"num_unique_values\": 8,\n        \"samples\": [\n          23155408.353221957,\n          19383200.0,\n          1257.0\n        ],\n        \"semantic_type\": \"\",\n        \"description\": \"\"\n      }\n    },\n    {\n      \"column\": \"Dividends\",\n      \"properties\": {\n        \"dtype\": \"number\",\n        \"std\": 444.38988878138554,\n        \"min\": 0.0,\n        \"max\": 1257.0,\n        \"num_unique_values\": 5,\n        \"samples\": [\n          0.0015910898965791568,\n          0.5,\n          0.028171701427339768\n        ],\n        \"semantic_type\": \"\",\n        \"description\": \"\"\n      }\n    },\n    {\n      \"column\": \"Stock Splits\",\n      \"properties\": {\n        \"dtype\": \"number\",\n        \"std\": 444.4166119757451,\n        \"min\": 0.0,\n        \"max\": 1257.0,\n        \"num_unique_values\": 2,\n        \"samples\": [\n          0.0,\n          1257.0\n        ],\n        \"semantic_type\": \"\",\n        \"description\": \"\"\n      }\n    }\n  ]\n}"
            }
          },
          "metadata": {},
          "execution_count": 10
        }
      ]
    },
    {
      "cell_type": "markdown",
      "source": [
        "## Now, let us keep only the closing prices for our analysis."
      ],
      "metadata": {
        "id": "zehh5wfWqQOx"
      }
    },
    {
      "cell_type": "code",
      "source": [
        "## keep only column close for all tickers\n",
        "for ticker in tickers:\n",
        "    globals()[ticker] = globals()[ticker].Close\n",
        "\n",
        "SPY"
      ],
      "metadata": {
        "id": "6Q94q7AxqC0r",
        "outputId": "80a6aed5-8fac-49be-e189-9e432a9c01dd",
        "colab": {
          "base_uri": "https://localhost:8080/",
          "height": 489
        }
      },
      "execution_count": 11,
      "outputs": [
        {
          "output_type": "execute_result",
          "data": {
            "text/plain": [
              "Date\n",
              "2020-01-02 00:00:00-05:00    300.291595\n",
              "2020-01-03 00:00:00-05:00    298.017731\n",
              "2020-01-06 00:00:00-05:00    299.154633\n",
              "2020-01-07 00:00:00-05:00    298.313477\n",
              "2020-01-08 00:00:00-05:00    299.903351\n",
              "                                ...    \n",
              "2024-12-23 00:00:00-05:00    592.906433\n",
              "2024-12-24 00:00:00-05:00    599.496582\n",
              "2024-12-26 00:00:00-05:00    599.536499\n",
              "2024-12-27 00:00:00-05:00    593.225464\n",
              "2024-12-30 00:00:00-05:00    586.455811\n",
              "Name: Close, Length: 1257, dtype: float64"
            ],
            "text/html": [
              "<div>\n",
              "<style scoped>\n",
              "    .dataframe tbody tr th:only-of-type {\n",
              "        vertical-align: middle;\n",
              "    }\n",
              "\n",
              "    .dataframe tbody tr th {\n",
              "        vertical-align: top;\n",
              "    }\n",
              "\n",
              "    .dataframe thead th {\n",
              "        text-align: right;\n",
              "    }\n",
              "</style>\n",
              "<table border=\"1\" class=\"dataframe\">\n",
              "  <thead>\n",
              "    <tr style=\"text-align: right;\">\n",
              "      <th></th>\n",
              "      <th>Close</th>\n",
              "    </tr>\n",
              "    <tr>\n",
              "      <th>Date</th>\n",
              "      <th></th>\n",
              "    </tr>\n",
              "  </thead>\n",
              "  <tbody>\n",
              "    <tr>\n",
              "      <th>2020-01-02 00:00:00-05:00</th>\n",
              "      <td>300.291595</td>\n",
              "    </tr>\n",
              "    <tr>\n",
              "      <th>2020-01-03 00:00:00-05:00</th>\n",
              "      <td>298.017731</td>\n",
              "    </tr>\n",
              "    <tr>\n",
              "      <th>2020-01-06 00:00:00-05:00</th>\n",
              "      <td>299.154633</td>\n",
              "    </tr>\n",
              "    <tr>\n",
              "      <th>2020-01-07 00:00:00-05:00</th>\n",
              "      <td>298.313477</td>\n",
              "    </tr>\n",
              "    <tr>\n",
              "      <th>2020-01-08 00:00:00-05:00</th>\n",
              "      <td>299.903351</td>\n",
              "    </tr>\n",
              "    <tr>\n",
              "      <th>...</th>\n",
              "      <td>...</td>\n",
              "    </tr>\n",
              "    <tr>\n",
              "      <th>2024-12-23 00:00:00-05:00</th>\n",
              "      <td>592.906433</td>\n",
              "    </tr>\n",
              "    <tr>\n",
              "      <th>2024-12-24 00:00:00-05:00</th>\n",
              "      <td>599.496582</td>\n",
              "    </tr>\n",
              "    <tr>\n",
              "      <th>2024-12-26 00:00:00-05:00</th>\n",
              "      <td>599.536499</td>\n",
              "    </tr>\n",
              "    <tr>\n",
              "      <th>2024-12-27 00:00:00-05:00</th>\n",
              "      <td>593.225464</td>\n",
              "    </tr>\n",
              "    <tr>\n",
              "      <th>2024-12-30 00:00:00-05:00</th>\n",
              "      <td>586.455811</td>\n",
              "    </tr>\n",
              "  </tbody>\n",
              "</table>\n",
              "<p>1257 rows × 1 columns</p>\n",
              "</div><br><label><b>dtype:</b> float64</label>"
            ]
          },
          "metadata": {},
          "execution_count": 11
        }
      ]
    },
    {
      "cell_type": "code",
      "source": [
        "df = pd.DataFrame({'Market': SPY, 'AAPL':AAPL, 'AAL':AAL, 'NFLX':NFLX, 'META':META,'ZM':ZM, 'TSLA':TSLA, 'DIS':DIS, 'NVDA':NVDA, 'TGT':TGT, 'VZ':VZ})\n",
        "df.head()\n",
        "df.tail()"
      ],
      "metadata": {
        "id": "R-6EAoG7qQBk",
        "outputId": "9f745c91-6124-45be-f619-1b972991dd69",
        "colab": {
          "base_uri": "https://localhost:8080/",
          "height": 237
        }
      },
      "execution_count": 12,
      "outputs": [
        {
          "output_type": "execute_result",
          "data": {
            "text/plain": [
              "                               Market        AAPL        AAL        NFLX  \\\n",
              "Date                                                                       \n",
              "2024-12-23 00:00:00-05:00  592.906433  254.989655  17.250000  911.450012   \n",
              "2024-12-24 00:00:00-05:00  599.496582  257.916443  17.350000  932.119995   \n",
              "2024-12-26 00:00:00-05:00  599.536499  258.735504  17.350000  924.140015   \n",
              "2024-12-27 00:00:00-05:00  593.225464  255.309296  17.350000  907.549988   \n",
              "2024-12-30 00:00:00-05:00  586.455811  251.923019  17.620001  900.429993   \n",
              "\n",
              "                                 META         ZM        TSLA         DIS  \\\n",
              "Date                                                                       \n",
              "2024-12-23 00:00:00-05:00  599.316772  85.269997  430.600006  111.400002   \n",
              "2024-12-24 00:00:00-05:00  607.209778  85.669998  462.279999  112.559998   \n",
              "2024-12-26 00:00:00-05:00  602.813660  85.440002  454.130005  112.550003   \n",
              "2024-12-27 00:00:00-05:00  599.276855  83.820000  431.660004  111.550003   \n",
              "2024-12-30 00:00:00-05:00  590.714417  82.730003  417.410004  110.800003   \n",
              "\n",
              "                                 NVDA         TGT         VZ  \n",
              "Date                                                          \n",
              "2024-12-23 00:00:00-05:00  139.657150  130.804489  39.244587  \n",
              "2024-12-24 00:00:00-05:00  140.207108  131.280426  39.107025  \n",
              "2024-12-26 00:00:00-05:00  139.917130  135.236679  39.264240  \n",
              "2024-12-27 00:00:00-05:00  136.997391  134.354218  39.224934  \n",
              "2024-12-30 00:00:00-05:00  137.477356  133.908020  38.910507  "
            ],
            "text/html": [
              "\n",
              "  <div id=\"df-31754884-59c3-4147-aec5-930b78d89178\" class=\"colab-df-container\">\n",
              "    <div>\n",
              "<style scoped>\n",
              "    .dataframe tbody tr th:only-of-type {\n",
              "        vertical-align: middle;\n",
              "    }\n",
              "\n",
              "    .dataframe tbody tr th {\n",
              "        vertical-align: top;\n",
              "    }\n",
              "\n",
              "    .dataframe thead th {\n",
              "        text-align: right;\n",
              "    }\n",
              "</style>\n",
              "<table border=\"1\" class=\"dataframe\">\n",
              "  <thead>\n",
              "    <tr style=\"text-align: right;\">\n",
              "      <th></th>\n",
              "      <th>Market</th>\n",
              "      <th>AAPL</th>\n",
              "      <th>AAL</th>\n",
              "      <th>NFLX</th>\n",
              "      <th>META</th>\n",
              "      <th>ZM</th>\n",
              "      <th>TSLA</th>\n",
              "      <th>DIS</th>\n",
              "      <th>NVDA</th>\n",
              "      <th>TGT</th>\n",
              "      <th>VZ</th>\n",
              "    </tr>\n",
              "    <tr>\n",
              "      <th>Date</th>\n",
              "      <th></th>\n",
              "      <th></th>\n",
              "      <th></th>\n",
              "      <th></th>\n",
              "      <th></th>\n",
              "      <th></th>\n",
              "      <th></th>\n",
              "      <th></th>\n",
              "      <th></th>\n",
              "      <th></th>\n",
              "      <th></th>\n",
              "    </tr>\n",
              "  </thead>\n",
              "  <tbody>\n",
              "    <tr>\n",
              "      <th>2024-12-23 00:00:00-05:00</th>\n",
              "      <td>592.906433</td>\n",
              "      <td>254.989655</td>\n",
              "      <td>17.250000</td>\n",
              "      <td>911.450012</td>\n",
              "      <td>599.316772</td>\n",
              "      <td>85.269997</td>\n",
              "      <td>430.600006</td>\n",
              "      <td>111.400002</td>\n",
              "      <td>139.657150</td>\n",
              "      <td>130.804489</td>\n",
              "      <td>39.244587</td>\n",
              "    </tr>\n",
              "    <tr>\n",
              "      <th>2024-12-24 00:00:00-05:00</th>\n",
              "      <td>599.496582</td>\n",
              "      <td>257.916443</td>\n",
              "      <td>17.350000</td>\n",
              "      <td>932.119995</td>\n",
              "      <td>607.209778</td>\n",
              "      <td>85.669998</td>\n",
              "      <td>462.279999</td>\n",
              "      <td>112.559998</td>\n",
              "      <td>140.207108</td>\n",
              "      <td>131.280426</td>\n",
              "      <td>39.107025</td>\n",
              "    </tr>\n",
              "    <tr>\n",
              "      <th>2024-12-26 00:00:00-05:00</th>\n",
              "      <td>599.536499</td>\n",
              "      <td>258.735504</td>\n",
              "      <td>17.350000</td>\n",
              "      <td>924.140015</td>\n",
              "      <td>602.813660</td>\n",
              "      <td>85.440002</td>\n",
              "      <td>454.130005</td>\n",
              "      <td>112.550003</td>\n",
              "      <td>139.917130</td>\n",
              "      <td>135.236679</td>\n",
              "      <td>39.264240</td>\n",
              "    </tr>\n",
              "    <tr>\n",
              "      <th>2024-12-27 00:00:00-05:00</th>\n",
              "      <td>593.225464</td>\n",
              "      <td>255.309296</td>\n",
              "      <td>17.350000</td>\n",
              "      <td>907.549988</td>\n",
              "      <td>599.276855</td>\n",
              "      <td>83.820000</td>\n",
              "      <td>431.660004</td>\n",
              "      <td>111.550003</td>\n",
              "      <td>136.997391</td>\n",
              "      <td>134.354218</td>\n",
              "      <td>39.224934</td>\n",
              "    </tr>\n",
              "    <tr>\n",
              "      <th>2024-12-30 00:00:00-05:00</th>\n",
              "      <td>586.455811</td>\n",
              "      <td>251.923019</td>\n",
              "      <td>17.620001</td>\n",
              "      <td>900.429993</td>\n",
              "      <td>590.714417</td>\n",
              "      <td>82.730003</td>\n",
              "      <td>417.410004</td>\n",
              "      <td>110.800003</td>\n",
              "      <td>137.477356</td>\n",
              "      <td>133.908020</td>\n",
              "      <td>38.910507</td>\n",
              "    </tr>\n",
              "  </tbody>\n",
              "</table>\n",
              "</div>\n",
              "    <div class=\"colab-df-buttons\">\n",
              "\n",
              "  <div class=\"colab-df-container\">\n",
              "    <button class=\"colab-df-convert\" onclick=\"convertToInteractive('df-31754884-59c3-4147-aec5-930b78d89178')\"\n",
              "            title=\"Convert this dataframe to an interactive table.\"\n",
              "            style=\"display:none;\">\n",
              "\n",
              "  <svg xmlns=\"http://www.w3.org/2000/svg\" height=\"24px\" viewBox=\"0 -960 960 960\">\n",
              "    <path d=\"M120-120v-720h720v720H120Zm60-500h600v-160H180v160Zm220 220h160v-160H400v160Zm0 220h160v-160H400v160ZM180-400h160v-160H180v160Zm440 0h160v-160H620v160ZM180-180h160v-160H180v160Zm440 0h160v-160H620v160Z\"/>\n",
              "  </svg>\n",
              "    </button>\n",
              "\n",
              "  <style>\n",
              "    .colab-df-container {\n",
              "      display:flex;\n",
              "      gap: 12px;\n",
              "    }\n",
              "\n",
              "    .colab-df-convert {\n",
              "      background-color: #E8F0FE;\n",
              "      border: none;\n",
              "      border-radius: 50%;\n",
              "      cursor: pointer;\n",
              "      display: none;\n",
              "      fill: #1967D2;\n",
              "      height: 32px;\n",
              "      padding: 0 0 0 0;\n",
              "      width: 32px;\n",
              "    }\n",
              "\n",
              "    .colab-df-convert:hover {\n",
              "      background-color: #E2EBFA;\n",
              "      box-shadow: 0px 1px 2px rgba(60, 64, 67, 0.3), 0px 1px 3px 1px rgba(60, 64, 67, 0.15);\n",
              "      fill: #174EA6;\n",
              "    }\n",
              "\n",
              "    .colab-df-buttons div {\n",
              "      margin-bottom: 4px;\n",
              "    }\n",
              "\n",
              "    [theme=dark] .colab-df-convert {\n",
              "      background-color: #3B4455;\n",
              "      fill: #D2E3FC;\n",
              "    }\n",
              "\n",
              "    [theme=dark] .colab-df-convert:hover {\n",
              "      background-color: #434B5C;\n",
              "      box-shadow: 0px 1px 3px 1px rgba(0, 0, 0, 0.15);\n",
              "      filter: drop-shadow(0px 1px 2px rgba(0, 0, 0, 0.3));\n",
              "      fill: #FFFFFF;\n",
              "    }\n",
              "  </style>\n",
              "\n",
              "    <script>\n",
              "      const buttonEl =\n",
              "        document.querySelector('#df-31754884-59c3-4147-aec5-930b78d89178 button.colab-df-convert');\n",
              "      buttonEl.style.display =\n",
              "        google.colab.kernel.accessAllowed ? 'block' : 'none';\n",
              "\n",
              "      async function convertToInteractive(key) {\n",
              "        const element = document.querySelector('#df-31754884-59c3-4147-aec5-930b78d89178');\n",
              "        const dataTable =\n",
              "          await google.colab.kernel.invokeFunction('convertToInteractive',\n",
              "                                                    [key], {});\n",
              "        if (!dataTable) return;\n",
              "\n",
              "        const docLinkHtml = 'Like what you see? Visit the ' +\n",
              "          '<a target=\"_blank\" href=https://colab.research.google.com/notebooks/data_table.ipynb>data table notebook</a>'\n",
              "          + ' to learn more about interactive tables.';\n",
              "        element.innerHTML = '';\n",
              "        dataTable['output_type'] = 'display_data';\n",
              "        await google.colab.output.renderOutput(dataTable, element);\n",
              "        const docLink = document.createElement('div');\n",
              "        docLink.innerHTML = docLinkHtml;\n",
              "        element.appendChild(docLink);\n",
              "      }\n",
              "    </script>\n",
              "  </div>\n",
              "\n",
              "\n",
              "<div id=\"df-731a2158-b45b-47c9-85de-8169719e394e\">\n",
              "  <button class=\"colab-df-quickchart\" onclick=\"quickchart('df-731a2158-b45b-47c9-85de-8169719e394e')\"\n",
              "            title=\"Suggest charts\"\n",
              "            style=\"display:none;\">\n",
              "\n",
              "<svg xmlns=\"http://www.w3.org/2000/svg\" height=\"24px\"viewBox=\"0 0 24 24\"\n",
              "     width=\"24px\">\n",
              "    <g>\n",
              "        <path d=\"M19 3H5c-1.1 0-2 .9-2 2v14c0 1.1.9 2 2 2h14c1.1 0 2-.9 2-2V5c0-1.1-.9-2-2-2zM9 17H7v-7h2v7zm4 0h-2V7h2v10zm4 0h-2v-4h2v4z\"/>\n",
              "    </g>\n",
              "</svg>\n",
              "  </button>\n",
              "\n",
              "<style>\n",
              "  .colab-df-quickchart {\n",
              "      --bg-color: #E8F0FE;\n",
              "      --fill-color: #1967D2;\n",
              "      --hover-bg-color: #E2EBFA;\n",
              "      --hover-fill-color: #174EA6;\n",
              "      --disabled-fill-color: #AAA;\n",
              "      --disabled-bg-color: #DDD;\n",
              "  }\n",
              "\n",
              "  [theme=dark] .colab-df-quickchart {\n",
              "      --bg-color: #3B4455;\n",
              "      --fill-color: #D2E3FC;\n",
              "      --hover-bg-color: #434B5C;\n",
              "      --hover-fill-color: #FFFFFF;\n",
              "      --disabled-bg-color: #3B4455;\n",
              "      --disabled-fill-color: #666;\n",
              "  }\n",
              "\n",
              "  .colab-df-quickchart {\n",
              "    background-color: var(--bg-color);\n",
              "    border: none;\n",
              "    border-radius: 50%;\n",
              "    cursor: pointer;\n",
              "    display: none;\n",
              "    fill: var(--fill-color);\n",
              "    height: 32px;\n",
              "    padding: 0;\n",
              "    width: 32px;\n",
              "  }\n",
              "\n",
              "  .colab-df-quickchart:hover {\n",
              "    background-color: var(--hover-bg-color);\n",
              "    box-shadow: 0 1px 2px rgba(60, 64, 67, 0.3), 0 1px 3px 1px rgba(60, 64, 67, 0.15);\n",
              "    fill: var(--button-hover-fill-color);\n",
              "  }\n",
              "\n",
              "  .colab-df-quickchart-complete:disabled,\n",
              "  .colab-df-quickchart-complete:disabled:hover {\n",
              "    background-color: var(--disabled-bg-color);\n",
              "    fill: var(--disabled-fill-color);\n",
              "    box-shadow: none;\n",
              "  }\n",
              "\n",
              "  .colab-df-spinner {\n",
              "    border: 2px solid var(--fill-color);\n",
              "    border-color: transparent;\n",
              "    border-bottom-color: var(--fill-color);\n",
              "    animation:\n",
              "      spin 1s steps(1) infinite;\n",
              "  }\n",
              "\n",
              "  @keyframes spin {\n",
              "    0% {\n",
              "      border-color: transparent;\n",
              "      border-bottom-color: var(--fill-color);\n",
              "      border-left-color: var(--fill-color);\n",
              "    }\n",
              "    20% {\n",
              "      border-color: transparent;\n",
              "      border-left-color: var(--fill-color);\n",
              "      border-top-color: var(--fill-color);\n",
              "    }\n",
              "    30% {\n",
              "      border-color: transparent;\n",
              "      border-left-color: var(--fill-color);\n",
              "      border-top-color: var(--fill-color);\n",
              "      border-right-color: var(--fill-color);\n",
              "    }\n",
              "    40% {\n",
              "      border-color: transparent;\n",
              "      border-right-color: var(--fill-color);\n",
              "      border-top-color: var(--fill-color);\n",
              "    }\n",
              "    60% {\n",
              "      border-color: transparent;\n",
              "      border-right-color: var(--fill-color);\n",
              "    }\n",
              "    80% {\n",
              "      border-color: transparent;\n",
              "      border-right-color: var(--fill-color);\n",
              "      border-bottom-color: var(--fill-color);\n",
              "    }\n",
              "    90% {\n",
              "      border-color: transparent;\n",
              "      border-bottom-color: var(--fill-color);\n",
              "    }\n",
              "  }\n",
              "</style>\n",
              "\n",
              "  <script>\n",
              "    async function quickchart(key) {\n",
              "      const quickchartButtonEl =\n",
              "        document.querySelector('#' + key + ' button');\n",
              "      quickchartButtonEl.disabled = true;  // To prevent multiple clicks.\n",
              "      quickchartButtonEl.classList.add('colab-df-spinner');\n",
              "      try {\n",
              "        const charts = await google.colab.kernel.invokeFunction(\n",
              "            'suggestCharts', [key], {});\n",
              "      } catch (error) {\n",
              "        console.error('Error during call to suggestCharts:', error);\n",
              "      }\n",
              "      quickchartButtonEl.classList.remove('colab-df-spinner');\n",
              "      quickchartButtonEl.classList.add('colab-df-quickchart-complete');\n",
              "    }\n",
              "    (() => {\n",
              "      let quickchartButtonEl =\n",
              "        document.querySelector('#df-731a2158-b45b-47c9-85de-8169719e394e button');\n",
              "      quickchartButtonEl.style.display =\n",
              "        google.colab.kernel.accessAllowed ? 'block' : 'none';\n",
              "    })();\n",
              "  </script>\n",
              "</div>\n",
              "\n",
              "    </div>\n",
              "  </div>\n"
            ],
            "application/vnd.google.colaboratory.intrinsic+json": {
              "type": "dataframe",
              "summary": "{\n  \"name\": \"df\",\n  \"rows\": 5,\n  \"fields\": [\n    {\n      \"column\": \"Date\",\n      \"properties\": {\n        \"dtype\": \"date\",\n        \"min\": \"2024-12-23 00:00:00-05:00\",\n        \"max\": \"2024-12-30 00:00:00-05:00\",\n        \"num_unique_values\": 5,\n        \"samples\": [\n          \"2024-12-24 00:00:00-05:00\",\n          \"2024-12-30 00:00:00-05:00\",\n          \"2024-12-26 00:00:00-05:00\"\n        ],\n        \"semantic_type\": \"\",\n        \"description\": \"\"\n      }\n    },\n    {\n      \"column\": \"Market\",\n      \"properties\": {\n        \"dtype\": \"number\",\n        \"std\": 5.455511745492133,\n        \"min\": 586.455810546875,\n        \"max\": 599.5364990234375,\n        \"num_unique_values\": 5,\n        \"samples\": [\n          599.49658203125,\n          586.455810546875,\n          599.5364990234375\n        ],\n        \"semantic_type\": \"\",\n        \"description\": \"\"\n      }\n    },\n    {\n      \"column\": \"AAPL\",\n      \"properties\": {\n        \"dtype\": \"number\",\n        \"std\": 2.6935926130128265,\n        \"min\": 251.9230194091797,\n        \"max\": 258.7355041503906,\n        \"num_unique_values\": 5,\n        \"samples\": [\n          257.91644287109375,\n          251.9230194091797,\n          258.7355041503906\n        ],\n        \"semantic_type\": \"\",\n        \"description\": \"\"\n      }\n    },\n    {\n      \"column\": \"AAL\",\n      \"properties\": {\n        \"dtype\": \"number\",\n        \"std\": 0.13885272620540598,\n        \"min\": 17.25,\n        \"max\": 17.6200008392334,\n        \"num_unique_values\": 3,\n        \"samples\": [\n          17.25,\n          17.350000381469727,\n          17.6200008392334\n        ],\n        \"semantic_type\": \"\",\n        \"description\": \"\"\n      }\n    },\n    {\n      \"column\": \"NFLX\",\n      \"properties\": {\n        \"dtype\": \"number\",\n        \"std\": 12.815313969576364,\n        \"min\": 900.4299926757812,\n        \"max\": 932.1199951171875,\n        \"num_unique_values\": 5,\n        \"samples\": [\n          932.1199951171875,\n          900.4299926757812,\n          924.1400146484375\n        ],\n        \"semantic_type\": \"\",\n        \"description\": \"\"\n      }\n    },\n    {\n      \"column\": \"META\",\n      \"properties\": {\n        \"dtype\": \"number\",\n        \"std\": 6.0625900525171526,\n        \"min\": 590.7144165039062,\n        \"max\": 607.2097778320312,\n        \"num_unique_values\": 5,\n        \"samples\": [\n          607.2097778320312,\n          590.7144165039062,\n          602.8136596679688\n        ],\n        \"semantic_type\": \"\",\n        \"description\": \"\"\n      }\n    },\n    {\n      \"column\": \"ZM\",\n      \"properties\": {\n        \"dtype\": \"number\",\n        \"std\": 1.2652770066801458,\n        \"min\": 82.7300033569336,\n        \"max\": 85.66999816894531,\n        \"num_unique_values\": 5,\n        \"samples\": [\n          85.66999816894531,\n          82.7300033569336,\n          85.44000244140625\n        ],\n        \"semantic_type\": \"\",\n        \"description\": \"\"\n      }\n    },\n    {\n      \"column\": \"TSLA\",\n      \"properties\": {\n        \"dtype\": \"number\",\n        \"std\": 18.447259207714815,\n        \"min\": 417.4100036621094,\n        \"max\": 462.2799987792969,\n        \"num_unique_values\": 5,\n        \"samples\": [\n          462.2799987792969,\n          417.4100036621094,\n          454.1300048828125\n        ],\n        \"semantic_type\": \"\",\n        \"description\": \"\"\n      }\n    },\n    {\n      \"column\": \"DIS\",\n      \"properties\": {\n        \"dtype\": \"number\",\n        \"std\": 0.767898508601559,\n        \"min\": 110.80000305175781,\n        \"max\": 112.55999755859375,\n        \"num_unique_values\": 5,\n        \"samples\": [\n          112.55999755859375,\n          110.80000305175781,\n          112.55000305175781\n        ],\n        \"semantic_type\": \"\",\n        \"description\": \"\"\n      }\n    },\n    {\n      \"column\": \"NVDA\",\n      \"properties\": {\n        \"dtype\": \"number\",\n        \"std\": 1.4956857151929588,\n        \"min\": 136.9973907470703,\n        \"max\": 140.2071075439453,\n        \"num_unique_values\": 5,\n        \"samples\": [\n          140.2071075439453,\n          137.47735595703125,\n          139.91712951660156\n        ],\n        \"semantic_type\": \"\",\n        \"description\": \"\"\n      }\n    },\n    {\n      \"column\": \"TGT\",\n      \"properties\": {\n        \"dtype\": \"number\",\n        \"std\": 1.9602403847983896,\n        \"min\": 130.8044891357422,\n        \"max\": 135.23667907714844,\n        \"num_unique_values\": 5,\n        \"samples\": [\n          131.28042602539062,\n          133.90802001953125,\n          135.23667907714844\n        ],\n        \"semantic_type\": \"\",\n        \"description\": \"\"\n      }\n    },\n    {\n      \"column\": \"VZ\",\n      \"properties\": {\n        \"dtype\": \"number\",\n        \"std\": 0.1473226731081511,\n        \"min\": 38.91050720214844,\n        \"max\": 39.26424026489258,\n        \"num_unique_values\": 5,\n        \"samples\": [\n          39.107025146484375,\n          38.91050720214844,\n          39.26424026489258\n        ],\n        \"semantic_type\": \"\",\n        \"description\": \"\"\n      }\n    }\n  ]\n}"
            }
          },
          "metadata": {},
          "execution_count": 12
        }
      ]
    },
    {
      "cell_type": "code",
      "source": [
        "# print(AAPL)\n",
        "# print(AAPL.shift(1))"
      ],
      "metadata": {
        "id": "nIvs-jfOqCxT"
      },
      "execution_count": 13,
      "outputs": []
    },
    {
      "cell_type": "code",
      "source": [
        "plt.style.use('fivethirtyeight')\n",
        "plt.figure(figsize=(5, 3))\n",
        "plt.plot(df, label=df.columns)\n",
        "plt.legend(loc='upper left',fontsize=8)\n",
        "plt.show()"
      ],
      "metadata": {
        "id": "xdFchPWxqCt5",
        "outputId": "cd19228f-ec60-4cae-ad94-e0d946ea7326",
        "colab": {
          "base_uri": "https://localhost:8080/",
          "height": 299
        }
      },
      "execution_count": 14,
      "outputs": [
        {
          "output_type": "display_data",
          "data": {
            "text/plain": [
              "<Figure size 500x300 with 1 Axes>"
            ],
            "image/png": "[encoded data removed]"
          },
          "metadata": {}
        }
      ]
    },
    {
      "cell_type": "markdown",
      "source": [
        "## For financial analysis, we require the log returns (daily), rather than the raw stock prices. The formula for log returns is:\n",
        "\n",
        "log(Today's Price/yesterday's price - 1)"
      ],
      "metadata": {
        "id": "uxdJRkJqsuSv"
      }
    },
    {
      "cell_type": "code",
      "source": [
        "# create new columns that are log returns of the columns\n",
        "data = np.log(df/df.shift(1))\n",
        "# data = (df-df.shift(1))/df.shift(1)\n",
        "# replace first row with zeroes\n",
        "data.iloc[0] = 0\n",
        "data.head(5)"
      ],
      "metadata": {
        "id": "42T9y7o3skC1",
        "outputId": "fd43231e-b27f-457c-d090-af75e05a7b65",
        "colab": {
          "base_uri": "https://localhost:8080/",
          "height": 237
        }
      },
      "execution_count": 15,
      "outputs": [
        {
          "output_type": "execute_result",
          "data": {
            "text/plain": [
              "                             Market      AAPL       AAL      NFLX      META  \\\n",
              "Date                                                                          \n",
              "2020-01-02 00:00:00-05:00  0.000000  0.000000  0.000000  0.000000  0.000000   \n",
              "2020-01-03 00:00:00-05:00 -0.007601 -0.009770 -0.050769 -0.011926 -0.005305   \n",
              "2020-01-06 00:00:00-05:00  0.003808  0.007937 -0.012007  0.030014  0.018658   \n",
              "2020-01-07 00:00:00-05:00 -0.002816 -0.004714 -0.003667 -0.015242  0.002161   \n",
              "2020-01-08 00:00:00-05:00  0.005315  0.015958  0.022522  0.025404  0.010087   \n",
              "\n",
              "                                 ZM      TSLA       DIS      NVDA       TGT  \\\n",
              "Date                                                                          \n",
              "2020-01-02 00:00:00-05:00  0.000000  0.000000  0.000000  0.000000  0.000000   \n",
              "2020-01-03 00:00:00-05:00 -0.021177  0.029203 -0.011537 -0.016135 -0.010445   \n",
              "2020-01-06 00:00:00-05:00  0.044193  0.019072 -0.005819  0.004185 -0.009503   \n",
              "2020-01-07 00:00:00-05:00  0.022220  0.038067  0.000343  0.012034  0.001779   \n",
              "2020-01-08 00:00:00-05:00  0.009000  0.048033 -0.002061  0.001874 -0.003236   \n",
              "\n",
              "                                 VZ  \n",
              "Date                                 \n",
              "2020-01-02 00:00:00-05:00  0.000000  \n",
              "2020-01-03 00:00:00-05:00 -0.010704  \n",
              "2020-01-06 00:00:00-05:00 -0.002155  \n",
              "2020-01-07 00:00:00-05:00 -0.011179  \n",
              "2020-01-08 00:00:00-05:00  0.001844  "
            ],
            "text/html": [
              "\n",
              "  <div id=\"df-90dd8506-09a8-4a77-8229-4551a64ea74d\" class=\"colab-df-container\">\n",
              "    <div>\n",
              "<style scoped>\n",
              "    .dataframe tbody tr th:only-of-type {\n",
              "        vertical-align: middle;\n",
              "    }\n",
              "\n",
              "    .dataframe tbody tr th {\n",
              "        vertical-align: top;\n",
              "    }\n",
              "\n",
              "    .dataframe thead th {\n",
              "        text-align: right;\n",
              "    }\n",
              "</style>\n",
              "<table border=\"1\" class=\"dataframe\">\n",
              "  <thead>\n",
              "    <tr style=\"text-align: right;\">\n",
              "      <th></th>\n",
              "      <th>Market</th>\n",
              "      <th>AAPL</th>\n",
              "      <th>AAL</th>\n",
              "      <th>NFLX</th>\n",
              "      <th>META</th>\n",
              "      <th>ZM</th>\n",
              "      <th>TSLA</th>\n",
              "      <th>DIS</th>\n",
              "      <th>NVDA</th>\n",
              "      <th>TGT</th>\n",
              "      <th>VZ</th>\n",
              "    </tr>\n",
              "    <tr>\n",
              "      <th>Date</th>\n",
              "      <th></th>\n",
              "      <th></th>\n",
              "      <th></th>\n",
              "      <th></th>\n",
              "      <th></th>\n",
              "      <th></th>\n",
              "      <th></th>\n",
              "      <th></th>\n",
              "      <th></th>\n",
              "      <th></th>\n",
              "      <th></th>\n",
              "    </tr>\n",
              "  </thead>\n",
              "  <tbody>\n",
              "    <tr>\n",
              "      <th>2020-01-02 00:00:00-05:00</th>\n",
              "      <td>0.000000</td>\n",
              "      <td>0.000000</td>\n",
              "      <td>0.000000</td>\n",
              "      <td>0.000000</td>\n",
              "      <td>0.000000</td>\n",
              "      <td>0.000000</td>\n",
              "      <td>0.000000</td>\n",
              "      <td>0.000000</td>\n",
              "      <td>0.000000</td>\n",
              "      <td>0.000000</td>\n",
              "      <td>0.000000</td>\n",
              "    </tr>\n",
              "    <tr>\n",
              "      <th>2020-01-03 00:00:00-05:00</th>\n",
              "      <td>-0.007601</td>\n",
              "      <td>-0.009770</td>\n",
              "      <td>-0.050769</td>\n",
              "      <td>-0.011926</td>\n",
              "      <td>-0.005305</td>\n",
              "      <td>-0.021177</td>\n",
              "      <td>0.029203</td>\n",
              "      <td>-0.011537</td>\n",
              "      <td>-0.016135</td>\n",
              "      <td>-0.010445</td>\n",
              "      <td>-0.010704</td>\n",
              "    </tr>\n",
              "    <tr>\n",
              "      <th>2020-01-06 00:00:00-05:00</th>\n",
              "      <td>0.003808</td>\n",
              "      <td>0.007937</td>\n",
              "      <td>-0.012007</td>\n",
              "      <td>0.030014</td>\n",
              "      <td>0.018658</td>\n",
              "      <td>0.044193</td>\n",
              "      <td>0.019072</td>\n",
              "      <td>-0.005819</td>\n",
              "      <td>0.004185</td>\n",
              "      <td>-0.009503</td>\n",
              "      <td>-0.002155</td>\n",
              "    </tr>\n",
              "    <tr>\n",
              "      <th>2020-01-07 00:00:00-05:00</th>\n",
              "      <td>-0.002816</td>\n",
              "      <td>-0.004714</td>\n",
              "      <td>-0.003667</td>\n",
              "      <td>-0.015242</td>\n",
              "      <td>0.002161</td>\n",
              "      <td>0.022220</td>\n",
              "      <td>0.038067</td>\n",
              "      <td>0.000343</td>\n",
              "      <td>0.012034</td>\n",
              "      <td>0.001779</td>\n",
              "      <td>-0.011179</td>\n",
              "    </tr>\n",
              "    <tr>\n",
              "      <th>2020-01-08 00:00:00-05:00</th>\n",
              "      <td>0.005315</td>\n",
              "      <td>0.015958</td>\n",
              "      <td>0.022522</td>\n",
              "      <td>0.025404</td>\n",
              "      <td>0.010087</td>\n",
              "      <td>0.009000</td>\n",
              "      <td>0.048033</td>\n",
              "      <td>-0.002061</td>\n",
              "      <td>0.001874</td>\n",
              "      <td>-0.003236</td>\n",
              "      <td>0.001844</td>\n",
              "    </tr>\n",
              "  </tbody>\n",
              "</table>\n",
              "</div>\n",
              "    <div class=\"colab-df-buttons\">\n",
              "\n",
              "  <div class=\"colab-df-container\">\n",
              "    <button class=\"colab-df-convert\" onclick=\"convertToInteractive('df-90dd8506-09a8-4a77-8229-4551a64ea74d')\"\n",
              "            title=\"Convert this dataframe to an interactive table.\"\n",
              "            style=\"display:none;\">\n",
              "\n",
              "  <svg xmlns=\"http://www.w3.org/2000/svg\" height=\"24px\" viewBox=\"0 -960 960 960\">\n",
              "    <path d=\"M120-120v-720h720v720H120Zm60-500h600v-160H180v160Zm220 220h160v-160H400v160Zm0 220h160v-160H400v160ZM180-400h160v-160H180v160Zm440 0h160v-160H620v160ZM180-180h160v-160H180v160Zm440 0h160v-160H620v160Z\"/>\n",
              "  </svg>\n",
              "    </button>\n",
              "\n",
              "  <style>\n",
              "    .colab-df-container {\n",
              "      display:flex;\n",
              "      gap: 12px;\n",
              "    }\n",
              "\n",
              "    .colab-df-convert {\n",
              "      background-color: #E8F0FE;\n",
              "      border: none;\n",
              "      border-radius: 50%;\n",
              "      cursor: pointer;\n",
              "      display: none;\n",
              "      fill: #1967D2;\n",
              "      height: 32px;\n",
              "      padding: 0 0 0 0;\n",
              "      width: 32px;\n",
              "    }\n",
              "\n",
              "    .colab-df-convert:hover {\n",
              "      background-color: #E2EBFA;\n",
              "      box-shadow: 0px 1px 2px rgba(60, 64, 67, 0.3), 0px 1px 3px 1px rgba(60, 64, 67, 0.15);\n",
              "      fill: #174EA6;\n",
              "    }\n",
              "\n",
              "    .colab-df-buttons div {\n",
              "      margin-bottom: 4px;\n",
              "    }\n",
              "\n",
              "    [theme=dark] .colab-df-convert {\n",
              "      background-color: #3B4455;\n",
              "      fill: #D2E3FC;\n",
              "    }\n",
              "\n",
              "    [theme=dark] .colab-df-convert:hover {\n",
              "      background-color: #434B5C;\n",
              "      box-shadow: 0px 1px 3px 1px rgba(0, 0, 0, 0.15);\n",
              "      filter: drop-shadow(0px 1px 2px rgba(0, 0, 0, 0.3));\n",
              "      fill: #FFFFFF;\n",
              "    }\n",
              "  </style>\n",
              "\n",
              "    <script>\n",
              "      const buttonEl =\n",
              "        document.querySelector('#df-90dd8506-09a8-4a77-8229-4551a64ea74d button.colab-df-convert');\n",
              "      buttonEl.style.display =\n",
              "        google.colab.kernel.accessAllowed ? 'block' : 'none';\n",
              "\n",
              "      async function convertToInteractive(key) {\n",
              "        const element = document.querySelector('#df-90dd8506-09a8-4a77-8229-4551a64ea74d');\n",
              "        const dataTable =\n",
              "          await google.colab.kernel.invokeFunction('convertToInteractive',\n",
              "                                                    [key], {});\n",
              "        if (!dataTable) return;\n",
              "\n",
              "        const docLinkHtml = 'Like what you see? Visit the ' +\n",
              "          '<a target=\"_blank\" href=https://colab.research.google.com/notebooks/data_table.ipynb>data table notebook</a>'\n",
              "          + ' to learn more about interactive tables.';\n",
              "        element.innerHTML = '';\n",
              "        dataTable['output_type'] = 'display_data';\n",
              "        await google.colab.output.renderOutput(dataTable, element);\n",
              "        const docLink = document.createElement('div');\n",
              "        docLink.innerHTML = docLinkHtml;\n",
              "        element.appendChild(docLink);\n",
              "      }\n",
              "    </script>\n",
              "  </div>\n",
              "\n",
              "\n",
              "<div id=\"df-60817794-9909-4856-b715-425e319086f2\">\n",
              "  <button class=\"colab-df-quickchart\" onclick=\"quickchart('df-60817794-9909-4856-b715-425e319086f2')\"\n",
              "            title=\"Suggest charts\"\n",
              "            style=\"display:none;\">\n",
              "\n",
              "<svg xmlns=\"http://www.w3.org/2000/svg\" height=\"24px\"viewBox=\"0 0 24 24\"\n",
              "     width=\"24px\">\n",
              "    <g>\n",
              "        <path d=\"M19 3H5c-1.1 0-2 .9-2 2v14c0 1.1.9 2 2 2h14c1.1 0 2-.9 2-2V5c0-1.1-.9-2-2-2zM9 17H7v-7h2v7zm4 0h-2V7h2v10zm4 0h-2v-4h2v4z\"/>\n",
              "    </g>\n",
              "</svg>\n",
              "  </button>\n",
              "\n",
              "<style>\n",
              "  .colab-df-quickchart {\n",
              "      --bg-color: #E8F0FE;\n",
              "      --fill-color: #1967D2;\n",
              "      --hover-bg-color: #E2EBFA;\n",
              "      --hover-fill-color: #174EA6;\n",
              "      --disabled-fill-color: #AAA;\n",
              "      --disabled-bg-color: #DDD;\n",
              "  }\n",
              "\n",
              "  [theme=dark] .colab-df-quickchart {\n",
              "      --bg-color: #3B4455;\n",
              "      --fill-color: #D2E3FC;\n",
              "      --hover-bg-color: #434B5C;\n",
              "      --hover-fill-color: #FFFFFF;\n",
              "      --disabled-bg-color: #3B4455;\n",
              "      --disabled-fill-color: #666;\n",
              "  }\n",
              "\n",
              "  .colab-df-quickchart {\n",
              "    background-color: var(--bg-color);\n",
              "    border: none;\n",
              "    border-radius: 50%;\n",
              "    cursor: pointer;\n",
              "    display: none;\n",
              "    fill: var(--fill-color);\n",
              "    height: 32px;\n",
              "    padding: 0;\n",
              "    width: 32px;\n",
              "  }\n",
              "\n",
              "  .colab-df-quickchart:hover {\n",
              "    background-color: var(--hover-bg-color);\n",
              "    box-shadow: 0 1px 2px rgba(60, 64, 67, 0.3), 0 1px 3px 1px rgba(60, 64, 67, 0.15);\n",
              "    fill: var(--button-hover-fill-color);\n",
              "  }\n",
              "\n",
              "  .colab-df-quickchart-complete:disabled,\n",
              "  .colab-df-quickchart-complete:disabled:hover {\n",
              "    background-color: var(--disabled-bg-color);\n",
              "    fill: var(--disabled-fill-color);\n",
              "    box-shadow: none;\n",
              "  }\n",
              "\n",
              "  .colab-df-spinner {\n",
              "    border: 2px solid var(--fill-color);\n",
              "    border-color: transparent;\n",
              "    border-bottom-color: var(--fill-color);\n",
              "    animation:\n",
              "      spin 1s steps(1) infinite;\n",
              "  }\n",
              "\n",
              "  @keyframes spin {\n",
              "    0% {\n",
              "      border-color: transparent;\n",
              "      border-bottom-color: var(--fill-color);\n",
              "      border-left-color: var(--fill-color);\n",
              "    }\n",
              "    20% {\n",
              "      border-color: transparent;\n",
              "      border-left-color: var(--fill-color);\n",
              "      border-top-color: var(--fill-color);\n",
              "    }\n",
              "    30% {\n",
              "      border-color: transparent;\n",
              "      border-left-color: var(--fill-color);\n",
              "      border-top-color: var(--fill-color);\n",
              "      border-right-color: var(--fill-color);\n",
              "    }\n",
              "    40% {\n",
              "      border-color: transparent;\n",
              "      border-right-color: var(--fill-color);\n",
              "      border-top-color: var(--fill-color);\n",
              "    }\n",
              "    60% {\n",
              "      border-color: transparent;\n",
              "      border-right-color: var(--fill-color);\n",
              "    }\n",
              "    80% {\n",
              "      border-color: transparent;\n",
              "      border-right-color: var(--fill-color);\n",
              "      border-bottom-color: var(--fill-color);\n",
              "    }\n",
              "    90% {\n",
              "      border-color: transparent;\n",
              "      border-bottom-color: var(--fill-color);\n",
              "    }\n",
              "  }\n",
              "</style>\n",
              "\n",
              "  <script>\n",
              "    async function quickchart(key) {\n",
              "      const quickchartButtonEl =\n",
              "        document.querySelector('#' + key + ' button');\n",
              "      quickchartButtonEl.disabled = true;  // To prevent multiple clicks.\n",
              "      quickchartButtonEl.classList.add('colab-df-spinner');\n",
              "      try {\n",
              "        const charts = await google.colab.kernel.invokeFunction(\n",
              "            'suggestCharts', [key], {});\n",
              "      } catch (error) {\n",
              "        console.error('Error during call to suggestCharts:', error);\n",
              "      }\n",
              "      quickchartButtonEl.classList.remove('colab-df-spinner');\n",
              "      quickchartButtonEl.classList.add('colab-df-quickchart-complete');\n",
              "    }\n",
              "    (() => {\n",
              "      let quickchartButtonEl =\n",
              "        document.querySelector('#df-60817794-9909-4856-b715-425e319086f2 button');\n",
              "      quickchartButtonEl.style.display =\n",
              "        google.colab.kernel.accessAllowed ? 'block' : 'none';\n",
              "    })();\n",
              "  </script>\n",
              "</div>\n",
              "\n",
              "    </div>\n",
              "  </div>\n"
            ],
            "application/vnd.google.colaboratory.intrinsic+json": {
              "type": "dataframe",
              "variable_name": "data",
              "summary": "{\n  \"name\": \"data\",\n  \"rows\": 1257,\n  \"fields\": [\n    {\n      \"column\": \"Date\",\n      \"properties\": {\n        \"dtype\": \"date\",\n        \"min\": \"2020-01-02 00:00:00-05:00\",\n        \"max\": \"2024-12-30 00:00:00-05:00\",\n        \"num_unique_values\": 1257,\n        \"samples\": [\n          \"2021-09-23 00:00:00-04:00\",\n          \"2020-05-28 00:00:00-04:00\",\n          \"2020-03-17 00:00:00-04:00\"\n        ],\n        \"semantic_type\": \"\",\n        \"description\": \"\"\n      }\n    },\n    {\n      \"column\": \"Market\",\n      \"properties\": {\n        \"dtype\": \"number\",\n        \"std\": 0.013281048030716199,\n        \"min\": -0.11588667514503803,\n        \"max\": 0.08673086166069265,\n        \"num_unique_values\": 1255,\n        \"samples\": [\n          -0.009081487029820487,\n          -0.001846605063187711,\n          0.05258503278425242\n        ],\n        \"semantic_type\": \"\",\n        \"description\": \"\"\n      }\n    },\n    {\n      \"column\": \"AAPL\",\n      \"properties\": {\n        \"dtype\": \"number\",\n        \"std\": 0.01993888289797246,\n        \"min\": -0.13770815104014789,\n        \"max\": 0.1131574993128718,\n        \"num_unique_values\": 1253,\n        \"samples\": [\n          -0.009531065491788428,\n          -0.005179474908716754,\n          0.004491797988436376\n        ],\n        \"semantic_type\": \"\",\n        \"description\": \"\"\n      }\n    },\n    {\n      \"column\": \"AAL\",\n      \"properties\": {\n        \"dtype\": \"number\",\n        \"std\": 0.038601268453318925,\n        \"min\": -0.29068188827816016,\n        \"max\": 0.34427766681656186,\n        \"num_unique_values\": 1236,\n        \"samples\": [\n          -0.04285384147177768,\n          -0.004201716177018891,\n          -0.041468451604115726\n        ],\n        \"semantic_type\": \"\",\n        \"description\": \"\"\n      }\n    },\n    {\n      \"column\": \"NFLX\",\n      \"properties\": {\n        \"dtype\": \"number\",\n        \"std\": 0.02952415899088583,\n        \"min\": -0.43257841199468944,\n        \"max\": 0.15575804642814195,\n        \"num_unique_values\": 1256,\n        \"samples\": [\n          0.004409101206044731,\n          -0.015480400039549484,\n          0.06763113960576661\n        ],\n        \"semantic_type\": \"\",\n        \"description\": \"\"\n      }\n    },\n    {\n      \"column\": \"META\",\n      \"properties\": {\n        \"dtype\": \"number\",\n        \"std\": 0.02860130350620842,\n        \"min\": -0.30639076408378496,\n        \"max\": 0.20930760960797204,\n        \"num_unique_values\": 1255,\n        \"samples\": [\n          -0.018904315967187894,\n          -0.016190399887125447,\n          0.023086077978933982\n        ],\n        \"semantic_type\": \"\",\n        \"description\": \"\"\n      }\n    },\n    {\n      \"column\": \"ZM\",\n      \"properties\": {\n        \"dtype\": \"number\",\n        \"std\": 0.03567525593877465,\n        \"min\": -0.19079953058591292,\n        \"max\": 0.34205925829868195,\n        \"num_unique_values\": 1254,\n        \"samples\": [\n          -0.013089305077007484,\n          0.009707632208966397,\n          0.02959658734348096\n        ],\n        \"semantic_type\": \"\",\n        \"description\": \"\"\n      }\n    },\n    {\n      \"column\": \"TSLA\",\n      \"properties\": {\n        \"dtype\": \"number\",\n        \"std\": 0.04219386983214836,\n        \"min\": -0.23651789445767657,\n        \"max\": 0.19818699146920774,\n        \"num_unique_values\": 1256,\n        \"samples\": [\n          0.002258262820491851,\n          -0.017736751939729612,\n          -0.03398134500612111\n        ],\n        \"semantic_type\": \"\",\n        \"description\": \"\"\n      }\n    },\n    {\n      \"column\": \"DIS\",\n      \"properties\": {\n        \"dtype\": \"number\",\n        \"std\": 0.021370891131348258,\n        \"min\": -0.14113918363169067,\n        \"max\": 0.13463855434001964,\n        \"num_unique_values\": 1252,\n        \"samples\": [\n          0.0490744616990231,\n          -0.0010465312357315504,\n          0.010956990616187256\n        ],\n        \"semantic_type\": \"\",\n        \"description\": \"\"\n      }\n    },\n    {\n      \"column\": \"NVDA\",\n      \"properties\": {\n        \"dtype\": \"number\",\n        \"std\": 0.033704492865592135,\n        \"min\": -0.2039791134417961,\n        \"max\": 0.2180878668187508,\n        \"num_unique_values\": 1255,\n        \"samples\": [\n          0.022166862004135025,\n          -0.004496900646029426,\n          0.10098717516601251\n        ],\n        \"semantic_type\": \"\",\n        \"description\": \"\"\n      }\n    },\n    {\n      \"column\": \"TGT\",\n      \"properties\": {\n        \"dtype\": \"number\",\n        \"std\": 0.02305436940699739,\n        \"min\": -0.28675333793087704,\n        \"max\": 0.16343030725525506,\n        \"num_unique_values\": 1255,\n        \"samples\": [\n          -0.0257070629576343,\n          0.008649881198752967,\n          0.09976875124508212\n        ],\n        \"semantic_type\": \"\",\n        \"description\": \"\"\n      }\n    },\n    {\n      \"column\": \"VZ\",\n      \"properties\": {\n        \"dtype\": \"number\",\n        \"std\": 0.013480392164063602,\n        \"min\": -0.07793770049957865,\n        \"max\": 0.08865598283727115,\n        \"num_unique_values\": 1239,\n        \"samples\": [\n          0.002528815140798459,\n          -0.0034989445345428587,\n          0.0015344959397589697\n        ],\n        \"semantic_type\": \"\",\n        \"description\": \"\"\n      }\n    }\n  ]\n}"
            }
          },
          "metadata": {},
          "execution_count": 15
        }
      ]
    },
    {
      "cell_type": "markdown",
      "source": [
        "## Find the betas of the stocks. The formula is shown below:"
      ],
      "metadata": {
        "id": "X8Lt-ASosRrr"
      }
    },
    {
      "cell_type": "code",
      "source": [
        "beta_aapl = (data[['Market','AAPL']].cov()/data['Market'].var()).iloc[0].iloc[1]\n",
        "beta_aapl"
      ],
      "metadata": {
        "id": "7SkE-X2NqCrf",
        "outputId": "78438d8b-53fc-49c2-d666-13827e07c723",
        "colab": {
          "base_uri": "https://localhost:8080/",
          "height": 0
        }
      },
      "execution_count": 16,
      "outputs": [
        {
          "output_type": "execute_result",
          "data": {
            "text/plain": [
              "np.float64(1.1898313471105408)"
            ]
          },
          "metadata": {},
          "execution_count": 16
        }
      ]
    },
    {
      "cell_type": "markdown",
      "source": [
        "### Calculate beta using regression line."
      ],
      "metadata": {
        "id": "QZoMVlkW_OCZ"
      }
    },
    {
      "cell_type": "code",
      "source": [
        "beta, alpha = np.polyfit(data['Market'], data['AAPL'], 1)\n",
        "alpha\n",
        "beta"
      ],
      "metadata": {
        "id": "VESiMNFiutMN",
        "outputId": "96e63787-d2ee-4583-8c3b-a31a4a097a7b",
        "colab": {
          "base_uri": "https://localhost:8080/",
          "height": 0
        }
      },
      "execution_count": 17,
      "outputs": [
        {
          "output_type": "execute_result",
          "data": {
            "text/plain": [
              "np.float64(1.1898313471105415)"
            ]
          },
          "metadata": {},
          "execution_count": 17
        }
      ]
    },
    {
      "cell_type": "code",
      "source": [
        "# plt.axvline(0, color='grey', alpha = 0.5)\n",
        "# plt.axhline(0, color='grey', alpha = 0.5)\n",
        "sns.scatterplot(y = 'Market', x = 'AAPL', data = data, color = 'red')\n",
        "plt.show()"
      ],
      "metadata": {
        "id": "zsV6vEOTuYgo",
        "outputId": "7d0dfa28-38d9-497e-9371-7371192ff243",
        "colab": {
          "base_uri": "https://localhost:8080/",
          "height": 474
        }
      },
      "execution_count": 18,
      "outputs": [
        {
          "output_type": "display_data",
          "data": {
            "text/plain": [
              "<Figure size 640x480 with 1 Axes>"
            ],
            "image/png": "[encoded data removed]"
          },
          "metadata": {}
        }
      ]
    },
    {
      "cell_type": "code",
      "source": [
        "sns.scatterplot(y = 'AAPL', x = 'Market', data = data, label = 'Returns')\n",
        "sns.lineplot(x = data['Market'], y = alpha + (data['Market']-alpha)*beta_aapl, color = 'maroon', label = 'CAPM Line')"
      ],
      "metadata": {
        "id": "W9chYaxvutTh",
        "outputId": "a286c642-c771-4727-9682-be7c0859943f",
        "colab": {
          "base_uri": "https://localhost:8080/",
          "height": 491
        }
      },
      "execution_count": 19,
      "outputs": [
        {
          "output_type": "execute_result",
          "data": {
            "text/plain": [
              "<Axes: xlabel='Market', ylabel='AAPL'>"
            ]
          },
          "metadata": {},
          "execution_count": 19
        },
        {
          "output_type": "display_data",
          "data": {
            "text/plain": [
              "<Figure size 640x480 with 1 Axes>"
            ],
            "image/png": "[encoded data removed]"
          },
          "metadata": {}
        }
      ]
    },
    {
      "cell_type": "markdown",
      "source": [
        "### Convert Daily Stock Market Returns to Annualized Returns (assuming 252 trading days in a year)."
      ],
      "metadata": {
        "id": "oSJH9H1HA-u1"
      }
    },
    {
      "cell_type": "code",
      "source": [
        "rm = data['Market'].mean()*252\n",
        "rm\n",
        "cov = data[['Market','AAPL']].cov() *252\n",
        "cov_aapl_market = cov.iloc[0,1]\n",
        "cov_aapl_market\n",
        "market_var = data['Market'].var()*252\n",
        "market_var\n",
        "\n",
        "AAPL_beta_annual = cov_aapl_market / market_var\n",
        "print('The annualized beta will equal the one calculated at daily returns:',AAPL_beta_annual)\n",
        "\n",
        "rf = 0.025\n",
        "riskpremium = rm - rf\n",
        "\n",
        "## CAPM\n",
        "AAPL_capm_return = rf + AAPL_beta_annual*riskpremium\n",
        "\n",
        "print(f\"The annualized CAPM return of AAPL is {AAPL_capm_return*100:.2f}%\")"
      ],
      "metadata": {
        "id": "BxV3yfCGutJo",
        "outputId": "981e4c87-9d4b-418b-d169-5291910054f9",
        "colab": {
          "base_uri": "https://localhost:8080/",
          "height": 0
        }
      },
      "execution_count": 20,
      "outputs": [
        {
          "output_type": "stream",
          "name": "stdout",
          "text": [
            "The annualized beta will equal the one calculated at daily returns: 1.1898313471105406\n",
            "The annualized CAPM return of AAPL is 15.49%\n"
          ]
        }
      ]
    },
    {
      "cell_type": "code",
      "source": [
        "sharperatio = (rm-rf)/(data['AAPL'].std()*np.sqrt(252))\n",
        "sharperatio\n",
        "print(f\"Sharpe Ratio: {round(sharperatio,4)}\")"
      ],
      "metadata": {
        "id": "iyFU2UnbwjOC",
        "colab": {
          "base_uri": "https://localhost:8080/",
          "height": 0
        },
        "outputId": "eef424f0-3ee5-4644-d631-da7793733996"
      },
      "execution_count": 21,
      "outputs": [
        {
          "output_type": "stream",
          "name": "stdout",
          "text": [
            "Sharpe Ratio: 0.345\n"
          ]
        }
      ]
    },
    {
      "cell_type": "code",
      "source": [
        "netflix = yf.Ticker(\"NFLX\")\n",
        "\n",
        "tickers = [\"SPY\", \"AAL\", \"ZM\", \"NFLX\", \"META\", 'AAPL']\n",
        "\n",
        "end_date = datetime.date.today().strftime('%Y-%m-%d')\n",
        "apple = yf.Ticker(\"AAPL\")\n",
        "AAPL = apple.history(start = \"2020-01-01\", end= \"2024-12-31\")\n",
        "\n",
        "for ticker in tickers:\n",
        "    globals()[ticker] = yf.Ticker(ticker)\n",
        "    globals()[ticker] = globals()[ticker].history(start = \"2020-01-01\", end= \"2024-12-31\")"
      ],
      "metadata": {
        "id": "elUcaXDewjLc"
      },
      "execution_count": 22,
      "outputs": []
    },
    {
      "cell_type": "code",
      "source": [
        "print(META.Close.mean())\n",
        "META.describe()"
      ],
      "metadata": {
        "id": "x2EraVpJwjJF",
        "colab": {
          "base_uri": "https://localhost:8080/",
          "height": 317
        },
        "outputId": "413e8c48-7137-40b6-e82e-a18d4bcbb5aa"
      },
      "execution_count": 23,
      "outputs": [
        {
          "output_type": "stream",
          "name": "stdout",
          "text": [
            "299.9754138421519\n"
          ]
        },
        {
          "output_type": "execute_result",
          "data": {
            "text/plain": [
              "              Open         High          Low        Close        Volume  \\\n",
              "count  1257.000000  1257.000000  1257.000000  1257.000000  1.257000e+03   \n",
              "mean    299.811909   304.029697   295.797742   299.975414  2.315541e+07   \n",
              "std     124.745251   125.702635   123.419958   124.602583  1.572882e+07   \n",
              "min      89.657445    90.035660    87.676774    88.492935  4.726100e+06   \n",
              "25%     207.860343   210.607429   205.541291   208.795944  1.453120e+07   \n",
              "50%     277.850462   283.892024   274.983974   279.512634  1.938320e+07   \n",
              "75%     345.003967   350.448326   341.570169   344.665588  2.711680e+07   \n",
              "max     630.430133   637.318434   626.147422   631.608093  2.323166e+08   \n",
              "\n",
              "         Dividends  Stock Splits  \n",
              "count  1257.000000        1257.0  \n",
              "mean      0.001591           0.0  \n",
              "std       0.028172           0.0  \n",
              "min       0.000000           0.0  \n",
              "25%       0.000000           0.0  \n",
              "50%       0.000000           0.0  \n",
              "75%       0.000000           0.0  \n",
              "max       0.500000           0.0  "
            ],
            "text/html": [
              "\n",
              "  <div id=\"df-4875539a-835b-4964-8a18-1c3121366d86\" class=\"colab-df-container\">\n",
              "    <div>\n",
              "<style scoped>\n",
              "    .dataframe tbody tr th:only-of-type {\n",
              "        vertical-align: middle;\n",
              "    }\n",
              "\n",
              "    .dataframe tbody tr th {\n",
              "        vertical-align: top;\n",
              "    }\n",
              "\n",
              "    .dataframe thead th {\n",
              "        text-align: right;\n",
              "    }\n",
              "</style>\n",
              "<table border=\"1\" class=\"dataframe\">\n",
              "  <thead>\n",
              "    <tr style=\"text-align: right;\">\n",
              "      <th></th>\n",
              "      <th>Open</th>\n",
              "      <th>High</th>\n",
              "      <th>Low</th>\n",
              "      <th>Close</th>\n",
              "      <th>Volume</th>\n",
              "      <th>Dividends</th>\n",
              "      <th>Stock Splits</th>\n",
              "    </tr>\n",
              "  </thead>\n",
              "  <tbody>\n",
              "    <tr>\n",
              "      <th>count</th>\n",
              "      <td>1257.000000</td>\n",
              "      <td>1257.000000</td>\n",
              "      <td>1257.000000</td>\n",
              "      <td>1257.000000</td>\n",
              "      <td>1.257000e+03</td>\n",
              "      <td>1257.000000</td>\n",
              "      <td>1257.0</td>\n",
              "    </tr>\n",
              "    <tr>\n",
              "      <th>mean</th>\n",
              "      <td>299.811909</td>\n",
              "      <td>304.029697</td>\n",
              "      <td>295.797742</td>\n",
              "      <td>299.975414</td>\n",
              "      <td>2.315541e+07</td>\n",
              "      <td>0.001591</td>\n",
              "      <td>0.0</td>\n",
              "    </tr>\n",
              "    <tr>\n",
              "      <th>std</th>\n",
              "      <td>124.745251</td>\n",
              "      <td>125.702635</td>\n",
              "      <td>123.419958</td>\n",
              "      <td>124.602583</td>\n",
              "      <td>1.572882e+07</td>\n",
              "      <td>0.028172</td>\n",
              "      <td>0.0</td>\n",
              "    </tr>\n",
              "    <tr>\n",
              "      <th>min</th>\n",
              "      <td>89.657445</td>\n",
              "      <td>90.035660</td>\n",
              "      <td>87.676774</td>\n",
              "      <td>88.492935</td>\n",
              "      <td>4.726100e+06</td>\n",
              "      <td>0.000000</td>\n",
              "      <td>0.0</td>\n",
              "    </tr>\n",
              "    <tr>\n",
              "      <th>25%</th>\n",
              "      <td>207.860343</td>\n",
              "      <td>210.607429</td>\n",
              "      <td>205.541291</td>\n",
              "      <td>208.795944</td>\n",
              "      <td>1.453120e+07</td>\n",
              "      <td>0.000000</td>\n",
              "      <td>0.0</td>\n",
              "    </tr>\n",
              "    <tr>\n",
              "      <th>50%</th>\n",
              "      <td>277.850462</td>\n",
              "      <td>283.892024</td>\n",
              "      <td>274.983974</td>\n",
              "      <td>279.512634</td>\n",
              "      <td>1.938320e+07</td>\n",
              "      <td>0.000000</td>\n",
              "      <td>0.0</td>\n",
              "    </tr>\n",
              "    <tr>\n",
              "      <th>75%</th>\n",
              "      <td>345.003967</td>\n",
              "      <td>350.448326</td>\n",
              "      <td>341.570169</td>\n",
              "      <td>344.665588</td>\n",
              "      <td>2.711680e+07</td>\n",
              "      <td>0.000000</td>\n",
              "      <td>0.0</td>\n",
              "    </tr>\n",
              "    <tr>\n",
              "      <th>max</th>\n",
              "      <td>630.430133</td>\n",
              "      <td>637.318434</td>\n",
              "      <td>626.147422</td>\n",
              "      <td>631.608093</td>\n",
              "      <td>2.323166e+08</td>\n",
              "      <td>0.500000</td>\n",
              "      <td>0.0</td>\n",
              "    </tr>\n",
              "  </tbody>\n",
              "</table>\n",
              "</div>\n",
              "    <div class=\"colab-df-buttons\">\n",
              "\n",
              "  <div class=\"colab-df-container\">\n",
              "    <button class=\"colab-df-convert\" onclick=\"convertToInteractive('df-4875539a-835b-4964-8a18-1c3121366d86')\"\n",
              "            title=\"Convert this dataframe to an interactive table.\"\n",
              "            style=\"display:none;\">\n",
              "\n",
              "  <svg xmlns=\"http://www.w3.org/2000/svg\" height=\"24px\" viewBox=\"0 -960 960 960\">\n",
              "    <path d=\"M120-120v-720h720v720H120Zm60-500h600v-160H180v160Zm220 220h160v-160H400v160Zm0 220h160v-160H400v160ZM180-400h160v-160H180v160Zm440 0h160v-160H620v160ZM180-180h160v-160H180v160Zm440 0h160v-160H620v160Z\"/>\n",
              "  </svg>\n",
              "    </button>\n",
              "\n",
              "  <style>\n",
              "    .colab-df-container {\n",
              "      display:flex;\n",
              "      gap: 12px;\n",
              "    }\n",
              "\n",
              "    .colab-df-convert {\n",
              "      background-color: #E8F0FE;\n",
              "      border: none;\n",
              "      border-radius: 50%;\n",
              "      cursor: pointer;\n",
              "      display: none;\n",
              "      fill: #1967D2;\n",
              "      height: 32px;\n",
              "      padding: 0 0 0 0;\n",
              "      width: 32px;\n",
              "    }\n",
              "\n",
              "    .colab-df-convert:hover {\n",
              "      background-color: #E2EBFA;\n",
              "      box-shadow: 0px 1px 2px rgba(60, 64, 67, 0.3), 0px 1px 3px 1px rgba(60, 64, 67, 0.15);\n",
              "      fill: #174EA6;\n",
              "    }\n",
              "\n",
              "    .colab-df-buttons div {\n",
              "      margin-bottom: 4px;\n",
              "    }\n",
              "\n",
              "    [theme=dark] .colab-df-convert {\n",
              "      background-color: #3B4455;\n",
              "      fill: #D2E3FC;\n",
              "    }\n",
              "\n",
              "    [theme=dark] .colab-df-convert:hover {\n",
              "      background-color: #434B5C;\n",
              "      box-shadow: 0px 1px 3px 1px rgba(0, 0, 0, 0.15);\n",
              "      filter: drop-shadow(0px 1px 2px rgba(0, 0, 0, 0.3));\n",
              "      fill: #FFFFFF;\n",
              "    }\n",
              "  </style>\n",
              "\n",
              "    <script>\n",
              "      const buttonEl =\n",
              "        document.querySelector('#df-4875539a-835b-4964-8a18-1c3121366d86 button.colab-df-convert');\n",
              "      buttonEl.style.display =\n",
              "        google.colab.kernel.accessAllowed ? 'block' : 'none';\n",
              "\n",
              "      async function convertToInteractive(key) {\n",
              "        const element = document.querySelector('#df-4875539a-835b-4964-8a18-1c3121366d86');\n",
              "        const dataTable =\n",
              "          await google.colab.kernel.invokeFunction('convertToInteractive',\n",
              "                                                    [key], {});\n",
              "        if (!dataTable) return;\n",
              "\n",
              "        const docLinkHtml = 'Like what you see? Visit the ' +\n",
              "          '<a target=\"_blank\" href=https://colab.research.google.com/notebooks/data_table.ipynb>data table notebook</a>'\n",
              "          + ' to learn more about interactive tables.';\n",
              "        element.innerHTML = '';\n",
              "        dataTable['output_type'] = 'display_data';\n",
              "        await google.colab.output.renderOutput(dataTable, element);\n",
              "        const docLink = document.createElement('div');\n",
              "        docLink.innerHTML = docLinkHtml;\n",
              "        element.appendChild(docLink);\n",
              "      }\n",
              "    </script>\n",
              "  </div>\n",
              "\n",
              "\n",
              "<div id=\"df-c53844b7-1f56-41bf-8c96-1ee9250a0295\">\n",
              "  <button class=\"colab-df-quickchart\" onclick=\"quickchart('df-c53844b7-1f56-41bf-8c96-1ee9250a0295')\"\n",
              "            title=\"Suggest charts\"\n",
              "            style=\"display:none;\">\n",
              "\n",
              "<svg xmlns=\"http://www.w3.org/2000/svg\" height=\"24px\"viewBox=\"0 0 24 24\"\n",
              "     width=\"24px\">\n",
              "    <g>\n",
              "        <path d=\"M19 3H5c-1.1 0-2 .9-2 2v14c0 1.1.9 2 2 2h14c1.1 0 2-.9 2-2V5c0-1.1-.9-2-2-2zM9 17H7v-7h2v7zm4 0h-2V7h2v10zm4 0h-2v-4h2v4z\"/>\n",
              "    </g>\n",
              "</svg>\n",
              "  </button>\n",
              "\n",
              "<style>\n",
              "  .colab-df-quickchart {\n",
              "      --bg-color: #E8F0FE;\n",
              "      --fill-color: #1967D2;\n",
              "      --hover-bg-color: #E2EBFA;\n",
              "      --hover-fill-color: #174EA6;\n",
              "      --disabled-fill-color: #AAA;\n",
              "      --disabled-bg-color: #DDD;\n",
              "  }\n",
              "\n",
              "  [theme=dark] .colab-df-quickchart {\n",
              "      --bg-color: #3B4455;\n",
              "      --fill-color: #D2E3FC;\n",
              "      --hover-bg-color: #434B5C;\n",
              "      --hover-fill-color: #FFFFFF;\n",
              "      --disabled-bg-color: #3B4455;\n",
              "      --disabled-fill-color: #666;\n",
              "  }\n",
              "\n",
              "  .colab-df-quickchart {\n",
              "    background-color: var(--bg-color);\n",
              "    border: none;\n",
              "    border-radius: 50%;\n",
              "    cursor: pointer;\n",
              "    display: none;\n",
              "    fill: var(--fill-color);\n",
              "    height: 32px;\n",
              "    padding: 0;\n",
              "    width: 32px;\n",
              "  }\n",
              "\n",
              "  .colab-df-quickchart:hover {\n",
              "    background-color: var(--hover-bg-color);\n",
              "    box-shadow: 0 1px 2px rgba(60, 64, 67, 0.3), 0 1px 3px 1px rgba(60, 64, 67, 0.15);\n",
              "    fill: var(--button-hover-fill-color);\n",
              "  }\n",
              "\n",
              "  .colab-df-quickchart-complete:disabled,\n",
              "  .colab-df-quickchart-complete:disabled:hover {\n",
              "    background-color: var(--disabled-bg-color);\n",
              "    fill: var(--disabled-fill-color);\n",
              "    box-shadow: none;\n",
              "  }\n",
              "\n",
              "  .colab-df-spinner {\n",
              "    border: 2px solid var(--fill-color);\n",
              "    border-color: transparent;\n",
              "    border-bottom-color: var(--fill-color);\n",
              "    animation:\n",
              "      spin 1s steps(1) infinite;\n",
              "  }\n",
              "\n",
              "  @keyframes spin {\n",
              "    0% {\n",
              "      border-color: transparent;\n",
              "      border-bottom-color: var(--fill-color);\n",
              "      border-left-color: var(--fill-color);\n",
              "    }\n",
              "    20% {\n",
              "      border-color: transparent;\n",
              "      border-left-color: var(--fill-color);\n",
              "      border-top-color: var(--fill-color);\n",
              "    }\n",
              "    30% {\n",
              "      border-color: transparent;\n",
              "      border-left-color: var(--fill-color);\n",
              "      border-top-color: var(--fill-color);\n",
              "      border-right-color: var(--fill-color);\n",
              "    }\n",
              "    40% {\n",
              "      border-color: transparent;\n",
              "      border-right-color: var(--fill-color);\n",
              "      border-top-color: var(--fill-color);\n",
              "    }\n",
              "    60% {\n",
              "      border-color: transparent;\n",
              "      border-right-color: var(--fill-color);\n",
              "    }\n",
              "    80% {\n",
              "      border-color: transparent;\n",
              "      border-right-color: var(--fill-color);\n",
              "      border-bottom-color: var(--fill-color);\n",
              "    }\n",
              "    90% {\n",
              "      border-color: transparent;\n",
              "      border-bottom-color: var(--fill-color);\n",
              "    }\n",
              "  }\n",
              "</style>\n",
              "\n",
              "  <script>\n",
              "    async function quickchart(key) {\n",
              "      const quickchartButtonEl =\n",
              "        document.querySelector('#' + key + ' button');\n",
              "      quickchartButtonEl.disabled = true;  // To prevent multiple clicks.\n",
              "      quickchartButtonEl.classList.add('colab-df-spinner');\n",
              "      try {\n",
              "        const charts = await google.colab.kernel.invokeFunction(\n",
              "            'suggestCharts', [key], {});\n",
              "      } catch (error) {\n",
              "        console.error('Error during call to suggestCharts:', error);\n",
              "      }\n",
              "      quickchartButtonEl.classList.remove('colab-df-spinner');\n",
              "      quickchartButtonEl.classList.add('colab-df-quickchart-complete');\n",
              "    }\n",
              "    (() => {\n",
              "      let quickchartButtonEl =\n",
              "        document.querySelector('#df-c53844b7-1f56-41bf-8c96-1ee9250a0295 button');\n",
              "      quickchartButtonEl.style.display =\n",
              "        google.colab.kernel.accessAllowed ? 'block' : 'none';\n",
              "    })();\n",
              "  </script>\n",
              "</div>\n",
              "\n",
              "    </div>\n",
              "  </div>\n"
            ],
            "application/vnd.google.colaboratory.intrinsic+json": {
              "type": "dataframe",
              "summary": "{\n  \"name\": \"META\",\n  \"rows\": 8,\n  \"fields\": [\n    {\n      \"column\": \"Open\",\n      \"properties\": {\n        \"dtype\": \"number\",\n        \"std\": 382.5467677421256,\n        \"min\": 89.65744499802331,\n        \"max\": 1257.0,\n        \"num_unique_values\": 8,\n        \"samples\": [\n          299.8119089776115,\n          277.8504623596669,\n          1257.0\n        ],\n        \"semantic_type\": \"\",\n        \"description\": \"\"\n      }\n    },\n    {\n      \"column\": \"High\",\n      \"properties\": {\n        \"dtype\": \"number\",\n        \"std\": 382.2240595072363,\n        \"min\": 90.03565971999477,\n        \"max\": 1257.0,\n        \"num_unique_values\": 8,\n        \"samples\": [\n          304.02969718540834,\n          283.8920244882496,\n          1257.0\n        ],\n        \"semantic_type\": \"\",\n        \"description\": \"\"\n      }\n    },\n    {\n      \"column\": \"Low\",\n      \"properties\": {\n        \"dtype\": \"number\",\n        \"std\": 383.0947125893819,\n        \"min\": 87.67677376490204,\n        \"max\": 1257.0,\n        \"num_unique_values\": 8,\n        \"samples\": [\n          295.7977421083837,\n          274.98397390963555,\n          1257.0\n        ],\n        \"semantic_type\": \"\",\n        \"description\": \"\"\n      }\n    },\n    {\n      \"column\": \"Close\",\n      \"properties\": {\n        \"dtype\": \"number\",\n        \"std\": 382.65325653165655,\n        \"min\": 88.49293518066406,\n        \"max\": 1257.0,\n        \"num_unique_values\": 8,\n        \"samples\": [\n          299.9754138421519,\n          279.51263427734375,\n          1257.0\n        ],\n        \"semantic_type\": \"\",\n        \"description\": \"\"\n      }\n    },\n    {\n      \"column\": \"Volume\",\n      \"properties\": {\n        \"dtype\": \"number\",\n        \"std\": 77373296.67712471,\n        \"min\": 1257.0,\n        \"max\": 232316600.0,\n        \"num_unique_values\": 8,\n        \"samples\": [\n          23155408.353221957,\n          19383200.0,\n          1257.0\n        ],\n        \"semantic_type\": \"\",\n        \"description\": \"\"\n      }\n    },\n    {\n      \"column\": \"Dividends\",\n      \"properties\": {\n        \"dtype\": \"number\",\n        \"std\": 444.38988878138554,\n        \"min\": 0.0,\n        \"max\": 1257.0,\n        \"num_unique_values\": 5,\n        \"samples\": [\n          0.0015910898965791568,\n          0.5,\n          0.028171701427339768\n        ],\n        \"semantic_type\": \"\",\n        \"description\": \"\"\n      }\n    },\n    {\n      \"column\": \"Stock Splits\",\n      \"properties\": {\n        \"dtype\": \"number\",\n        \"std\": 444.4166119757451,\n        \"min\": 0.0,\n        \"max\": 1257.0,\n        \"num_unique_values\": 2,\n        \"samples\": [\n          0.0,\n          1257.0\n        ],\n        \"semantic_type\": \"\",\n        \"description\": \"\"\n      }\n    }\n  ]\n}"
            }
          },
          "metadata": {},
          "execution_count": 23
        }
      ]
    },
    {
      "cell_type": "markdown",
      "source": [
        "For NFLX"
      ],
      "metadata": {
        "id": "PPUJLPVCQhEN"
      }
    },
    {
      "cell_type": "code",
      "source": [
        "# print(NFLX)\n",
        "# print(NFLX.shift(1))"
      ],
      "metadata": {
        "id": "FuxqBGP2wjGj"
      },
      "execution_count": 24,
      "outputs": []
    },
    {
      "cell_type": "code",
      "source": [
        "beta_nflx = (data[['Market','NFLX']].cov()/data['Market'].var()).iloc[0].iloc[1]\n",
        "beta_nflx"
      ],
      "metadata": {
        "colab": {
          "base_uri": "https://localhost:8080/",
          "height": 0
        },
        "id": "P1TC2hm3aq5c",
        "outputId": "15fe26d4-6605-447a-ec60-9ee7cddb71ff"
      },
      "execution_count": 25,
      "outputs": [
        {
          "output_type": "execute_result",
          "data": {
            "text/plain": [
              "np.float64(1.0479750767744709)"
            ]
          },
          "metadata": {},
          "execution_count": 25
        }
      ]
    },
    {
      "cell_type": "code",
      "source": [
        "beta, nflx = np.polyfit(data['Market'], data['NFLX'], 1)\n",
        "alpha\n",
        "beta"
      ],
      "metadata": {
        "colab": {
          "base_uri": "https://localhost:8080/",
          "height": 0
        },
        "id": "ws_smImBaqs_",
        "outputId": "128c4294-dae4-4e91-a640-cb5b5540b3a2"
      },
      "execution_count": 26,
      "outputs": [
        {
          "output_type": "execute_result",
          "data": {
            "text/plain": [
              "np.float64(1.047975076774471)"
            ]
          },
          "metadata": {},
          "execution_count": 26
        }
      ]
    },
    {
      "cell_type": "code",
      "source": [
        "rm = data['Market'].mean()*252\n",
        "rm\n",
        "cov = data[['Market','NFLX']].cov() *252\n",
        "cov_nflx_market = cov.iloc[0,1]\n",
        "cov_nflx_market\n",
        "market_var = data['Market'].var()*252\n",
        "market_var\n",
        "\n",
        "NFLX_beta_annual = cov_nflx_market / market_var\n",
        "print('The annualized beta will equal the one calculated at daily returns:',NFLX_beta_annual)\n",
        "\n",
        "rf = 0.025\n",
        "riskpremium = rm - rf\n",
        "\n",
        "## CAPM\n",
        "NFLX_capm_return = rf + NFLX_beta_annual*riskpremium\n",
        "\n",
        "print(f\"The annualized CAPM return of NFLX is {NFLX_capm_return*100:.2f}%\")"
      ],
      "metadata": {
        "colab": {
          "base_uri": "https://localhost:8080/",
          "height": 0
        },
        "id": "x9YV4YOmbTvl",
        "outputId": "0c7075e5-13cd-4ab3-bcc9-7a5f548cbe98"
      },
      "execution_count": 27,
      "outputs": [
        {
          "output_type": "stream",
          "name": "stdout",
          "text": [
            "The annualized beta will equal the one calculated at daily returns: 1.047975076774471\n",
            "The annualized CAPM return of NFLX is 13.94%\n"
          ]
        }
      ]
    },
    {
      "cell_type": "code",
      "source": [
        "sharperatio = (rm-rf)/(data['NFLX'].std()*np.sqrt(252))\n",
        "sharperatio\n",
        "print(f\"Sharpe Ratio: {round(sharperatio,4)}\")"
      ],
      "metadata": {
        "colab": {
          "base_uri": "https://localhost:8080/",
          "height": 0
        },
        "id": "92IokdWAbuSK",
        "outputId": "86eedcb0-c6fe-47d8-def4-8624173b996e"
      },
      "execution_count": 28,
      "outputs": [
        {
          "output_type": "stream",
          "name": "stdout",
          "text": [
            "Sharpe Ratio: 0.233\n"
          ]
        }
      ]
    },
    {
      "cell_type": "markdown",
      "source": [
        "For AAL"
      ],
      "metadata": {
        "id": "AsKk4K_WQds5"
      }
    },
    {
      "cell_type": "code",
      "source": [
        "# print(AAL)\n",
        "# print(AAL.shift(1))"
      ],
      "metadata": {
        "id": "0YXIlwYbOQpF"
      },
      "execution_count": 29,
      "outputs": []
    },
    {
      "cell_type": "code",
      "source": [
        "beta_aal = (data[['Market','AAL']].cov()/data['Market'].var()).iloc[0].iloc[1]\n",
        "beta_aal"
      ],
      "metadata": {
        "colab": {
          "base_uri": "https://localhost:8080/",
          "height": 0
        },
        "id": "kvRP1O48PYWG",
        "outputId": "4045e037-5f56-4bdc-d145-3b4961da0a44"
      },
      "execution_count": 30,
      "outputs": [
        {
          "output_type": "execute_result",
          "data": {
            "text/plain": [
              "np.float64(1.4080149785466345)"
            ]
          },
          "metadata": {},
          "execution_count": 30
        }
      ]
    },
    {
      "cell_type": "code",
      "source": [
        "rm = data['Market'].mean()*252\n",
        "rm\n",
        "cov = data[['Market','AAL']].cov() *252\n",
        "cov_aal_market = cov.iloc[0,1]\n",
        "cov_aal_market\n",
        "market_var = data['Market'].var()*252\n",
        "market_var\n",
        "\n",
        "AAL_beta_annual = cov_aal_market / market_var\n",
        "print('The annualized beta will equal the one calculated at daily returns:',AAL_beta_annual)\n",
        "\n",
        "rf = 0.025\n",
        "riskpremium = rm - rf\n",
        "\n",
        "## CAPM\n",
        "AAL_capm_return = rf + NFLX_beta_annual*riskpremium\n",
        "\n",
        "print(f\"The annualized CAPM return of AAL is {AAL_capm_return*100:.2f}%\")"
      ],
      "metadata": {
        "colab": {
          "base_uri": "https://localhost:8080/",
          "height": 0
        },
        "id": "GEXcP48aO-36",
        "outputId": "4c7e1542-81ff-4546-9bfd-3b0a8e7c084f"
      },
      "execution_count": 31,
      "outputs": [
        {
          "output_type": "stream",
          "name": "stdout",
          "text": [
            "The annualized beta will equal the one calculated at daily returns: 1.4080149785466345\n",
            "The annualized CAPM return of AAL is 13.94%\n"
          ]
        }
      ]
    },
    {
      "cell_type": "code",
      "source": [
        "sharperatio = (rm-rf)/(data['AAL'].std()*np.sqrt(252))\n",
        "sharperatio\n",
        "print(f\"Sharpe Ratio: {round(sharperatio,4)}\")"
      ],
      "metadata": {
        "colab": {
          "base_uri": "https://localhost:8080/",
          "height": 0
        },
        "id": "RzV47k3hQWpD",
        "outputId": "4a0c7b87-9813-48fc-c070-e69cc9ac56fd"
      },
      "execution_count": 32,
      "outputs": [
        {
          "output_type": "stream",
          "name": "stdout",
          "text": [
            "Sharpe Ratio: 0.1782\n"
          ]
        }
      ]
    },
    {
      "cell_type": "markdown",
      "source": [
        "For META"
      ],
      "metadata": {
        "id": "44S0cZG4QkWe"
      }
    },
    {
      "cell_type": "code",
      "source": [
        "# print(META)\n",
        "# print(META.shift(1))"
      ],
      "metadata": {
        "id": "4yvMDG_HQrPy"
      },
      "execution_count": 33,
      "outputs": []
    },
    {
      "cell_type": "code",
      "source": [
        "beta_meta = (data[['Market','META']].cov()/data['Market'].var()).iloc[0].iloc[1]\n",
        "beta_meta"
      ],
      "metadata": {
        "colab": {
          "base_uri": "https://localhost:8080/",
          "height": 0
        },
        "id": "4C57efBsQwL7",
        "outputId": "b1836793-87dc-403f-e0ba-5d5badd261c9"
      },
      "execution_count": 34,
      "outputs": [
        {
          "output_type": "execute_result",
          "data": {
            "text/plain": [
              "np.float64(1.329129278164332)"
            ]
          },
          "metadata": {},
          "execution_count": 34
        }
      ]
    },
    {
      "cell_type": "code",
      "source": [
        "rm = data['Market'].mean()*252\n",
        "rm\n",
        "cov = data[['Market','META']].cov() *252\n",
        "cov_meta_market = cov.iloc[0,1]\n",
        "cov_meta_market\n",
        "market_var = data['Market'].var()*252\n",
        "market_var\n",
        "\n",
        "META_beta_annual = cov_meta_market / market_var\n",
        "print('The annualized beta will equal the one calculated at daily returns:',META_beta_annual)\n",
        "\n",
        "rf = 0.025\n",
        "riskpremium = rm - rf\n",
        "\n",
        "## CAPM\n",
        "META_capm_return = rf + META_beta_annual*riskpremium\n",
        "\n",
        "print(f\"The annualized CAPM return of META is {META_capm_return*100:.2f}%\")"
      ],
      "metadata": {
        "colab": {
          "base_uri": "https://localhost:8080/",
          "height": 0
        },
        "id": "31sK4DrMQ6MI",
        "outputId": "3c438ac1-dc0e-4b25-b3fd-6ffc0730d3da"
      },
      "execution_count": 35,
      "outputs": [
        {
          "output_type": "stream",
          "name": "stdout",
          "text": [
            "The annualized beta will equal the one calculated at daily returns: 1.329129278164332\n",
            "The annualized CAPM return of META is 17.01%\n"
          ]
        }
      ]
    },
    {
      "cell_type": "code",
      "source": [
        "sharperatio = (rm-rf)/(data['META'].std()*np.sqrt(252))\n",
        "sharperatio\n",
        "print(f\"Sharpe Ratio: {round(sharperatio,4)}\")"
      ],
      "metadata": {
        "colab": {
          "base_uri": "https://localhost:8080/",
          "height": 0
        },
        "id": "l7yZBENqWVrq",
        "outputId": "f66f5d97-91d7-41df-98f4-642f17d5f0e1"
      },
      "execution_count": 36,
      "outputs": [
        {
          "output_type": "stream",
          "name": "stdout",
          "text": [
            "Sharpe Ratio: 0.2405\n"
          ]
        }
      ]
    },
    {
      "cell_type": "markdown",
      "source": [
        "For ZM"
      ],
      "metadata": {
        "id": "_cqXcw0FRSUU"
      }
    },
    {
      "cell_type": "code",
      "source": [
        "# print(ZM)\n",
        "# print(ZM.shift(1))"
      ],
      "metadata": {
        "id": "FHFHvtgqRVAu"
      },
      "execution_count": 37,
      "outputs": []
    },
    {
      "cell_type": "code",
      "source": [
        "beta_zm = (data[['Market','ZM']].cov()/data['Market'].var()).iloc[0].iloc[1]\n",
        "beta_zm"
      ],
      "metadata": {
        "colab": {
          "base_uri": "https://localhost:8080/",
          "height": 0
        },
        "id": "I7Z2aTJ7UbvG",
        "outputId": "850fb39e-87e2-4126-acc1-fe2b0995e6aa"
      },
      "execution_count": 38,
      "outputs": [
        {
          "output_type": "execute_result",
          "data": {
            "text/plain": [
              "np.float64(0.6245571535454274)"
            ]
          },
          "metadata": {},
          "execution_count": 38
        }
      ]
    },
    {
      "cell_type": "code",
      "source": [
        "rm = data['Market'].mean()*252\n",
        "rm\n",
        "cov = data[['Market','ZM']].cov() *252\n",
        "cov_zm_market = cov.iloc[0,1]\n",
        "cov_zm_market\n",
        "market_var = data['Market'].var()*252\n",
        "market_var\n",
        "\n",
        "ZM_beta_annual = cov_zm_market / market_var\n",
        "print('The annualized beta will equal the one calculated at daily returns:',ZM_beta_annual)\n",
        "\n",
        "rf = 0.025\n",
        "riskpremium = rm - rf\n",
        "\n",
        "## CAPM\n",
        "ZM_capm_return = rf + ZM_beta_annual*riskpremium\n",
        "\n",
        "print(f\"The annualized CAPM return of ZM is {ZM_capm_return*100:.2f}%\")"
      ],
      "metadata": {
        "colab": {
          "base_uri": "https://localhost:8080/",
          "height": 0
        },
        "id": "nk5Bz3H_Un0K",
        "outputId": "eae4f098-dc7e-4e7c-a643-e79846e5b139"
      },
      "execution_count": 39,
      "outputs": [
        {
          "output_type": "stream",
          "name": "stdout",
          "text": [
            "The annualized beta will equal the one calculated at daily returns: 0.6245571535454274\n",
            "The annualized CAPM return of ZM is 9.32%\n"
          ]
        }
      ]
    },
    {
      "cell_type": "code",
      "source": [
        "sharperatio = (rm-rf)/(data['ZM'].std()*np.sqrt(252))\n",
        "sharperatio\n",
        "print(f\"Sharpe Ratio: {round(sharperatio,4)}\")"
      ],
      "metadata": {
        "colab": {
          "base_uri": "https://localhost:8080/",
          "height": 0
        },
        "id": "EZwmNr9SWZIP",
        "outputId": "f65b088f-9677-4227-8602-c6173fb3633d"
      },
      "execution_count": 40,
      "outputs": [
        {
          "output_type": "stream",
          "name": "stdout",
          "text": [
            "Sharpe Ratio: 0.1928\n"
          ]
        }
      ]
    },
    {
      "cell_type": "markdown",
      "source": [
        "For TSLA"
      ],
      "metadata": {
        "id": "gLJtLErWUzrt"
      }
    },
    {
      "cell_type": "code",
      "source": [
        "# print(TSLA)\n",
        "# print(TSLA.shift(1))"
      ],
      "metadata": {
        "id": "LK3mVL6kU1c7"
      },
      "execution_count": 41,
      "outputs": []
    },
    {
      "cell_type": "code",
      "source": [
        "beta_tsla = (data[['Market','TSLA']].cov()/data['Market'].var()).iloc[0].iloc[1]\n",
        "beta_tsla"
      ],
      "metadata": {
        "colab": {
          "base_uri": "https://localhost:8080/",
          "height": 0
        },
        "id": "YClPke31U56H",
        "outputId": "458e1dd8-27c6-4ca5-de8e-8d77fbc4b557"
      },
      "execution_count": 42,
      "outputs": [
        {
          "output_type": "execute_result",
          "data": {
            "text/plain": [
              "np.float64(1.6257709003458025)"
            ]
          },
          "metadata": {},
          "execution_count": 42
        }
      ]
    },
    {
      "cell_type": "code",
      "source": [
        "rm = data['Market'].mean()*252\n",
        "rm\n",
        "cov = data[['Market','TSLA']].cov() *252\n",
        "cov_tsla_market = cov.iloc[0,1]\n",
        "cov_tsla_market\n",
        "market_var = data['Market'].var()*252\n",
        "market_var\n",
        "\n",
        "TSLA_beta_annual = cov_zm_market / market_var\n",
        "print('The annualized beta will equal the one calculated at daily returns:',TSLA_beta_annual)\n",
        "\n",
        "rf = 0.025\n",
        "riskpremium = rm - rf\n",
        "\n",
        "## CAPM\n",
        "TSLA_capm_return = rf + TSLA_beta_annual*riskpremium\n",
        "\n",
        "print(f\"The annualized CAPM return of TSLA is {TSLA_capm_return*100:.2f}%\")"
      ],
      "metadata": {
        "colab": {
          "base_uri": "https://localhost:8080/",
          "height": 0
        },
        "id": "2eQuYuYvU_Pn",
        "outputId": "0d26a2bf-3063-43aa-b60e-5350cc91d591"
      },
      "execution_count": 43,
      "outputs": [
        {
          "output_type": "stream",
          "name": "stdout",
          "text": [
            "The annualized beta will equal the one calculated at daily returns: 0.6245571535454274\n",
            "The annualized CAPM return of TSLA is 9.32%\n"
          ]
        }
      ]
    },
    {
      "cell_type": "code",
      "source": [
        "sharperatio = (rm-rf)/(data['TSLA'].std()*np.sqrt(252))\n",
        "sharperatio\n",
        "print(f\"Sharpe Ratio: {round(sharperatio,4)}\")"
      ],
      "metadata": {
        "colab": {
          "base_uri": "https://localhost:8080/",
          "height": 0
        },
        "id": "QkiBYearWglH",
        "outputId": "a071199a-82ba-43e5-d81a-9b41f8c555e8"
      },
      "execution_count": 44,
      "outputs": [
        {
          "output_type": "stream",
          "name": "stdout",
          "text": [
            "Sharpe Ratio: 0.163\n"
          ]
        }
      ]
    },
    {
      "cell_type": "markdown",
      "source": [
        "For DIS"
      ],
      "metadata": {
        "id": "JOGhdw1ZVd7T"
      }
    },
    {
      "cell_type": "code",
      "source": [
        "# print(DIS)\n",
        "# print(DIS.shift(1))"
      ],
      "metadata": {
        "id": "nc-CQxLzVfHY"
      },
      "execution_count": 45,
      "outputs": []
    },
    {
      "cell_type": "code",
      "source": [
        "beta_dis = (data[['Market','DIS']].cov()/data['Market'].var()).iloc[0].iloc[1]\n",
        "beta_dis"
      ],
      "metadata": {
        "colab": {
          "base_uri": "https://localhost:8080/",
          "height": 0
        },
        "id": "O2mcXtlLVfcM",
        "outputId": "7c18748c-a0b6-469b-ae6c-493af430c8cc"
      },
      "execution_count": 46,
      "outputs": [
        {
          "output_type": "execute_result",
          "data": {
            "text/plain": [
              "np.float64(1.0526028347052925)"
            ]
          },
          "metadata": {},
          "execution_count": 46
        }
      ]
    },
    {
      "cell_type": "code",
      "source": [
        "rm = data['Market'].mean()*252\n",
        "rm\n",
        "cov = data[['Market','DIS']].cov() *252\n",
        "cov_dis_market = cov.iloc[0,1]\n",
        "cov_dis_market\n",
        "market_var = data['Market'].var()*252\n",
        "market_var\n",
        "\n",
        "DIS_beta_annual = cov_zm_market / market_var\n",
        "print('The annualized beta will equal the one calculated at daily returns:',DIS_beta_annual)\n",
        "\n",
        "rf = 0.025\n",
        "riskpremium = rm - rf\n",
        "\n",
        "## CAPM\n",
        "DIS_capm_return = rf + DIS_beta_annual*riskpremium\n",
        "\n",
        "print(f\"The annualized CAPM return of DIS is {DIS_capm_return*100:.2f}%\")"
      ],
      "metadata": {
        "colab": {
          "base_uri": "https://localhost:8080/",
          "height": 0
        },
        "id": "Sv2AoAYiVfKu",
        "outputId": "aac8bd3a-78d9-46f4-ae18-8a5bd4991f7c"
      },
      "execution_count": 47,
      "outputs": [
        {
          "output_type": "stream",
          "name": "stdout",
          "text": [
            "The annualized beta will equal the one calculated at daily returns: 0.6245571535454274\n",
            "The annualized CAPM return of DIS is 9.32%\n"
          ]
        }
      ]
    },
    {
      "cell_type": "code",
      "source": [
        "sharperatio = (rm-rf)/(data['DIS'].std()*np.sqrt(252))\n",
        "sharperatio\n",
        "print(f\"Sharpe Ratio: {round(sharperatio,4)}\")"
      ],
      "metadata": {
        "colab": {
          "base_uri": "https://localhost:8080/",
          "height": 0
        },
        "id": "1hLFeruoWlDo",
        "outputId": "9018593e-7ef7-43da-ed8e-eedb8be25f56"
      },
      "execution_count": 48,
      "outputs": [
        {
          "output_type": "stream",
          "name": "stdout",
          "text": [
            "Sharpe Ratio: 0.3218\n"
          ]
        }
      ]
    },
    {
      "cell_type": "markdown",
      "source": [
        "For NVDA"
      ],
      "metadata": {
        "id": "7xy5MBGHWxRI"
      }
    },
    {
      "cell_type": "code",
      "source": [
        "# print(NVDA)\n",
        "# print(NVDA.shift(1))"
      ],
      "metadata": {
        "id": "ix3P3XBVW1cJ"
      },
      "execution_count": 49,
      "outputs": []
    },
    {
      "cell_type": "code",
      "source": [
        "beta_nvda = (data[['Market','NVDA']].cov()/data['Market'].var()).iloc[0].iloc[1]\n",
        "beta_nvda"
      ],
      "metadata": {
        "colab": {
          "base_uri": "https://localhost:8080/",
          "height": 0
        },
        "id": "08T1ycx2W7DH",
        "outputId": "8b04f16c-0f4f-46e2-dc6d-67799cdde296"
      },
      "execution_count": 50,
      "outputs": [
        {
          "output_type": "execute_result",
          "data": {
            "text/plain": [
              "np.float64(1.7816150153760288)"
            ]
          },
          "metadata": {},
          "execution_count": 50
        }
      ]
    },
    {
      "cell_type": "code",
      "source": [
        "rm = data['Market'].mean()*252\n",
        "rm\n",
        "cov = data[['Market','NVDA']].cov() *252\n",
        "cov_nvda_market = cov.iloc[0,1]\n",
        "cov_nvda_market\n",
        "market_var = data['Market'].var()*252\n",
        "market_var\n",
        "\n",
        "NVDA_beta_annual = cov_zm_market / market_var\n",
        "print('The annualized beta will equal the one calculated at daily returns:',NVDA_beta_annual)\n",
        "\n",
        "rf = 0.025\n",
        "riskpremium = rm - rf\n",
        "\n",
        "## CAPM\n",
        "NVDA_capm_return = rf + NVDA_beta_annual*riskpremium\n",
        "\n",
        "print(f\"The annualized CAPM return of NVDA is {NVDA_capm_return*100:.2f}%\")"
      ],
      "metadata": {
        "colab": {
          "base_uri": "https://localhost:8080/",
          "height": 0
        },
        "id": "A7M02QNLXC9k",
        "outputId": "8f05ac37-7ad0-4f67-b7b8-87bfde5e400e"
      },
      "execution_count": 51,
      "outputs": [
        {
          "output_type": "stream",
          "name": "stdout",
          "text": [
            "The annualized beta will equal the one calculated at daily returns: 0.6245571535454274\n",
            "The annualized CAPM return of NVDA is 9.32%\n"
          ]
        }
      ]
    },
    {
      "cell_type": "code",
      "source": [
        "sharperatio = (rm-rf)/(data['NVDA'].std()*np.sqrt(252))\n",
        "sharperatio\n",
        "print(f\"Sharpe Ratio: {round(sharperatio,4)}\")"
      ],
      "metadata": {
        "colab": {
          "base_uri": "https://localhost:8080/",
          "height": 0
        },
        "id": "20fVEPtcXfrC",
        "outputId": "0b5968fc-e8a5-42d6-faa4-b3b3d4ae2333"
      },
      "execution_count": 52,
      "outputs": [
        {
          "output_type": "stream",
          "name": "stdout",
          "text": [
            "Sharpe Ratio: 0.2041\n"
          ]
        }
      ]
    },
    {
      "cell_type": "markdown",
      "source": [
        "For TGT"
      ],
      "metadata": {
        "id": "cKV_nPqPXjpU"
      }
    },
    {
      "cell_type": "code",
      "source": [
        "# print(TGT)\n",
        "# print(TGT.shift(1))"
      ],
      "metadata": {
        "id": "OS-MwkjbXlBg"
      },
      "execution_count": 53,
      "outputs": []
    },
    {
      "cell_type": "code",
      "source": [
        "beta_tgt = (data[['Market','TGT']].cov()/data['Market'].var()).iloc[0].iloc[1]\n",
        "beta_tgt"
      ],
      "metadata": {
        "colab": {
          "base_uri": "https://localhost:8080/",
          "height": 0
        },
        "id": "18KEEr-NXo1l",
        "outputId": "026eb473-5f60-45b0-e251-4c614f06bcfe"
      },
      "execution_count": 54,
      "outputs": [
        {
          "output_type": "execute_result",
          "data": {
            "text/plain": [
              "np.float64(0.8400174298618698)"
            ]
          },
          "metadata": {},
          "execution_count": 54
        }
      ]
    },
    {
      "cell_type": "code",
      "source": [
        "rm = data['Market'].mean()*252\n",
        "rm\n",
        "cov = data[['Market','TGT']].cov() *252\n",
        "cov_tgt_market = cov.iloc[0,1]\n",
        "cov_tgt_market\n",
        "market_var = data['Market'].var()*252\n",
        "market_var\n",
        "\n",
        "TGT_beta_annual = cov_zm_market / market_var\n",
        "print('The annualized beta will equal the one calculated at daily returns:',TGT_beta_annual)\n",
        "\n",
        "rf = 0.025\n",
        "riskpremium = rm - rf\n",
        "\n",
        "## CAPM\n",
        "TGT_capm_return = rf + TGT_beta_annual*riskpremium\n",
        "\n",
        "print(f\"The annualized CAPM return of TGT is {TGT_capm_return*100:.2f}%\")"
      ],
      "metadata": {
        "colab": {
          "base_uri": "https://localhost:8080/",
          "height": 0
        },
        "id": "RytHCq8hXthd",
        "outputId": "9a54a24c-ee01-4fc2-de40-49c3fb08ca69"
      },
      "execution_count": 55,
      "outputs": [
        {
          "output_type": "stream",
          "name": "stdout",
          "text": [
            "The annualized beta will equal the one calculated at daily returns: 0.6245571535454274\n",
            "The annualized CAPM return of TGT is 9.32%\n"
          ]
        }
      ]
    },
    {
      "cell_type": "code",
      "source": [
        "sharperatio = (rm-rf)/(data['TGT'].std()*np.sqrt(252))\n",
        "sharperatio\n",
        "print(f\"Sharpe Ratio: {round(sharperatio,4)}\")"
      ],
      "metadata": {
        "colab": {
          "base_uri": "https://localhost:8080/",
          "height": 0
        },
        "id": "UoKrGiAYX9G5",
        "outputId": "79001f20-84fc-4701-a1c6-565ac54f1da6"
      },
      "execution_count": 56,
      "outputs": [
        {
          "output_type": "stream",
          "name": "stdout",
          "text": [
            "Sharpe Ratio: 0.2983\n"
          ]
        }
      ]
    },
    {
      "cell_type": "markdown",
      "source": [
        "For VZ"
      ],
      "metadata": {
        "id": "1rL5rIrOYELN"
      }
    },
    {
      "cell_type": "code",
      "source": [
        "# print(VZ)\n",
        "# print(VZ.shift(1))"
      ],
      "metadata": {
        "id": "sJupvc-XYImN"
      },
      "execution_count": 57,
      "outputs": []
    },
    {
      "cell_type": "code",
      "source": [
        "beta_vz = (data[['Market','VZ']].cov()/data['Market'].var()).iloc[0].iloc[1]\n",
        "beta_vz"
      ],
      "metadata": {
        "colab": {
          "base_uri": "https://localhost:8080/",
          "height": 0
        },
        "id": "OEXwREwMYMmy",
        "outputId": "b1c4671e-25e3-4576-efbc-d55ede1bd9fd"
      },
      "execution_count": 58,
      "outputs": [
        {
          "output_type": "execute_result",
          "data": {
            "text/plain": [
              "np.float64(0.4243580409052066)"
            ]
          },
          "metadata": {},
          "execution_count": 58
        }
      ]
    },
    {
      "cell_type": "code",
      "source": [
        "rm = data['Market'].mean()*252\n",
        "rm\n",
        "cov = data[['Market','TGT']].cov() *252\n",
        "cov_vz_market = cov.iloc[0,1]\n",
        "cov_vz_market\n",
        "market_var = data['Market'].var()*252\n",
        "market_var\n",
        "\n",
        "VZ_beta_annual = cov_zm_market / market_var\n",
        "print('The annualized beta will equal the one calculated at daily returns:',VZ_beta_annual)\n",
        "\n",
        "rf = 0.025\n",
        "riskpremium = rm - rf\n",
        "\n",
        "## CAPM\n",
        "VZ_capm_return = rf + VZ_beta_annual*riskpremium\n",
        "\n",
        "print(f\"The annualized CAPM return of VZ is {VZ_capm_return*100:.2f}%\")"
      ],
      "metadata": {
        "colab": {
          "base_uri": "https://localhost:8080/",
          "height": 0
        },
        "id": "ixReNo_dYR4o",
        "outputId": "27b41fcd-b875-49fd-aee1-501a14d6a254"
      },
      "execution_count": 59,
      "outputs": [
        {
          "output_type": "stream",
          "name": "stdout",
          "text": [
            "The annualized beta will equal the one calculated at daily returns: 0.6245571535454274\n",
            "The annualized CAPM return of VZ is 9.32%\n"
          ]
        }
      ]
    },
    {
      "cell_type": "code",
      "source": [
        "sharperatio = (rm-rf)/(data['VZ'].std()*np.sqrt(252))\n",
        "sharperatio\n",
        "print(f\"Sharpe Ratio: {round(sharperatio,4)}\")"
      ],
      "metadata": {
        "colab": {
          "base_uri": "https://localhost:8080/",
          "height": 0
        },
        "id": "5VaYDay6YmJU",
        "outputId": "b0f5a956-9b9b-422b-e702-fdf8f43b8c03"
      },
      "execution_count": 60,
      "outputs": [
        {
          "output_type": "stream",
          "name": "stdout",
          "text": [
            "Sharpe Ratio: 0.5102\n"
          ]
        }
      ]
    },
    {
      "cell_type": "markdown",
      "source": [
        "Find re = rf + (rm - rf)Bi + (Small - Big Size)B + (High m/B - Low m/B)Bi, Fama - French 3 Factor Model\n",
        "\n",
        "\n",
        "\n",
        "\n"
      ],
      "metadata": {
        "id": "msSluWxPPeVc"
      }
    },
    {
      "cell_type": "code",
      "source": [
        "!pip install pandas-datareader statsmodels"
      ],
      "metadata": {
        "colab": {
          "base_uri": "https://localhost:8080/",
          "height": 0
        },
        "collapsed": true,
        "id": "zIHDKarVPduV",
        "outputId": "e971a80c-95ff-47a4-a5bc-53079a43812b"
      },
      "execution_count": 61,
      "outputs": [
        {
          "output_type": "stream",
          "name": "stdout",
          "text": [
            "Requirement already satisfied: pandas-datareader in /usr/local/lib/python3.11/dist-packages (0.10.0)\n",
            "Requirement already satisfied: statsmodels in /usr/local/lib/python3.11/dist-packages (0.14.4)\n",
            "Requirement already satisfied: lxml in /usr/local/lib/python3.11/dist-packages (from pandas-datareader) (5.3.1)\n",
            "Requirement already satisfied: pandas>=0.23 in /usr/local/lib/python3.11/dist-packages (from pandas-datareader) (2.2.2)\n",
            "Requirement already satisfied: requests>=2.19.0 in /usr/local/lib/python3.11/dist-packages (from pandas-datareader) (2.32.3)\n",
            "Requirement already satisfied: numpy<3,>=1.22.3 in /usr/local/lib/python3.11/dist-packages (from statsmodels) (2.0.2)\n",
            "Requirement already satisfied: scipy!=1.9.2,>=1.8 in /usr/local/lib/python3.11/dist-packages (from statsmodels) (1.14.1)\n",
            "Requirement already satisfied: patsy>=0.5.6 in /usr/local/lib/python3.11/dist-packages (from statsmodels) (1.0.1)\n",
            "Requirement already satisfied: packaging>=21.3 in /usr/local/lib/python3.11/dist-packages (from statsmodels) (24.2)\n",
            "Requirement already satisfied: python-dateutil>=2.8.2 in /usr/local/lib/python3.11/dist-packages (from pandas>=0.23->pandas-datareader) (2.8.2)\n",
            "Requirement already satisfied: pytz>=2020.1 in /usr/local/lib/python3.11/dist-packages (from pandas>=0.23->pandas-datareader) (2025.2)\n",
            "Requirement already satisfied: tzdata>=2022.7 in /usr/local/lib/python3.11/dist-packages (from pandas>=0.23->pandas-datareader) (2025.2)\n",
            "Requirement already satisfied: charset-normalizer<4,>=2 in /usr/local/lib/python3.11/dist-packages (from requests>=2.19.0->pandas-datareader) (3.4.1)\n",
            "Requirement already satisfied: idna<4,>=2.5 in /usr/local/lib/python3.11/dist-packages (from requests>=2.19.0->pandas-datareader) (3.10)\n",
            "Requirement already satisfied: urllib3<3,>=1.21.1 in /usr/local/lib/python3.11/dist-packages (from requests>=2.19.0->pandas-datareader) (2.3.0)\n",
            "Requirement already satisfied: certifi>=2017.4.17 in /usr/local/lib/python3.11/dist-packages (from requests>=2.19.0->pandas-datareader) (2025.1.31)\n",
            "Requirement already satisfied: six>=1.5 in /usr/local/lib/python3.11/dist-packages (from python-dateutil>=2.8.2->pandas>=0.23->pandas-datareader) (1.17.0)\n"
          ]
        }
      ]
    },
    {
      "cell_type": "code",
      "source": [
        "import pandas as pd\n",
        "import pandas_datareader.data as web\n",
        "import statsmodels.formula.api as sm"
      ],
      "metadata": {
        "id": "Tphzy-NWQFr4"
      },
      "execution_count": 62,
      "outputs": []
    },
    {
      "cell_type": "code",
      "source": [
        "# Download Fama-French 3 factors data\n",
        "ff_factors = web.DataReader('F-F_Research_Data_Factors_daily', 'famafrench', start='2020-01-01', end='2024-12-31')[0]\n",
        "# Rename the columns to something more convenient\n",
        "ff_factors.columns = ['mkt-rf', 'smb', 'hml', 'rf']\n",
        "ff_factors = ff_factors.div(100)  # Convert percentages to decimals"
      ],
      "metadata": {
        "colab": {
          "base_uri": "https://localhost:8080/",
          "height": 0
        },
        "id": "Cei78pG3QN4N",
        "outputId": "47179815-ced3-4f15-b249-df5624d57248"
      },
      "execution_count": 63,
      "outputs": [
        {
          "output_type": "stream",
          "name": "stderr",
          "text": [
            "<ipython-input-63-9e2cd0db24c4>:2: FutureWarning: The argument 'date_parser' is deprecated and will be removed in a future version. Please use 'date_format' instead, or read your data in as 'object' dtype and then call 'to_datetime'.\n",
            "  ff_factors = web.DataReader('F-F_Research_Data_Factors_daily', 'famafrench', start='2020-01-01', end='2024-12-31')[0]\n"
          ]
        }
      ]
    },
    {
      "cell_type": "code",
      "source": [
        "data = np.log(df/df.shift(1))\n",
        "# data = (df-df.shift(1))/df.shift(1)\n",
        "# replace first row with zeroes\n",
        "data.iloc[0] = 0\n",
        "data.head(5)"
      ],
      "metadata": {
        "colab": {
          "base_uri": "https://localhost:8080/",
          "height": 237
        },
        "id": "X6kQ9h1KQYM9",
        "outputId": "ecec5a04-bc99-41c8-e819-fdb25b5f4779"
      },
      "execution_count": 65,
      "outputs": [
        {
          "output_type": "execute_result",
          "data": {
            "text/plain": [
              "                             Market      AAPL       AAL      NFLX      META  \\\n",
              "Date                                                                          \n",
              "2020-01-02 00:00:00-05:00  0.000000  0.000000  0.000000  0.000000  0.000000   \n",
              "2020-01-03 00:00:00-05:00 -0.007601 -0.009770 -0.050769 -0.011926 -0.005305   \n",
              "2020-01-06 00:00:00-05:00  0.003808  0.007937 -0.012007  0.030014  0.018658   \n",
              "2020-01-07 00:00:00-05:00 -0.002816 -0.004714 -0.003667 -0.015242  0.002161   \n",
              "2020-01-08 00:00:00-05:00  0.005315  0.015958  0.022522  0.025404  0.010087   \n",
              "\n",
              "                                 ZM      TSLA       DIS      NVDA       TGT  \\\n",
              "Date                                                                          \n",
              "2020-01-02 00:00:00-05:00  0.000000  0.000000  0.000000  0.000000  0.000000   \n",
              "2020-01-03 00:00:00-05:00 -0.021177  0.029203 -0.011537 -0.016135 -0.010445   \n",
              "2020-01-06 00:00:00-05:00  0.044193  0.019072 -0.005819  0.004185 -0.009503   \n",
              "2020-01-07 00:00:00-05:00  0.022220  0.038067  0.000343  0.012034  0.001779   \n",
              "2020-01-08 00:00:00-05:00  0.009000  0.048033 -0.002061  0.001874 -0.003236   \n",
              "\n",
              "                                 VZ  \n",
              "Date                                 \n",
              "2020-01-02 00:00:00-05:00  0.000000  \n",
              "2020-01-03 00:00:00-05:00 -0.010704  \n",
              "2020-01-06 00:00:00-05:00 -0.002155  \n",
              "2020-01-07 00:00:00-05:00 -0.011179  \n",
              "2020-01-08 00:00:00-05:00  0.001844  "
            ],
            "text/html": [
              "\n",
              "  <div id=\"df-9d8a304e-dc0c-422c-a326-4fcfc770809d\" class=\"colab-df-container\">\n",
              "    <div>\n",
              "<style scoped>\n",
              "    .dataframe tbody tr th:only-of-type {\n",
              "        vertical-align: middle;\n",
              "    }\n",
              "\n",
              "    .dataframe tbody tr th {\n",
              "        vertical-align: top;\n",
              "    }\n",
              "\n",
              "    .dataframe thead th {\n",
              "        text-align: right;\n",
              "    }\n",
              "</style>\n",
              "<table border=\"1\" class=\"dataframe\">\n",
              "  <thead>\n",
              "    <tr style=\"text-align: right;\">\n",
              "      <th></th>\n",
              "      <th>Market</th>\n",
              "      <th>AAPL</th>\n",
              "      <th>AAL</th>\n",
              "      <th>NFLX</th>\n",
              "      <th>META</th>\n",
              "      <th>ZM</th>\n",
              "      <th>TSLA</th>\n",
              "      <th>DIS</th>\n",
              "      <th>NVDA</th>\n",
              "      <th>TGT</th>\n",
              "      <th>VZ</th>\n",
              "    </tr>\n",
              "    <tr>\n",
              "      <th>Date</th>\n",
              "      <th></th>\n",
              "      <th></th>\n",
              "      <th></th>\n",
              "      <th></th>\n",
              "      <th></th>\n",
              "      <th></th>\n",
              "      <th></th>\n",
              "      <th></th>\n",
              "      <th></th>\n",
              "      <th></th>\n",
              "      <th></th>\n",
              "    </tr>\n",
              "  </thead>\n",
              "  <tbody>\n",
              "    <tr>\n",
              "      <th>2020-01-02 00:00:00-05:00</th>\n",
              "      <td>0.000000</td>\n",
              "      <td>0.000000</td>\n",
              "      <td>0.000000</td>\n",
              "      <td>0.000000</td>\n",
              "      <td>0.000000</td>\n",
              "      <td>0.000000</td>\n",
              "      <td>0.000000</td>\n",
              "      <td>0.000000</td>\n",
              "      <td>0.000000</td>\n",
              "      <td>0.000000</td>\n",
              "      <td>0.000000</td>\n",
              "    </tr>\n",
              "    <tr>\n",
              "      <th>2020-01-03 00:00:00-05:00</th>\n",
              "      <td>-0.007601</td>\n",
              "      <td>-0.009770</td>\n",
              "      <td>-0.050769</td>\n",
              "      <td>-0.011926</td>\n",
              "      <td>-0.005305</td>\n",
              "      <td>-0.021177</td>\n",
              "      <td>0.029203</td>\n",
              "      <td>-0.011537</td>\n",
              "      <td>-0.016135</td>\n",
              "      <td>-0.010445</td>\n",
              "      <td>-0.010704</td>\n",
              "    </tr>\n",
              "    <tr>\n",
              "      <th>2020-01-06 00:00:00-05:00</th>\n",
              "      <td>0.003808</td>\n",
              "      <td>0.007937</td>\n",
              "      <td>-0.012007</td>\n",
              "      <td>0.030014</td>\n",
              "      <td>0.018658</td>\n",
              "      <td>0.044193</td>\n",
              "      <td>0.019072</td>\n",
              "      <td>-0.005819</td>\n",
              "      <td>0.004185</td>\n",
              "      <td>-0.009503</td>\n",
              "      <td>-0.002155</td>\n",
              "    </tr>\n",
              "    <tr>\n",
              "      <th>2020-01-07 00:00:00-05:00</th>\n",
              "      <td>-0.002816</td>\n",
              "      <td>-0.004714</td>\n",
              "      <td>-0.003667</td>\n",
              "      <td>-0.015242</td>\n",
              "      <td>0.002161</td>\n",
              "      <td>0.022220</td>\n",
              "      <td>0.038067</td>\n",
              "      <td>0.000343</td>\n",
              "      <td>0.012034</td>\n",
              "      <td>0.001779</td>\n",
              "      <td>-0.011179</td>\n",
              "    </tr>\n",
              "    <tr>\n",
              "      <th>2020-01-08 00:00:00-05:00</th>\n",
              "      <td>0.005315</td>\n",
              "      <td>0.015958</td>\n",
              "      <td>0.022522</td>\n",
              "      <td>0.025404</td>\n",
              "      <td>0.010087</td>\n",
              "      <td>0.009000</td>\n",
              "      <td>0.048033</td>\n",
              "      <td>-0.002061</td>\n",
              "      <td>0.001874</td>\n",
              "      <td>-0.003236</td>\n",
              "      <td>0.001844</td>\n",
              "    </tr>\n",
              "  </tbody>\n",
              "</table>\n",
              "</div>\n",
              "    <div class=\"colab-df-buttons\">\n",
              "\n",
              "  <div class=\"colab-df-container\">\n",
              "    <button class=\"colab-df-convert\" onclick=\"convertToInteractive('df-9d8a304e-dc0c-422c-a326-4fcfc770809d')\"\n",
              "            title=\"Convert this dataframe to an interactive table.\"\n",
              "            style=\"display:none;\">\n",
              "\n",
              "  <svg xmlns=\"http://www.w3.org/2000/svg\" height=\"24px\" viewBox=\"0 -960 960 960\">\n",
              "    <path d=\"M120-120v-720h720v720H120Zm60-500h600v-160H180v160Zm220 220h160v-160H400v160Zm0 220h160v-160H400v160ZM180-400h160v-160H180v160Zm440 0h160v-160H620v160ZM180-180h160v-160H180v160Zm440 0h160v-160H620v160Z\"/>\n",
              "  </svg>\n",
              "    </button>\n",
              "\n",
              "  <style>\n",
              "    .colab-df-container {\n",
              "      display:flex;\n",
              "      gap: 12px;\n",
              "    }\n",
              "\n",
              "    .colab-df-convert {\n",
              "      background-color: #E8F0FE;\n",
              "      border: none;\n",
              "      border-radius: 50%;\n",
              "      cursor: pointer;\n",
              "      display: none;\n",
              "      fill: #1967D2;\n",
              "      height: 32px;\n",
              "      padding: 0 0 0 0;\n",
              "      width: 32px;\n",
              "    }\n",
              "\n",
              "    .colab-df-convert:hover {\n",
              "      background-color: #E2EBFA;\n",
              "      box-shadow: 0px 1px 2px rgba(60, 64, 67, 0.3), 0px 1px 3px 1px rgba(60, 64, 67, 0.15);\n",
              "      fill: #174EA6;\n",
              "    }\n",
              "\n",
              "    .colab-df-buttons div {\n",
              "      margin-bottom: 4px;\n",
              "    }\n",
              "\n",
              "    [theme=dark] .colab-df-convert {\n",
              "      background-color: #3B4455;\n",
              "      fill: #D2E3FC;\n",
              "    }\n",
              "\n",
              "    [theme=dark] .colab-df-convert:hover {\n",
              "      background-color: #434B5C;\n",
              "      box-shadow: 0px 1px 3px 1px rgba(0, 0, 0, 0.15);\n",
              "      filter: drop-shadow(0px 1px 2px rgba(0, 0, 0, 0.3));\n",
              "      fill: #FFFFFF;\n",
              "    }\n",
              "  </style>\n",
              "\n",
              "    <script>\n",
              "      const buttonEl =\n",
              "        document.querySelector('#df-9d8a304e-dc0c-422c-a326-4fcfc770809d button.colab-df-convert');\n",
              "      buttonEl.style.display =\n",
              "        google.colab.kernel.accessAllowed ? 'block' : 'none';\n",
              "\n",
              "      async function convertToInteractive(key) {\n",
              "        const element = document.querySelector('#df-9d8a304e-dc0c-422c-a326-4fcfc770809d');\n",
              "        const dataTable =\n",
              "          await google.colab.kernel.invokeFunction('convertToInteractive',\n",
              "                                                    [key], {});\n",
              "        if (!dataTable) return;\n",
              "\n",
              "        const docLinkHtml = 'Like what you see? Visit the ' +\n",
              "          '<a target=\"_blank\" href=https://colab.research.google.com/notebooks/data_table.ipynb>data table notebook</a>'\n",
              "          + ' to learn more about interactive tables.';\n",
              "        element.innerHTML = '';\n",
              "        dataTable['output_type'] = 'display_data';\n",
              "        await google.colab.output.renderOutput(dataTable, element);\n",
              "        const docLink = document.createElement('div');\n",
              "        docLink.innerHTML = docLinkHtml;\n",
              "        element.appendChild(docLink);\n",
              "      }\n",
              "    </script>\n",
              "  </div>\n",
              "\n",
              "\n",
              "<div id=\"df-4cbe0bfd-0c84-463d-804a-d9829a277577\">\n",
              "  <button class=\"colab-df-quickchart\" onclick=\"quickchart('df-4cbe0bfd-0c84-463d-804a-d9829a277577')\"\n",
              "            title=\"Suggest charts\"\n",
              "            style=\"display:none;\">\n",
              "\n",
              "<svg xmlns=\"http://www.w3.org/2000/svg\" height=\"24px\"viewBox=\"0 0 24 24\"\n",
              "     width=\"24px\">\n",
              "    <g>\n",
              "        <path d=\"M19 3H5c-1.1 0-2 .9-2 2v14c0 1.1.9 2 2 2h14c1.1 0 2-.9 2-2V5c0-1.1-.9-2-2-2zM9 17H7v-7h2v7zm4 0h-2V7h2v10zm4 0h-2v-4h2v4z\"/>\n",
              "    </g>\n",
              "</svg>\n",
              "  </button>\n",
              "\n",
              "<style>\n",
              "  .colab-df-quickchart {\n",
              "      --bg-color: #E8F0FE;\n",
              "      --fill-color: #1967D2;\n",
              "      --hover-bg-color: #E2EBFA;\n",
              "      --hover-fill-color: #174EA6;\n",
              "      --disabled-fill-color: #AAA;\n",
              "      --disabled-bg-color: #DDD;\n",
              "  }\n",
              "\n",
              "  [theme=dark] .colab-df-quickchart {\n",
              "      --bg-color: #3B4455;\n",
              "      --fill-color: #D2E3FC;\n",
              "      --hover-bg-color: #434B5C;\n",
              "      --hover-fill-color: #FFFFFF;\n",
              "      --disabled-bg-color: #3B4455;\n",
              "      --disabled-fill-color: #666;\n",
              "  }\n",
              "\n",
              "  .colab-df-quickchart {\n",
              "    background-color: var(--bg-color);\n",
              "    border: none;\n",
              "    border-radius: 50%;\n",
              "    cursor: pointer;\n",
              "    display: none;\n",
              "    fill: var(--fill-color);\n",
              "    height: 32px;\n",
              "    padding: 0;\n",
              "    width: 32px;\n",
              "  }\n",
              "\n",
              "  .colab-df-quickchart:hover {\n",
              "    background-color: var(--hover-bg-color);\n",
              "    box-shadow: 0 1px 2px rgba(60, 64, 67, 0.3), 0 1px 3px 1px rgba(60, 64, 67, 0.15);\n",
              "    fill: var(--button-hover-fill-color);\n",
              "  }\n",
              "\n",
              "  .colab-df-quickchart-complete:disabled,\n",
              "  .colab-df-quickchart-complete:disabled:hover {\n",
              "    background-color: var(--disabled-bg-color);\n",
              "    fill: var(--disabled-fill-color);\n",
              "    box-shadow: none;\n",
              "  }\n",
              "\n",
              "  .colab-df-spinner {\n",
              "    border: 2px solid var(--fill-color);\n",
              "    border-color: transparent;\n",
              "    border-bottom-color: var(--fill-color);\n",
              "    animation:\n",
              "      spin 1s steps(1) infinite;\n",
              "  }\n",
              "\n",
              "  @keyframes spin {\n",
              "    0% {\n",
              "      border-color: transparent;\n",
              "      border-bottom-color: var(--fill-color);\n",
              "      border-left-color: var(--fill-color);\n",
              "    }\n",
              "    20% {\n",
              "      border-color: transparent;\n",
              "      border-left-color: var(--fill-color);\n",
              "      border-top-color: var(--fill-color);\n",
              "    }\n",
              "    30% {\n",
              "      border-color: transparent;\n",
              "      border-left-color: var(--fill-color);\n",
              "      border-top-color: var(--fill-color);\n",
              "      border-right-color: var(--fill-color);\n",
              "    }\n",
              "    40% {\n",
              "      border-color: transparent;\n",
              "      border-right-color: var(--fill-color);\n",
              "      border-top-color: var(--fill-color);\n",
              "    }\n",
              "    60% {\n",
              "      border-color: transparent;\n",
              "      border-right-color: var(--fill-color);\n",
              "    }\n",
              "    80% {\n",
              "      border-color: transparent;\n",
              "      border-right-color: var(--fill-color);\n",
              "      border-bottom-color: var(--fill-color);\n",
              "    }\n",
              "    90% {\n",
              "      border-color: transparent;\n",
              "      border-bottom-color: var(--fill-color);\n",
              "    }\n",
              "  }\n",
              "</style>\n",
              "\n",
              "  <script>\n",
              "    async function quickchart(key) {\n",
              "      const quickchartButtonEl =\n",
              "        document.querySelector('#' + key + ' button');\n",
              "      quickchartButtonEl.disabled = true;  // To prevent multiple clicks.\n",
              "      quickchartButtonEl.classList.add('colab-df-spinner');\n",
              "      try {\n",
              "        const charts = await google.colab.kernel.invokeFunction(\n",
              "            'suggestCharts', [key], {});\n",
              "      } catch (error) {\n",
              "        console.error('Error during call to suggestCharts:', error);\n",
              "      }\n",
              "      quickchartButtonEl.classList.remove('colab-df-spinner');\n",
              "      quickchartButtonEl.classList.add('colab-df-quickchart-complete');\n",
              "    }\n",
              "    (() => {\n",
              "      let quickchartButtonEl =\n",
              "        document.querySelector('#df-4cbe0bfd-0c84-463d-804a-d9829a277577 button');\n",
              "      quickchartButtonEl.style.display =\n",
              "        google.colab.kernel.accessAllowed ? 'block' : 'none';\n",
              "    })();\n",
              "  </script>\n",
              "</div>\n",
              "\n",
              "    </div>\n",
              "  </div>\n"
            ],
            "application/vnd.google.colaboratory.intrinsic+json": {
              "type": "dataframe",
              "variable_name": "data",
              "summary": "{\n  \"name\": \"data\",\n  \"rows\": 1257,\n  \"fields\": [\n    {\n      \"column\": \"Date\",\n      \"properties\": {\n        \"dtype\": \"date\",\n        \"min\": \"2020-01-02 00:00:00-05:00\",\n        \"max\": \"2024-12-30 00:00:00-05:00\",\n        \"num_unique_values\": 1257,\n        \"samples\": [\n          \"2021-09-23 00:00:00-04:00\",\n          \"2020-05-28 00:00:00-04:00\",\n          \"2020-03-17 00:00:00-04:00\"\n        ],\n        \"semantic_type\": \"\",\n        \"description\": \"\"\n      }\n    },\n    {\n      \"column\": \"Market\",\n      \"properties\": {\n        \"dtype\": \"number\",\n        \"std\": 0.013281048030716199,\n        \"min\": -0.11588667514503803,\n        \"max\": 0.08673086166069265,\n        \"num_unique_values\": 1255,\n        \"samples\": [\n          -0.009081487029820487,\n          -0.001846605063187711,\n          0.05258503278425242\n        ],\n        \"semantic_type\": \"\",\n        \"description\": \"\"\n      }\n    },\n    {\n      \"column\": \"AAPL\",\n      \"properties\": {\n        \"dtype\": \"number\",\n        \"std\": 0.01993888289797246,\n        \"min\": -0.13770815104014789,\n        \"max\": 0.1131574993128718,\n        \"num_unique_values\": 1253,\n        \"samples\": [\n          -0.009531065491788428,\n          -0.005179474908716754,\n          0.004491797988436376\n        ],\n        \"semantic_type\": \"\",\n        \"description\": \"\"\n      }\n    },\n    {\n      \"column\": \"AAL\",\n      \"properties\": {\n        \"dtype\": \"number\",\n        \"std\": 0.038601268453318925,\n        \"min\": -0.29068188827816016,\n        \"max\": 0.34427766681656186,\n        \"num_unique_values\": 1236,\n        \"samples\": [\n          -0.04285384147177768,\n          -0.004201716177018891,\n          -0.041468451604115726\n        ],\n        \"semantic_type\": \"\",\n        \"description\": \"\"\n      }\n    },\n    {\n      \"column\": \"NFLX\",\n      \"properties\": {\n        \"dtype\": \"number\",\n        \"std\": 0.02952415899088583,\n        \"min\": -0.43257841199468944,\n        \"max\": 0.15575804642814195,\n        \"num_unique_values\": 1256,\n        \"samples\": [\n          0.004409101206044731,\n          -0.015480400039549484,\n          0.06763113960576661\n        ],\n        \"semantic_type\": \"\",\n        \"description\": \"\"\n      }\n    },\n    {\n      \"column\": \"META\",\n      \"properties\": {\n        \"dtype\": \"number\",\n        \"std\": 0.02860130350620842,\n        \"min\": -0.30639076408378496,\n        \"max\": 0.20930760960797204,\n        \"num_unique_values\": 1255,\n        \"samples\": [\n          -0.018904315967187894,\n          -0.016190399887125447,\n          0.023086077978933982\n        ],\n        \"semantic_type\": \"\",\n        \"description\": \"\"\n      }\n    },\n    {\n      \"column\": \"ZM\",\n      \"properties\": {\n        \"dtype\": \"number\",\n        \"std\": 0.03567525593877465,\n        \"min\": -0.19079953058591292,\n        \"max\": 0.34205925829868195,\n        \"num_unique_values\": 1254,\n        \"samples\": [\n          -0.013089305077007484,\n          0.009707632208966397,\n          0.02959658734348096\n        ],\n        \"semantic_type\": \"\",\n        \"description\": \"\"\n      }\n    },\n    {\n      \"column\": \"TSLA\",\n      \"properties\": {\n        \"dtype\": \"number\",\n        \"std\": 0.04219386983214836,\n        \"min\": -0.23651789445767657,\n        \"max\": 0.19818699146920774,\n        \"num_unique_values\": 1256,\n        \"samples\": [\n          0.002258262820491851,\n          -0.017736751939729612,\n          -0.03398134500612111\n        ],\n        \"semantic_type\": \"\",\n        \"description\": \"\"\n      }\n    },\n    {\n      \"column\": \"DIS\",\n      \"properties\": {\n        \"dtype\": \"number\",\n        \"std\": 0.021370891131348258,\n        \"min\": -0.14113918363169067,\n        \"max\": 0.13463855434001964,\n        \"num_unique_values\": 1252,\n        \"samples\": [\n          0.0490744616990231,\n          -0.0010465312357315504,\n          0.010956990616187256\n        ],\n        \"semantic_type\": \"\",\n        \"description\": \"\"\n      }\n    },\n    {\n      \"column\": \"NVDA\",\n      \"properties\": {\n        \"dtype\": \"number\",\n        \"std\": 0.033704492865592135,\n        \"min\": -0.2039791134417961,\n        \"max\": 0.2180878668187508,\n        \"num_unique_values\": 1255,\n        \"samples\": [\n          0.022166862004135025,\n          -0.004496900646029426,\n          0.10098717516601251\n        ],\n        \"semantic_type\": \"\",\n        \"description\": \"\"\n      }\n    },\n    {\n      \"column\": \"TGT\",\n      \"properties\": {\n        \"dtype\": \"number\",\n        \"std\": 0.02305436940699739,\n        \"min\": -0.28675333793087704,\n        \"max\": 0.16343030725525506,\n        \"num_unique_values\": 1255,\n        \"samples\": [\n          -0.0257070629576343,\n          0.008649881198752967,\n          0.09976875124508212\n        ],\n        \"semantic_type\": \"\",\n        \"description\": \"\"\n      }\n    },\n    {\n      \"column\": \"VZ\",\n      \"properties\": {\n        \"dtype\": \"number\",\n        \"std\": 0.013480392164063602,\n        \"min\": -0.07793770049957865,\n        \"max\": 0.08865598283727115,\n        \"num_unique_values\": 1239,\n        \"samples\": [\n          0.002528815140798459,\n          -0.0034989445345428587,\n          0.0015344959397589697\n        ],\n        \"semantic_type\": \"\",\n        \"description\": \"\"\n      }\n    }\n  ]\n}"
            }
          },
          "metadata": {},
          "execution_count": 65
        }
      ]
    },
    {
      "cell_type": "code",
      "source": [
        "# Merge your data with the Fama-French factors, ensuring both have the same timezone awareness\n",
        "all_data = pd.merge(data.tz_localize(None), ff_factors.tz_localize(None), left_index=True, right_index=True)"
      ],
      "metadata": {
        "id": "g0QeKcHIRlGv"
      },
      "execution_count": 68,
      "outputs": []
    },
    {
      "cell_type": "code",
      "source": [
        "# Define the model for a specific stock (e.g., AAPL)\n",
        "# Replace 'stock_ticker' with your desired stock ticker\n",
        "stock_ticker = 'AAPL'\n",
        "# Use the Q function to correctly quote column names with special characters like hyphens:\n",
        "model = sm.ols(formula=f'{stock_ticker} ~ Q(\"mkt-rf\") + smb + hml', data=all_data)\n",
        "\n",
        "# Fit the model\n",
        "results = model.fit()\n",
        "\n",
        "# Get the model parameters (betas)\n",
        "market_beta = results.params['Q(\"mkt-rf\")'] # Access using the quoted name\n",
        "smb_beta = results.params['smb']\n",
        "hml_beta = results.params['hml']\n",
        "\n",
        "# Calculate the expected return (re)\n",
        "# Assuming rf (risk-free rate) is 0.025\n",
        "rf = 0.025\n",
        "rm = all_data['mkt-rf'].mean() + rf # market risk premium + risk-free rate\n",
        "re = rf + (rm - rf) * market_beta + all_data['smb'].mean() * smb_beta + all_data['hml'].mean() * hml_beta\n",
        "\n",
        "print(f\"Expected return (re) for {stock_ticker}: {re:.4f}\")"
      ],
      "metadata": {
        "colab": {
          "base_uri": "https://localhost:8080/",
          "height": 0
        },
        "id": "asRhB2aZSrv-",
        "outputId": "73597a9d-6546-4e1e-8722-b22184d1bf14"
      },
      "execution_count": 74,
      "outputs": [
        {
          "output_type": "stream",
          "name": "stdout",
          "text": [
            "Expected return (re) for AAPL: 0.0256\n"
          ]
        }
      ]
    }
  ]
}