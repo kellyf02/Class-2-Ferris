{
  "nbformat": 4,
  "nbformat_minor": 0,
  "metadata": {
    "colab": {
      "provenance": []
    },
    "kernelspec": {
      "name": "python3",
      "display_name": "Python 3"
    },
    "language_info": {
      "name": "python"
    }
  },
  "cells": [
    {
      "cell_type": "code",
      "execution_count": null,
      "metadata": {
        "colab": {
          "base_uri": "https://localhost:8080/"
        },
        "id": "acCZkw3zy_iY",
        "outputId": "dba17443-b411-42a8-9dbf-06e795376e62"
      },
      "outputs": [
        {
          "output_type": "execute_result",
          "data": {
            "text/plain": [
              "{'first_name': 'Jane',\n",
              " 'last_name': 'Gretsky',\n",
              " 'nationality': 'Canada',\n",
              " 'birth_year': 1961}"
            ]
          },
          "metadata": {},
          "execution_count": 4
        }
      ],
      "source": [
        "# Create a dictionary\n",
        "\n",
        "person = {\n",
        "    \"first_name\": 'Wayne',\n",
        "    \"last_name\": 'Gretsky',\n",
        "    \"nationality\": 'Canada',\n",
        "    \"birth_year\": 1961\n",
        "}\n",
        "person['first_name']\n",
        "person['first_name'] = 'Jane' # We can change Wayne's name to Jane\n",
        "person"
      ]
    },
    {
      "cell_type": "markdown",
      "source": [
        "# EXERCISE: create a dictionary called car_type with your choice of a car brand, model, year, usnews_rating, and engine size."
      ],
      "metadata": {
        "id": "uTGbYVI40-6u"
      }
    },
    {
      "cell_type": "code",
      "source": [
        "## Write your answer here\n",
        "\n",
        "car_type = {\n",
        "    \"car_brand\": 'Mazda',\n",
        "    \"model\": 'CX5',\n",
        "    \"year\": '2025',\n",
        "    \"usnews_rating\": '4.5',\n",
        "    \"engine size\": 3.5\n",
        "}\n",
        "car_type['model']"
      ],
      "metadata": {
        "id": "7d2EwY1rR7Gu",
        "colab": {
          "base_uri": "https://localhost:8080/",
          "height": 36
        },
        "outputId": "4bef4ec9-4ebb-471b-816c-c22689383da3"
      },
      "execution_count": 3,
      "outputs": [
        {
          "output_type": "execute_result",
          "data": {
            "text/plain": [
              "'CX5'"
            ],
            "application/vnd.google.colaboratory.intrinsic+json": {
              "type": "string"
            }
          },
          "metadata": {},
          "execution_count": 3
        }
      ]
    },
    {
      "cell_type": "code",
      "source": [
        "#LIST\n",
        "\n",
        "primes = [2, 3, 5, 7, 11]\n",
        "users = [\"Dillon\", \"Michael\", \"Lea\"]\n",
        "users[-1]"
      ],
      "metadata": {
        "colab": {
          "base_uri": "https://localhost:8080/",
          "height": 35
        },
        "id": "BvYVVKaB0HIg",
        "outputId": "9e5e8e88-1ea1-492f-b2a2-6a5cd94da5ef"
      },
      "execution_count": null,
      "outputs": [
        {
          "output_type": "execute_result",
          "data": {
            "text/plain": [
              "'Lea'"
            ],
            "application/vnd.google.colaboratory.intrinsic+json": {
              "type": "string"
            }
          },
          "metadata": {},
          "execution_count": 7
        }
      ]
    },
    {
      "cell_type": "code",
      "source": [
        "users[0] = 'Madison'\n",
        "users"
      ],
      "metadata": {
        "colab": {
          "base_uri": "https://localhost:8080/"
        },
        "id": "3yKbvSoL1Lp5",
        "outputId": "46d8320b-da95-4808-d491-4fde22c92e1d"
      },
      "execution_count": null,
      "outputs": [
        {
          "output_type": "execute_result",
          "data": {
            "text/plain": [
              "['Madison', 'Michael', 'Lea']"
            ]
          },
          "metadata": {},
          "execution_count": 8
        }
      ]
    },
    {
      "cell_type": "code",
      "source": [
        "users.append('Rachel')\n",
        "users"
      ],
      "metadata": {
        "colab": {
          "base_uri": "https://localhost:8080/"
        },
        "id": "JGn6Xr3C1LzM",
        "outputId": "75c1e51a-fe46-4810-8138-62cddba48b17"
      },
      "execution_count": null,
      "outputs": [
        {
          "output_type": "execute_result",
          "data": {
            "text/plain": [
              "['Michael', 'Rachel', 'Rachel']"
            ]
          },
          "metadata": {},
          "execution_count": 18
        }
      ]
    },
    {
      "cell_type": "code",
      "source": [
        "users.pop()\n",
        "users"
      ],
      "metadata": {
        "colab": {
          "base_uri": "https://localhost:8080/"
        },
        "id": "CaEUb_3F8RUR",
        "outputId": "9625fa9f-f8ea-46c9-dd9a-a40d1cbbdec9"
      },
      "execution_count": null,
      "outputs": [
        {
          "output_type": "execute_result",
          "data": {
            "text/plain": [
              "['Michael', 'Rachel']"
            ]
          },
          "metadata": {},
          "execution_count": 19
        }
      ]
    },
    {
      "cell_type": "code",
      "source": [
        "# List with dictionaries as each item\n",
        "\n",
        "products = [\n",
        "    {\"name\": \"IPhone 12\", \"price\": 949},\n",
        "    {\"name\": \"Fairphone\", \"price\": 419},\n",
        "    {\"name\": \"Pixel 5\", \"price\": 799}]"
      ],
      "metadata": {
        "id": "fW13F_OY8RYx"
      },
      "execution_count": null,
      "outputs": []
    },
    {
      "cell_type": "markdown",
      "source": [
        "# Create a list with dictionaries of 3 people with their names, ages, city of birth, and occupation."
      ],
      "metadata": {
        "id": "EyXkKbGcR2A-"
      }
    },
    {
      "cell_type": "code",
      "source": [
        "## Write your answer here\n",
        "\n",
        "products = [\n",
        "    {\"Name\": \"Kelly\", \"Age\": 22, \"Birthcity\": \"Rochester\", \"Occupation\": \"Student\"},\n",
        "    {\"Name\": \"Lila\", \"Age\": 3, \"Birthcity\": \"Buffalo\", \"Occupation\": \"Pet\"},\n",
        "    {\"Name\": \"Laura\", \"Age\": 24, \"Birthcity\": \"Rochester\", \"Occupation\": \"Employed\"}]"
      ],
      "metadata": {
        "id": "pMpq0S0H8Rbn"
      },
      "execution_count": 4,
      "outputs": []
    },
    {
      "cell_type": "markdown",
      "source": [
        "## Tuples\n"
      ],
      "metadata": {
        "id": "3yVFzLfdaV72"
      }
    },
    {
      "cell_type": "code",
      "source": [
        "point_dict = {\"x\": 2, \"y\": 4}\n",
        "point_tuple = (2, 4)\n",
        "\n",
        "date_dict = {\n",
        "  \"year\": 1973,\n",
        "  \"month\": 10,\n",
        "  \"day\": 23\n",
        "}\n",
        "date_tuple = (1973, 10, 23)\n",
        "\n",
        "date_tuple[0] # 1973\n",
        "len(date_tuple) # 3"
      ],
      "metadata": {
        "colab": {
          "base_uri": "https://localhost:8080/"
        },
        "id": "0VPc5WzySXUJ",
        "outputId": "7eec82fd-d6fd-4eae-8fc5-6283cbca5b66"
      },
      "execution_count": null,
      "outputs": [
        {
          "output_type": "execute_result",
          "data": {
            "text/plain": [
              "3"
            ]
          },
          "metadata": {},
          "execution_count": 3
        }
      ]
    },
    {
      "cell_type": "code",
      "source": [
        "a = [1, 2, 3]\n",
        "b = a\n",
        "b.append(4)\n",
        "a"
      ],
      "metadata": {
        "colab": {
          "base_uri": "https://localhost:8080/"
        },
        "id": "iLsiyl6SSXWu",
        "outputId": "db130adb-c2ff-4c4e-d0ef-b4162823b1d4"
      },
      "execution_count": null,
      "outputs": [
        {
          "output_type": "execute_result",
          "data": {
            "text/plain": [
              "[1, 2, 3, 4]"
            ]
          },
          "metadata": {},
          "execution_count": 9
        }
      ]
    },
    {
      "cell_type": "markdown",
      "source": [
        "OBJECT REFERENCES AND MUTATIONS"
      ],
      "metadata": {
        "id": "T_6Gi5uja-ko"
      }
    },
    {
      "cell_type": "code",
      "source": [
        "a = [1, 2, 3]\n",
        "b = a\n",
        "b.append(4)"
      ],
      "metadata": {
        "id": "RgDpPQkGa__W"
      },
      "execution_count": null,
      "outputs": []
    },
    {
      "cell_type": "code",
      "source": [
        "a = [1, 2, 3]\n",
        "# creating a new copy\n",
        "b = a.copy()\n",
        "# modifying b\n",
        "b.append(4)\n",
        "a"
      ],
      "metadata": {
        "colab": {
          "base_uri": "https://localhost:8080/"
        },
        "id": "B6VuiXhDbD1h",
        "outputId": "1b33e501-de91-403f-e265-d51ec28de904"
      },
      "execution_count": null,
      "outputs": [
        {
          "output_type": "execute_result",
          "data": {
            "text/plain": [
              "[1, 2, 3]"
            ]
          },
          "metadata": {},
          "execution_count": 11
        }
      ]
    },
    {
      "cell_type": "markdown",
      "source": [
        "## INPUT AND OUTPUT OF TEXT\n"
      ],
      "metadata": {
        "id": "9OzH0JvEeBOk"
      }
    },
    {
      "cell_type": "code",
      "source": [
        "print(\"What is your name?\")\n",
        "name = input()\n",
        "name\n",
        "print(\"Nice to meet you, \" + name)\n",
        "# name_length = len(name)\n",
        "# name_length"
      ],
      "metadata": {
        "colab": {
          "base_uri": "https://localhost:8080/"
        },
        "id": "BGmsRpmGbDx4",
        "outputId": "19e8eb07-4b0a-4b24-f0fc-708fca0bae81"
      },
      "execution_count": 9,
      "outputs": [
        {
          "output_type": "stream",
          "name": "stdout",
          "text": [
            "What is your name?\n",
            "Kelly\n",
            "Nice to meet you, Kelly\n"
          ]
        }
      ]
    },
    {
      "cell_type": "markdown",
      "source": [
        "## Write a program which will ask the user for their birth year and will respond with the user's age in the year 2025."
      ],
      "metadata": {
        "id": "pcf_eOQQfoUJ"
      }
    },
    {
      "cell_type": "code",
      "source": [
        "print(\"What is your birth year?\")\n",
        "birthyear = input()\n",
        "birthyear\n",
        "print(\"In 2025, you will be\", 2025 - int(birthyear))"
      ],
      "metadata": {
        "id": "EdUoqKqwbDq2",
        "colab": {
          "base_uri": "https://localhost:8080/"
        },
        "outputId": "288c4c82-e54c-4299-c37f-fa7b9c041bd0"
      },
      "execution_count": 10,
      "outputs": [
        {
          "output_type": "stream",
          "name": "stdout",
          "text": [
            "What is your birth year?\n",
            "2002\n",
            "In 2025, you will be 23\n"
          ]
        }
      ]
    },
    {
      "cell_type": "code",
      "source": [
        "import random\n",
        "\n",
        "print(random.randint(1, 6))\n",
        "print(random.choice([\"heads\", \"tails\"]))"
      ],
      "metadata": {
        "colab": {
          "base_uri": "https://localhost:8080/"
        },
        "id": "RHSxKGpPbDoQ",
        "outputId": "76847429-7862-4de8-ef67-bc1d2867115d"
      },
      "execution_count": null,
      "outputs": [
        {
          "output_type": "stream",
          "name": "stdout",
          "text": [
            "2\n",
            "tails\n"
          ]
        }
      ]
    }
  ]
}