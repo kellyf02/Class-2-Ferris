{
  "nbformat": 4,
  "nbformat_minor": 0,
  "metadata": {
    "colab": {
      "provenance": [],
      "include_colab_link": true
    },
    "kernelspec": {
      "name": "python3",
      "display_name": "Python 3"
    },
    "language_info": {
      "name": "python"
    }
  },
  "cells": [
    {
      "cell_type": "markdown",
      "metadata": {
        "id": "view-in-github",
        "colab_type": "text"
      },
      "source": [
        "<a href=\"https://colab.research.google.com/github/kellyf02/Class-2-Ferris/blob/main/Copy_of_FinancialDataAnalysis.ipynb\" target=\"_parent\"><img src=\"https://colab.research.google.com/assets/colab-badge.svg\" alt=\"Open In Colab\"/></a>"
      ]
    },
    {
      "cell_type": "code",
      "source": [
        "# !pip install pandas-datareader"
      ],
      "metadata": {
        "id": "nLkQ57EhAUvn"
      },
      "execution_count": null,
      "outputs": []
    },
    {
      "cell_type": "code",
      "execution_count": null,
      "metadata": {
        "id": "axzgQ88K_tLm"
      },
      "outputs": [],
      "source": [
        "import pandas as pd\n",
        "import numpy as np\n",
        "import matplotlib.pyplot as plt\n",
        "import seaborn as sns\n",
        "%matplotlib inline\n",
        "sns.set()\n",
        "plt.style.use('fivethirtyeight')\n",
        "import datetime\n",
        "\n",
        "from pandas_datareader import data as pdr\n",
        "import yfinance as yf\n",
        "# yf.pdr_override()"
      ]
    },
    {
      "cell_type": "code",
      "source": [
        "import yfinance as yf\n",
        "\n",
        "end_date = datetime.date.today().strftime('%Y-%m-%d')\n",
        "apple = yf.Ticker(\"AAPL\")\n",
        "AAPL = apple.history(start = \"2020-01-01\", end= end_date)\n",
        "AAPL.head()"
      ],
      "metadata": {
        "colab": {
          "base_uri": "https://localhost:8080/",
          "height": 237
        },
        "id": "kHngR0VlAHsZ",
        "outputId": "144e1b1d-fa32-4a8b-926e-e3a775deaee8"
      },
      "execution_count": null,
      "outputs": [
        {
          "output_type": "execute_result",
          "data": {
            "text/plain": [
              "                                Open       High        Low      Close  \\\n",
              "Date                                                                    \n",
              "2020-01-02 00:00:00-05:00  71.721034  72.776613  71.466827  72.716087   \n",
              "2020-01-03 00:00:00-05:00  71.941343  72.771760  71.783977  72.009132   \n",
              "2020-01-06 00:00:00-05:00  71.127866  72.621646  70.876075  72.582909   \n",
              "2020-01-07 00:00:00-05:00  72.592594  72.849224  72.021231  72.241547   \n",
              "2020-01-08 00:00:00-05:00  71.943744  73.706264  71.943744  73.403633   \n",
              "\n",
              "                              Volume  Dividends  Stock Splits  \n",
              "Date                                                           \n",
              "2020-01-02 00:00:00-05:00  135480400        0.0           0.0  \n",
              "2020-01-03 00:00:00-05:00  146322800        0.0           0.0  \n",
              "2020-01-06 00:00:00-05:00  118387200        0.0           0.0  \n",
              "2020-01-07 00:00:00-05:00  108872000        0.0           0.0  \n",
              "2020-01-08 00:00:00-05:00  132079200        0.0           0.0  "
            ],
            "text/html": [
              "\n",
              "  <div id=\"df-7bd8cc6a-f35d-4200-b12d-ccaa5902b18c\" class=\"colab-df-container\">\n",
              "    <div>\n",
              "<style scoped>\n",
              "    .dataframe tbody tr th:only-of-type {\n",
              "        vertical-align: middle;\n",
              "    }\n",
              "\n",
              "    .dataframe tbody tr th {\n",
              "        vertical-align: top;\n",
              "    }\n",
              "\n",
              "    .dataframe thead th {\n",
              "        text-align: right;\n",
              "    }\n",
              "</style>\n",
              "<table border=\"1\" class=\"dataframe\">\n",
              "  <thead>\n",
              "    <tr style=\"text-align: right;\">\n",
              "      <th></th>\n",
              "      <th>Open</th>\n",
              "      <th>High</th>\n",
              "      <th>Low</th>\n",
              "      <th>Close</th>\n",
              "      <th>Volume</th>\n",
              "      <th>Dividends</th>\n",
              "      <th>Stock Splits</th>\n",
              "    </tr>\n",
              "    <tr>\n",
              "      <th>Date</th>\n",
              "      <th></th>\n",
              "      <th></th>\n",
              "      <th></th>\n",
              "      <th></th>\n",
              "      <th></th>\n",
              "      <th></th>\n",
              "      <th></th>\n",
              "    </tr>\n",
              "  </thead>\n",
              "  <tbody>\n",
              "    <tr>\n",
              "      <th>2020-01-02 00:00:00-05:00</th>\n",
              "      <td>71.721034</td>\n",
              "      <td>72.776613</td>\n",
              "      <td>71.466827</td>\n",
              "      <td>72.716087</td>\n",
              "      <td>135480400</td>\n",
              "      <td>0.0</td>\n",
              "      <td>0.0</td>\n",
              "    </tr>\n",
              "    <tr>\n",
              "      <th>2020-01-03 00:00:00-05:00</th>\n",
              "      <td>71.941343</td>\n",
              "      <td>72.771760</td>\n",
              "      <td>71.783977</td>\n",
              "      <td>72.009132</td>\n",
              "      <td>146322800</td>\n",
              "      <td>0.0</td>\n",
              "      <td>0.0</td>\n",
              "    </tr>\n",
              "    <tr>\n",
              "      <th>2020-01-06 00:00:00-05:00</th>\n",
              "      <td>71.127866</td>\n",
              "      <td>72.621646</td>\n",
              "      <td>70.876075</td>\n",
              "      <td>72.582909</td>\n",
              "      <td>118387200</td>\n",
              "      <td>0.0</td>\n",
              "      <td>0.0</td>\n",
              "    </tr>\n",
              "    <tr>\n",
              "      <th>2020-01-07 00:00:00-05:00</th>\n",
              "      <td>72.592594</td>\n",
              "      <td>72.849224</td>\n",
              "      <td>72.021231</td>\n",
              "      <td>72.241547</td>\n",
              "      <td>108872000</td>\n",
              "      <td>0.0</td>\n",
              "      <td>0.0</td>\n",
              "    </tr>\n",
              "    <tr>\n",
              "      <th>2020-01-08 00:00:00-05:00</th>\n",
              "      <td>71.943744</td>\n",
              "      <td>73.706264</td>\n",
              "      <td>71.943744</td>\n",
              "      <td>73.403633</td>\n",
              "      <td>132079200</td>\n",
              "      <td>0.0</td>\n",
              "      <td>0.0</td>\n",
              "    </tr>\n",
              "  </tbody>\n",
              "</table>\n",
              "</div>\n",
              "    <div class=\"colab-df-buttons\">\n",
              "\n",
              "  <div class=\"colab-df-container\">\n",
              "    <button class=\"colab-df-convert\" onclick=\"convertToInteractive('df-7bd8cc6a-f35d-4200-b12d-ccaa5902b18c')\"\n",
              "            title=\"Convert this dataframe to an interactive table.\"\n",
              "            style=\"display:none;\">\n",
              "\n",
              "  <svg xmlns=\"http://www.w3.org/2000/svg\" height=\"24px\" viewBox=\"0 -960 960 960\">\n",
              "    <path d=\"M120-120v-720h720v720H120Zm60-500h600v-160H180v160Zm220 220h160v-160H400v160Zm0 220h160v-160H400v160ZM180-400h160v-160H180v160Zm440 0h160v-160H620v160ZM180-180h160v-160H180v160Zm440 0h160v-160H620v160Z\"/>\n",
              "  </svg>\n",
              "    </button>\n",
              "\n",
              "  <style>\n",
              "    .colab-df-container {\n",
              "      display:flex;\n",
              "      gap: 12px;\n",
              "    }\n",
              "\n",
              "    .colab-df-convert {\n",
              "      background-color: #E8F0FE;\n",
              "      border: none;\n",
              "      border-radius: 50%;\n",
              "      cursor: pointer;\n",
              "      display: none;\n",
              "      fill: #1967D2;\n",
              "      height: 32px;\n",
              "      padding: 0 0 0 0;\n",
              "      width: 32px;\n",
              "    }\n",
              "\n",
              "    .colab-df-convert:hover {\n",
              "      background-color: #E2EBFA;\n",
              "      box-shadow: 0px 1px 2px rgba(60, 64, 67, 0.3), 0px 1px 3px 1px rgba(60, 64, 67, 0.15);\n",
              "      fill: #174EA6;\n",
              "    }\n",
              "\n",
              "    .colab-df-buttons div {\n",
              "      margin-bottom: 4px;\n",
              "    }\n",
              "\n",
              "    [theme=dark] .colab-df-convert {\n",
              "      background-color: #3B4455;\n",
              "      fill: #D2E3FC;\n",
              "    }\n",
              "\n",
              "    [theme=dark] .colab-df-convert:hover {\n",
              "      background-color: #434B5C;\n",
              "      box-shadow: 0px 1px 3px 1px rgba(0, 0, 0, 0.15);\n",
              "      filter: drop-shadow(0px 1px 2px rgba(0, 0, 0, 0.3));\n",
              "      fill: #FFFFFF;\n",
              "    }\n",
              "  </style>\n",
              "\n",
              "    <script>\n",
              "      const buttonEl =\n",
              "        document.querySelector('#df-7bd8cc6a-f35d-4200-b12d-ccaa5902b18c button.colab-df-convert');\n",
              "      buttonEl.style.display =\n",
              "        google.colab.kernel.accessAllowed ? 'block' : 'none';\n",
              "\n",
              "      async function convertToInteractive(key) {\n",
              "        const element = document.querySelector('#df-7bd8cc6a-f35d-4200-b12d-ccaa5902b18c');\n",
              "        const dataTable =\n",
              "          await google.colab.kernel.invokeFunction('convertToInteractive',\n",
              "                                                    [key], {});\n",
              "        if (!dataTable) return;\n",
              "\n",
              "        const docLinkHtml = 'Like what you see? Visit the ' +\n",
              "          '<a target=\"_blank\" href=https://colab.research.google.com/notebooks/data_table.ipynb>data table notebook</a>'\n",
              "          + ' to learn more about interactive tables.';\n",
              "        element.innerHTML = '';\n",
              "        dataTable['output_type'] = 'display_data';\n",
              "        await google.colab.output.renderOutput(dataTable, element);\n",
              "        const docLink = document.createElement('div');\n",
              "        docLink.innerHTML = docLinkHtml;\n",
              "        element.appendChild(docLink);\n",
              "      }\n",
              "    </script>\n",
              "  </div>\n",
              "\n",
              "\n",
              "<div id=\"df-9195b1ce-8003-44db-b35b-376d5a4dad1b\">\n",
              "  <button class=\"colab-df-quickchart\" onclick=\"quickchart('df-9195b1ce-8003-44db-b35b-376d5a4dad1b')\"\n",
              "            title=\"Suggest charts\"\n",
              "            style=\"display:none;\">\n",
              "\n",
              "<svg xmlns=\"http://www.w3.org/2000/svg\" height=\"24px\"viewBox=\"0 0 24 24\"\n",
              "     width=\"24px\">\n",
              "    <g>\n",
              "        <path d=\"M19 3H5c-1.1 0-2 .9-2 2v14c0 1.1.9 2 2 2h14c1.1 0 2-.9 2-2V5c0-1.1-.9-2-2-2zM9 17H7v-7h2v7zm4 0h-2V7h2v10zm4 0h-2v-4h2v4z\"/>\n",
              "    </g>\n",
              "</svg>\n",
              "  </button>\n",
              "\n",
              "<style>\n",
              "  .colab-df-quickchart {\n",
              "      --bg-color: #E8F0FE;\n",
              "      --fill-color: #1967D2;\n",
              "      --hover-bg-color: #E2EBFA;\n",
              "      --hover-fill-color: #174EA6;\n",
              "      --disabled-fill-color: #AAA;\n",
              "      --disabled-bg-color: #DDD;\n",
              "  }\n",
              "\n",
              "  [theme=dark] .colab-df-quickchart {\n",
              "      --bg-color: #3B4455;\n",
              "      --fill-color: #D2E3FC;\n",
              "      --hover-bg-color: #434B5C;\n",
              "      --hover-fill-color: #FFFFFF;\n",
              "      --disabled-bg-color: #3B4455;\n",
              "      --disabled-fill-color: #666;\n",
              "  }\n",
              "\n",
              "  .colab-df-quickchart {\n",
              "    background-color: var(--bg-color);\n",
              "    border: none;\n",
              "    border-radius: 50%;\n",
              "    cursor: pointer;\n",
              "    display: none;\n",
              "    fill: var(--fill-color);\n",
              "    height: 32px;\n",
              "    padding: 0;\n",
              "    width: 32px;\n",
              "  }\n",
              "\n",
              "  .colab-df-quickchart:hover {\n",
              "    background-color: var(--hover-bg-color);\n",
              "    box-shadow: 0 1px 2px rgba(60, 64, 67, 0.3), 0 1px 3px 1px rgba(60, 64, 67, 0.15);\n",
              "    fill: var(--button-hover-fill-color);\n",
              "  }\n",
              "\n",
              "  .colab-df-quickchart-complete:disabled,\n",
              "  .colab-df-quickchart-complete:disabled:hover {\n",
              "    background-color: var(--disabled-bg-color);\n",
              "    fill: var(--disabled-fill-color);\n",
              "    box-shadow: none;\n",
              "  }\n",
              "\n",
              "  .colab-df-spinner {\n",
              "    border: 2px solid var(--fill-color);\n",
              "    border-color: transparent;\n",
              "    border-bottom-color: var(--fill-color);\n",
              "    animation:\n",
              "      spin 1s steps(1) infinite;\n",
              "  }\n",
              "\n",
              "  @keyframes spin {\n",
              "    0% {\n",
              "      border-color: transparent;\n",
              "      border-bottom-color: var(--fill-color);\n",
              "      border-left-color: var(--fill-color);\n",
              "    }\n",
              "    20% {\n",
              "      border-color: transparent;\n",
              "      border-left-color: var(--fill-color);\n",
              "      border-top-color: var(--fill-color);\n",
              "    }\n",
              "    30% {\n",
              "      border-color: transparent;\n",
              "      border-left-color: var(--fill-color);\n",
              "      border-top-color: var(--fill-color);\n",
              "      border-right-color: var(--fill-color);\n",
              "    }\n",
              "    40% {\n",
              "      border-color: transparent;\n",
              "      border-right-color: var(--fill-color);\n",
              "      border-top-color: var(--fill-color);\n",
              "    }\n",
              "    60% {\n",
              "      border-color: transparent;\n",
              "      border-right-color: var(--fill-color);\n",
              "    }\n",
              "    80% {\n",
              "      border-color: transparent;\n",
              "      border-right-color: var(--fill-color);\n",
              "      border-bottom-color: var(--fill-color);\n",
              "    }\n",
              "    90% {\n",
              "      border-color: transparent;\n",
              "      border-bottom-color: var(--fill-color);\n",
              "    }\n",
              "  }\n",
              "</style>\n",
              "\n",
              "  <script>\n",
              "    async function quickchart(key) {\n",
              "      const quickchartButtonEl =\n",
              "        document.querySelector('#' + key + ' button');\n",
              "      quickchartButtonEl.disabled = true;  // To prevent multiple clicks.\n",
              "      quickchartButtonEl.classList.add('colab-df-spinner');\n",
              "      try {\n",
              "        const charts = await google.colab.kernel.invokeFunction(\n",
              "            'suggestCharts', [key], {});\n",
              "      } catch (error) {\n",
              "        console.error('Error during call to suggestCharts:', error);\n",
              "      }\n",
              "      quickchartButtonEl.classList.remove('colab-df-spinner');\n",
              "      quickchartButtonEl.classList.add('colab-df-quickchart-complete');\n",
              "    }\n",
              "    (() => {\n",
              "      let quickchartButtonEl =\n",
              "        document.querySelector('#df-9195b1ce-8003-44db-b35b-376d5a4dad1b button');\n",
              "      quickchartButtonEl.style.display =\n",
              "        google.colab.kernel.accessAllowed ? 'block' : 'none';\n",
              "    })();\n",
              "  </script>\n",
              "</div>\n",
              "\n",
              "    </div>\n",
              "  </div>\n"
            ],
            "application/vnd.google.colaboratory.intrinsic+json": {
              "type": "dataframe",
              "variable_name": "AAPL",
              "summary": "{\n  \"name\": \"AAPL\",\n  \"rows\": 1315,\n  \"fields\": [\n    {\n      \"column\": \"Date\",\n      \"properties\": {\n        \"dtype\": \"date\",\n        \"min\": \"2020-01-02 00:00:00-05:00\",\n        \"max\": \"2025-03-26 00:00:00-04:00\",\n        \"num_unique_values\": 1315,\n        \"samples\": [\n          \"2020-10-14 00:00:00-04:00\",\n          \"2024-08-16 00:00:00-04:00\",\n          \"2023-06-23 00:00:00-04:00\"\n        ],\n        \"semantic_type\": \"\",\n        \"description\": \"\"\n      }\n    },\n    {\n      \"column\": \"Open\",\n      \"properties\": {\n        \"dtype\": \"number\",\n        \"std\": 44.266910135178854,\n        \"min\": 55.35023092369006,\n        \"max\": 257.90642916266114,\n        \"num_unique_values\": 1315,\n        \"samples\": [\n          117.98694718210373,\n          223.42826155403992,\n          183.95155271461957\n        ],\n        \"semantic_type\": \"\",\n        \"description\": \"\"\n      }\n    },\n    {\n      \"column\": \"High\",\n      \"properties\": {\n        \"dtype\": \"number\",\n        \"std\": 44.52480541123905,\n        \"min\": 55.45215566699075,\n        \"max\": 259.81433504408284,\n        \"num_unique_values\": 1315,\n        \"samples\": [\n          119.96639642799329,\n          226.33187474025672,\n          185.94423180057566\n        ],\n        \"semantic_type\": \"\",\n        \"description\": \"\"\n      }\n    },\n    {\n      \"column\": \"Low\",\n      \"properties\": {\n        \"dtype\": \"number\",\n        \"std\": 44.01040061471646,\n        \"min\": 51.59598621533572,\n        \"max\": 257.34704665632455,\n        \"num_unique_values\": 1315,\n        \"samples\": [\n          116.6413136031742,\n          223.15885022096822,\n          183.41619616013958\n        ],\n        \"semantic_type\": \"\",\n        \"description\": \"\"\n      }\n    },\n    {\n      \"column\": \"Close\",\n      \"properties\": {\n        \"dtype\": \"number\",\n        \"std\": 44.305921858325064,\n        \"min\": 54.44989013671875,\n        \"max\": 258.7355041503906,\n        \"num_unique_values\": 1300,\n        \"samples\": [\n          162.457275390625,\n          149.3336944580078,\n          120.32361602783203\n        ],\n        \"semantic_type\": \"\",\n        \"description\": \"\"\n      }\n    },\n    {\n      \"column\": \"Volume\",\n      \"properties\": {\n        \"dtype\": \"number\",\n        \"std\": 52750405,\n        \"min\": 23234700,\n        \"max\": 426510000,\n        \"num_unique_values\": 1313,\n        \"samples\": [\n          324056000,\n          48493500,\n          73374100\n        ],\n        \"semantic_type\": \"\",\n        \"description\": \"\"\n      }\n    },\n    {\n      \"column\": \"Dividends\",\n      \"properties\": {\n        \"dtype\": \"number\",\n        \"std\": 0.028581847583277926,\n        \"min\": 0.0,\n        \"max\": 0.25,\n        \"num_unique_values\": 7,\n        \"samples\": [\n          0.0,\n          0.1925,\n          0.24\n        ],\n        \"semantic_type\": \"\",\n        \"description\": \"\"\n      }\n    },\n    {\n      \"column\": \"Stock Splits\",\n      \"properties\": {\n        \"dtype\": \"number\",\n        \"std\": 0.1103054866279485,\n        \"min\": 0.0,\n        \"max\": 4.0,\n        \"num_unique_values\": 2,\n        \"samples\": [\n          4.0,\n          0.0\n        ],\n        \"semantic_type\": \"\",\n        \"description\": \"\"\n      }\n    }\n  ]\n}"
            }
          },
          "metadata": {},
          "execution_count": 11
        }
      ]
    },
    {
      "cell_type": "markdown",
      "source": [
        "## Get the Balance Sheet and Income Statements"
      ],
      "metadata": {
        "id": "s5gowY_dyZtx"
      }
    },
    {
      "cell_type": "code",
      "source": [
        "balance_sheet = apple.balance_sheet\n",
        "print(\"Balance Sheet:\")\n",
        "print(balance_sheet.head())\n",
        "\n",
        "income_statement = apple.financials\n",
        "print(\"\\nIncome Statement:\")\n",
        "print(income_statement.head())\n",
        "\n",
        "# Information about Apple:\n",
        "info = apple.info\n",
        "print(f\"\\nCompany: {info['longName']}\")\n",
        "print(f\"Sector: {info['sector']}\")\n",
        "print(f\"Industry: {info['industry']}\")\n",
        "print(f\"Market Cap: {info['marketCap']}\")\n",
        "print(f\"P/E Ratio: {info['trailingPE']}\")\n",
        "\n",
        "# dividend data\n",
        "dividends = apple.dividends\n",
        "print(\"Dividends:\")\n",
        "print(dividends.tail())"
      ],
      "metadata": {
        "colab": {
          "base_uri": "https://localhost:8080/"
        },
        "id": "zk0LJ3aZyZL7",
        "outputId": "4a4be5b9-1196-4ead-edba-18000d4592fc"
      },
      "execution_count": null,
      "outputs": [
        {
          "output_type": "stream",
          "name": "stdout",
          "text": [
            "Balance Sheet:\n",
            "                            2024-09-30      2023-09-30      2022-09-30  \\\n",
            "Treasury Shares Number             NaN             0.0             NaN   \n",
            "Ordinary Shares Number   15116786000.0   15550061000.0   15943425000.0   \n",
            "Share Issued             15116786000.0   15550061000.0   15943425000.0   \n",
            "Net Debt                 76686000000.0   81123000000.0   96423000000.0   \n",
            "Total Debt              106629000000.0  111088000000.0  132480000000.0   \n",
            "\n",
            "                            2021-09-30 2020-09-30  \n",
            "Treasury Shares Number             NaN        NaN  \n",
            "Ordinary Shares Number   16426786000.0        NaN  \n",
            "Share Issued             16426786000.0        NaN  \n",
            "Net Debt                 89779000000.0        NaN  \n",
            "Total Debt              136522000000.0        NaN  \n",
            "\n",
            "Income Statement:\n",
            "                                                        2024-09-30  \\\n",
            "Tax Effect Of Unusual Items                                    0.0   \n",
            "Tax Rate For Calcs                                           0.241   \n",
            "Normalized EBITDA                                   134661000000.0   \n",
            "Net Income From Continuing Operation Net Minori...   93736000000.0   \n",
            "Reconciled Depreciation                              11445000000.0   \n",
            "\n",
            "                                                        2023-09-30  \\\n",
            "Tax Effect Of Unusual Items                                    0.0   \n",
            "Tax Rate For Calcs                                           0.147   \n",
            "Normalized EBITDA                                   125820000000.0   \n",
            "Net Income From Continuing Operation Net Minori...   96995000000.0   \n",
            "Reconciled Depreciation                              11519000000.0   \n",
            "\n",
            "                                                        2022-09-30  \\\n",
            "Tax Effect Of Unusual Items                                    0.0   \n",
            "Tax Rate For Calcs                                           0.162   \n",
            "Normalized EBITDA                                   130541000000.0   \n",
            "Net Income From Continuing Operation Net Minori...   99803000000.0   \n",
            "Reconciled Depreciation                              11104000000.0   \n",
            "\n",
            "                                                        2021-09-30 2020-09-30  \n",
            "Tax Effect Of Unusual Items                                    0.0        NaN  \n",
            "Tax Rate For Calcs                                           0.133        NaN  \n",
            "Normalized EBITDA                                   123136000000.0        NaN  \n",
            "Net Income From Continuing Operation Net Minori...   94680000000.0        NaN  \n",
            "Reconciled Depreciation                              11284000000.0        NaN  \n",
            "\n",
            "Company: Apple Inc.\n",
            "Sector: Technology\n",
            "Industry: Consumer Electronics\n",
            "Market Cap: 3352407048192\n",
            "P/E Ratio: 35.479332\n",
            "Dividends:\n",
            "Date\n",
            "2024-02-09 00:00:00-05:00    0.24\n",
            "2024-05-10 00:00:00-04:00    0.25\n",
            "2024-08-12 00:00:00-04:00    0.25\n",
            "2024-11-08 00:00:00-05:00    0.25\n",
            "2025-02-10 00:00:00-05:00    0.25\n",
            "Name: Dividends, dtype: float64\n"
          ]
        }
      ]
    },
    {
      "cell_type": "code",
      "source": [
        "apple = yf.Ticker(\"AAPL\")\n",
        "\n",
        "tickers = [\"SPY\", \"AAL\", \"ZM\", \"NFLX\", \"META\", \"TSLA\", \"DIS\", \"NVDA\", \"TGT\", \"VZ\", 'AAPL']\n",
        "\n",
        "end_date = datetime.date.today().strftime('%Y-%m-%d')\n",
        "apple = yf.Ticker(\"AAPL\")\n",
        "AAPL = apple.history(start = \"2020-01-01\", end= \"2024-12-31\")\n",
        "\n",
        "for ticker in tickers:\n",
        "    globals()[ticker] = yf.Ticker(ticker)\n",
        "    globals()[ticker] = globals()[ticker].history(start = \"2020-01-01\", end= \"2024-12-31\")"
      ],
      "metadata": {
        "id": "mWYRwuzdx-H7"
      },
      "execution_count": null,
      "outputs": []
    },
    {
      "cell_type": "code",
      "source": [
        "print(META.Close.mean())\n",
        "META.describe()"
      ],
      "metadata": {
        "colab": {
          "base_uri": "https://localhost:8080/",
          "height": 317
        },
        "id": "aw_bliWMxhkx",
        "outputId": "993ad65c-fce4-4304-945c-78f7e6ce90cf"
      },
      "execution_count": null,
      "outputs": [
        {
          "output_type": "stream",
          "name": "stdout",
          "text": [
            "299.9754146008427\n"
          ]
        },
        {
          "output_type": "execute_result",
          "data": {
            "text/plain": [
              "              Open         High          Low        Close        Volume  \\\n",
              "count  1257.000000  1257.000000  1257.000000  1257.000000  1.257000e+03   \n",
              "mean    299.811910   304.029698   295.797743   299.975415  2.315541e+07   \n",
              "std     124.745252   125.702635   123.419958   124.602584  1.572882e+07   \n",
              "min      89.657445    90.035660    87.676774    88.492935  4.726100e+06   \n",
              "25%     207.860358   210.607414   205.541276   208.795929  1.453120e+07   \n",
              "50%     277.850492   283.892056   274.983974   279.512665  1.938320e+07   \n",
              "75%     345.003997   350.448357   341.570169   344.665588  2.711680e+07   \n",
              "max     630.430133   637.318434   626.147422   631.608093  2.323166e+08   \n",
              "\n",
              "         Dividends  Stock Splits  \n",
              "count  1257.000000        1257.0  \n",
              "mean      0.001591           0.0  \n",
              "std       0.028172           0.0  \n",
              "min       0.000000           0.0  \n",
              "25%       0.000000           0.0  \n",
              "50%       0.000000           0.0  \n",
              "75%       0.000000           0.0  \n",
              "max       0.500000           0.0  "
            ],
            "text/html": [
              "\n",
              "  <div id=\"df-5924836f-3a55-4d86-8ae8-f660f8bd1fcb\" class=\"colab-df-container\">\n",
              "    <div>\n",
              "<style scoped>\n",
              "    .dataframe tbody tr th:only-of-type {\n",
              "        vertical-align: middle;\n",
              "    }\n",
              "\n",
              "    .dataframe tbody tr th {\n",
              "        vertical-align: top;\n",
              "    }\n",
              "\n",
              "    .dataframe thead th {\n",
              "        text-align: right;\n",
              "    }\n",
              "</style>\n",
              "<table border=\"1\" class=\"dataframe\">\n",
              "  <thead>\n",
              "    <tr style=\"text-align: right;\">\n",
              "      <th></th>\n",
              "      <th>Open</th>\n",
              "      <th>High</th>\n",
              "      <th>Low</th>\n",
              "      <th>Close</th>\n",
              "      <th>Volume</th>\n",
              "      <th>Dividends</th>\n",
              "      <th>Stock Splits</th>\n",
              "    </tr>\n",
              "  </thead>\n",
              "  <tbody>\n",
              "    <tr>\n",
              "      <th>count</th>\n",
              "      <td>1257.000000</td>\n",
              "      <td>1257.000000</td>\n",
              "      <td>1257.000000</td>\n",
              "      <td>1257.000000</td>\n",
              "      <td>1.257000e+03</td>\n",
              "      <td>1257.000000</td>\n",
              "      <td>1257.0</td>\n",
              "    </tr>\n",
              "    <tr>\n",
              "      <th>mean</th>\n",
              "      <td>299.811910</td>\n",
              "      <td>304.029698</td>\n",
              "      <td>295.797743</td>\n",
              "      <td>299.975415</td>\n",
              "      <td>2.315541e+07</td>\n",
              "      <td>0.001591</td>\n",
              "      <td>0.0</td>\n",
              "    </tr>\n",
              "    <tr>\n",
              "      <th>std</th>\n",
              "      <td>124.745252</td>\n",
              "      <td>125.702635</td>\n",
              "      <td>123.419958</td>\n",
              "      <td>124.602584</td>\n",
              "      <td>1.572882e+07</td>\n",
              "      <td>0.028172</td>\n",
              "      <td>0.0</td>\n",
              "    </tr>\n",
              "    <tr>\n",
              "      <th>min</th>\n",
              "      <td>89.657445</td>\n",
              "      <td>90.035660</td>\n",
              "      <td>87.676774</td>\n",
              "      <td>88.492935</td>\n",
              "      <td>4.726100e+06</td>\n",
              "      <td>0.000000</td>\n",
              "      <td>0.0</td>\n",
              "    </tr>\n",
              "    <tr>\n",
              "      <th>25%</th>\n",
              "      <td>207.860358</td>\n",
              "      <td>210.607414</td>\n",
              "      <td>205.541276</td>\n",
              "      <td>208.795929</td>\n",
              "      <td>1.453120e+07</td>\n",
              "      <td>0.000000</td>\n",
              "      <td>0.0</td>\n",
              "    </tr>\n",
              "    <tr>\n",
              "      <th>50%</th>\n",
              "      <td>277.850492</td>\n",
              "      <td>283.892056</td>\n",
              "      <td>274.983974</td>\n",
              "      <td>279.512665</td>\n",
              "      <td>1.938320e+07</td>\n",
              "      <td>0.000000</td>\n",
              "      <td>0.0</td>\n",
              "    </tr>\n",
              "    <tr>\n",
              "      <th>75%</th>\n",
              "      <td>345.003997</td>\n",
              "      <td>350.448357</td>\n",
              "      <td>341.570169</td>\n",
              "      <td>344.665588</td>\n",
              "      <td>2.711680e+07</td>\n",
              "      <td>0.000000</td>\n",
              "      <td>0.0</td>\n",
              "    </tr>\n",
              "    <tr>\n",
              "      <th>max</th>\n",
              "      <td>630.430133</td>\n",
              "      <td>637.318434</td>\n",
              "      <td>626.147422</td>\n",
              "      <td>631.608093</td>\n",
              "      <td>2.323166e+08</td>\n",
              "      <td>0.500000</td>\n",
              "      <td>0.0</td>\n",
              "    </tr>\n",
              "  </tbody>\n",
              "</table>\n",
              "</div>\n",
              "    <div class=\"colab-df-buttons\">\n",
              "\n",
              "  <div class=\"colab-df-container\">\n",
              "    <button class=\"colab-df-convert\" onclick=\"convertToInteractive('df-5924836f-3a55-4d86-8ae8-f660f8bd1fcb')\"\n",
              "            title=\"Convert this dataframe to an interactive table.\"\n",
              "            style=\"display:none;\">\n",
              "\n",
              "  <svg xmlns=\"http://www.w3.org/2000/svg\" height=\"24px\" viewBox=\"0 -960 960 960\">\n",
              "    <path d=\"M120-120v-720h720v720H120Zm60-500h600v-160H180v160Zm220 220h160v-160H400v160Zm0 220h160v-160H400v160ZM180-400h160v-160H180v160Zm440 0h160v-160H620v160ZM180-180h160v-160H180v160Zm440 0h160v-160H620v160Z\"/>\n",
              "  </svg>\n",
              "    </button>\n",
              "\n",
              "  <style>\n",
              "    .colab-df-container {\n",
              "      display:flex;\n",
              "      gap: 12px;\n",
              "    }\n",
              "\n",
              "    .colab-df-convert {\n",
              "      background-color: #E8F0FE;\n",
              "      border: none;\n",
              "      border-radius: 50%;\n",
              "      cursor: pointer;\n",
              "      display: none;\n",
              "      fill: #1967D2;\n",
              "      height: 32px;\n",
              "      padding: 0 0 0 0;\n",
              "      width: 32px;\n",
              "    }\n",
              "\n",
              "    .colab-df-convert:hover {\n",
              "      background-color: #E2EBFA;\n",
              "      box-shadow: 0px 1px 2px rgba(60, 64, 67, 0.3), 0px 1px 3px 1px rgba(60, 64, 67, 0.15);\n",
              "      fill: #174EA6;\n",
              "    }\n",
              "\n",
              "    .colab-df-buttons div {\n",
              "      margin-bottom: 4px;\n",
              "    }\n",
              "\n",
              "    [theme=dark] .colab-df-convert {\n",
              "      background-color: #3B4455;\n",
              "      fill: #D2E3FC;\n",
              "    }\n",
              "\n",
              "    [theme=dark] .colab-df-convert:hover {\n",
              "      background-color: #434B5C;\n",
              "      box-shadow: 0px 1px 3px 1px rgba(0, 0, 0, 0.15);\n",
              "      filter: drop-shadow(0px 1px 2px rgba(0, 0, 0, 0.3));\n",
              "      fill: #FFFFFF;\n",
              "    }\n",
              "  </style>\n",
              "\n",
              "    <script>\n",
              "      const buttonEl =\n",
              "        document.querySelector('#df-5924836f-3a55-4d86-8ae8-f660f8bd1fcb button.colab-df-convert');\n",
              "      buttonEl.style.display =\n",
              "        google.colab.kernel.accessAllowed ? 'block' : 'none';\n",
              "\n",
              "      async function convertToInteractive(key) {\n",
              "        const element = document.querySelector('#df-5924836f-3a55-4d86-8ae8-f660f8bd1fcb');\n",
              "        const dataTable =\n",
              "          await google.colab.kernel.invokeFunction('convertToInteractive',\n",
              "                                                    [key], {});\n",
              "        if (!dataTable) return;\n",
              "\n",
              "        const docLinkHtml = 'Like what you see? Visit the ' +\n",
              "          '<a target=\"_blank\" href=https://colab.research.google.com/notebooks/data_table.ipynb>data table notebook</a>'\n",
              "          + ' to learn more about interactive tables.';\n",
              "        element.innerHTML = '';\n",
              "        dataTable['output_type'] = 'display_data';\n",
              "        await google.colab.output.renderOutput(dataTable, element);\n",
              "        const docLink = document.createElement('div');\n",
              "        docLink.innerHTML = docLinkHtml;\n",
              "        element.appendChild(docLink);\n",
              "      }\n",
              "    </script>\n",
              "  </div>\n",
              "\n",
              "\n",
              "<div id=\"df-248cc99d-e2d1-4b70-9b2a-8f1d4b0ed42e\">\n",
              "  <button class=\"colab-df-quickchart\" onclick=\"quickchart('df-248cc99d-e2d1-4b70-9b2a-8f1d4b0ed42e')\"\n",
              "            title=\"Suggest charts\"\n",
              "            style=\"display:none;\">\n",
              "\n",
              "<svg xmlns=\"http://www.w3.org/2000/svg\" height=\"24px\"viewBox=\"0 0 24 24\"\n",
              "     width=\"24px\">\n",
              "    <g>\n",
              "        <path d=\"M19 3H5c-1.1 0-2 .9-2 2v14c0 1.1.9 2 2 2h14c1.1 0 2-.9 2-2V5c0-1.1-.9-2-2-2zM9 17H7v-7h2v7zm4 0h-2V7h2v10zm4 0h-2v-4h2v4z\"/>\n",
              "    </g>\n",
              "</svg>\n",
              "  </button>\n",
              "\n",
              "<style>\n",
              "  .colab-df-quickchart {\n",
              "      --bg-color: #E8F0FE;\n",
              "      --fill-color: #1967D2;\n",
              "      --hover-bg-color: #E2EBFA;\n",
              "      --hover-fill-color: #174EA6;\n",
              "      --disabled-fill-color: #AAA;\n",
              "      --disabled-bg-color: #DDD;\n",
              "  }\n",
              "\n",
              "  [theme=dark] .colab-df-quickchart {\n",
              "      --bg-color: #3B4455;\n",
              "      --fill-color: #D2E3FC;\n",
              "      --hover-bg-color: #434B5C;\n",
              "      --hover-fill-color: #FFFFFF;\n",
              "      --disabled-bg-color: #3B4455;\n",
              "      --disabled-fill-color: #666;\n",
              "  }\n",
              "\n",
              "  .colab-df-quickchart {\n",
              "    background-color: var(--bg-color);\n",
              "    border: none;\n",
              "    border-radius: 50%;\n",
              "    cursor: pointer;\n",
              "    display: none;\n",
              "    fill: var(--fill-color);\n",
              "    height: 32px;\n",
              "    padding: 0;\n",
              "    width: 32px;\n",
              "  }\n",
              "\n",
              "  .colab-df-quickchart:hover {\n",
              "    background-color: var(--hover-bg-color);\n",
              "    box-shadow: 0 1px 2px rgba(60, 64, 67, 0.3), 0 1px 3px 1px rgba(60, 64, 67, 0.15);\n",
              "    fill: var(--button-hover-fill-color);\n",
              "  }\n",
              "\n",
              "  .colab-df-quickchart-complete:disabled,\n",
              "  .colab-df-quickchart-complete:disabled:hover {\n",
              "    background-color: var(--disabled-bg-color);\n",
              "    fill: var(--disabled-fill-color);\n",
              "    box-shadow: none;\n",
              "  }\n",
              "\n",
              "  .colab-df-spinner {\n",
              "    border: 2px solid var(--fill-color);\n",
              "    border-color: transparent;\n",
              "    border-bottom-color: var(--fill-color);\n",
              "    animation:\n",
              "      spin 1s steps(1) infinite;\n",
              "  }\n",
              "\n",
              "  @keyframes spin {\n",
              "    0% {\n",
              "      border-color: transparent;\n",
              "      border-bottom-color: var(--fill-color);\n",
              "      border-left-color: var(--fill-color);\n",
              "    }\n",
              "    20% {\n",
              "      border-color: transparent;\n",
              "      border-left-color: var(--fill-color);\n",
              "      border-top-color: var(--fill-color);\n",
              "    }\n",
              "    30% {\n",
              "      border-color: transparent;\n",
              "      border-left-color: var(--fill-color);\n",
              "      border-top-color: var(--fill-color);\n",
              "      border-right-color: var(--fill-color);\n",
              "    }\n",
              "    40% {\n",
              "      border-color: transparent;\n",
              "      border-right-color: var(--fill-color);\n",
              "      border-top-color: var(--fill-color);\n",
              "    }\n",
              "    60% {\n",
              "      border-color: transparent;\n",
              "      border-right-color: var(--fill-color);\n",
              "    }\n",
              "    80% {\n",
              "      border-color: transparent;\n",
              "      border-right-color: var(--fill-color);\n",
              "      border-bottom-color: var(--fill-color);\n",
              "    }\n",
              "    90% {\n",
              "      border-color: transparent;\n",
              "      border-bottom-color: var(--fill-color);\n",
              "    }\n",
              "  }\n",
              "</style>\n",
              "\n",
              "  <script>\n",
              "    async function quickchart(key) {\n",
              "      const quickchartButtonEl =\n",
              "        document.querySelector('#' + key + ' button');\n",
              "      quickchartButtonEl.disabled = true;  // To prevent multiple clicks.\n",
              "      quickchartButtonEl.classList.add('colab-df-spinner');\n",
              "      try {\n",
              "        const charts = await google.colab.kernel.invokeFunction(\n",
              "            'suggestCharts', [key], {});\n",
              "      } catch (error) {\n",
              "        console.error('Error during call to suggestCharts:', error);\n",
              "      }\n",
              "      quickchartButtonEl.classList.remove('colab-df-spinner');\n",
              "      quickchartButtonEl.classList.add('colab-df-quickchart-complete');\n",
              "    }\n",
              "    (() => {\n",
              "      let quickchartButtonEl =\n",
              "        document.querySelector('#df-248cc99d-e2d1-4b70-9b2a-8f1d4b0ed42e button');\n",
              "      quickchartButtonEl.style.display =\n",
              "        google.colab.kernel.accessAllowed ? 'block' : 'none';\n",
              "    })();\n",
              "  </script>\n",
              "</div>\n",
              "\n",
              "    </div>\n",
              "  </div>\n"
            ],
            "application/vnd.google.colaboratory.intrinsic+json": {
              "type": "dataframe",
              "summary": "{\n  \"name\": \"META\",\n  \"rows\": 8,\n  \"fields\": [\n    {\n      \"column\": \"Open\",\n      \"properties\": {\n        \"dtype\": \"number\",\n        \"std\": 382.54676449668193,\n        \"min\": 89.65744499802331,\n        \"max\": 1257.0,\n        \"num_unique_values\": 8,\n        \"samples\": [\n          299.8119097455495,\n          277.8504920902116,\n          1257.0\n        ],\n        \"semantic_type\": \"\",\n        \"description\": \"\"\n      }\n    },\n    {\n      \"column\": \"High\",\n      \"properties\": {\n        \"dtype\": \"number\",\n        \"std\": 382.2240584442403,\n        \"min\": 90.03565971999477,\n        \"max\": 1257.0,\n        \"num_unique_values\": 8,\n        \"samples\": [\n          304.02969796015935,\n          283.89205590007015,\n          1257.0\n        ],\n        \"semantic_type\": \"\",\n        \"description\": \"\"\n      }\n    },\n    {\n      \"column\": \"Low\",\n      \"properties\": {\n        \"dtype\": \"number\",\n        \"std\": 383.09471362857096,\n        \"min\": 87.67677376490204,\n        \"max\": 1257.0,\n        \"num_unique_values\": 8,\n        \"samples\": [\n          295.7977428595257,\n          274.98397390963555,\n          1257.0\n        ],\n        \"semantic_type\": \"\",\n        \"description\": \"\"\n      }\n    },\n    {\n      \"column\": \"Close\",\n      \"properties\": {\n        \"dtype\": \"number\",\n        \"std\": 382.65325615158685,\n        \"min\": 88.49293518066406,\n        \"max\": 1257.0,\n        \"num_unique_values\": 8,\n        \"samples\": [\n          299.9754146008427,\n          279.5126647949219,\n          1257.0\n        ],\n        \"semantic_type\": \"\",\n        \"description\": \"\"\n      }\n    },\n    {\n      \"column\": \"Volume\",\n      \"properties\": {\n        \"dtype\": \"number\",\n        \"std\": 77373296.67712471,\n        \"min\": 1257.0,\n        \"max\": 232316600.0,\n        \"num_unique_values\": 8,\n        \"samples\": [\n          23155408.353221957,\n          19383200.0,\n          1257.0\n        ],\n        \"semantic_type\": \"\",\n        \"description\": \"\"\n      }\n    },\n    {\n      \"column\": \"Dividends\",\n      \"properties\": {\n        \"dtype\": \"number\",\n        \"std\": 444.38988878138554,\n        \"min\": 0.0,\n        \"max\": 1257.0,\n        \"num_unique_values\": 5,\n        \"samples\": [\n          0.0015910898965791568,\n          0.5,\n          0.028171701427339768\n        ],\n        \"semantic_type\": \"\",\n        \"description\": \"\"\n      }\n    },\n    {\n      \"column\": \"Stock Splits\",\n      \"properties\": {\n        \"dtype\": \"number\",\n        \"std\": 444.4166119757451,\n        \"min\": 0.0,\n        \"max\": 1257.0,\n        \"num_unique_values\": 2,\n        \"samples\": [\n          0.0,\n          1257.0\n        ],\n        \"semantic_type\": \"\",\n        \"description\": \"\"\n      }\n    }\n  ]\n}"
            }
          },
          "metadata": {},
          "execution_count": 14
        }
      ]
    },
    {
      "cell_type": "markdown",
      "source": [
        "## Now, let us keep only the closing prices for our analysis."
      ],
      "metadata": {
        "id": "zehh5wfWqQOx"
      }
    },
    {
      "cell_type": "code",
      "source": [
        "## keep only column close for all tickers\n",
        "for ticker in tickers:\n",
        "    globals()[ticker] = globals()[ticker].Close\n",
        "\n",
        "SPY"
      ],
      "metadata": {
        "id": "6Q94q7AxqC0r",
        "outputId": "025b4942-b7dc-4f71-c73e-4c893553d507",
        "colab": {
          "base_uri": "https://localhost:8080/",
          "height": 489
        }
      },
      "execution_count": null,
      "outputs": [
        {
          "output_type": "execute_result",
          "data": {
            "text/plain": [
              "Date\n",
              "2020-01-02 00:00:00-05:00    300.291595\n",
              "2020-01-03 00:00:00-05:00    298.017700\n",
              "2020-01-06 00:00:00-05:00    299.154633\n",
              "2020-01-07 00:00:00-05:00    298.313385\n",
              "2020-01-08 00:00:00-05:00    299.903381\n",
              "                                ...    \n",
              "2024-12-23 00:00:00-05:00    592.906433\n",
              "2024-12-24 00:00:00-05:00    599.496582\n",
              "2024-12-26 00:00:00-05:00    599.536499\n",
              "2024-12-27 00:00:00-05:00    593.225464\n",
              "2024-12-30 00:00:00-05:00    586.455811\n",
              "Name: Close, Length: 1257, dtype: float64"
            ],
            "text/html": [
              "<div>\n",
              "<style scoped>\n",
              "    .dataframe tbody tr th:only-of-type {\n",
              "        vertical-align: middle;\n",
              "    }\n",
              "\n",
              "    .dataframe tbody tr th {\n",
              "        vertical-align: top;\n",
              "    }\n",
              "\n",
              "    .dataframe thead th {\n",
              "        text-align: right;\n",
              "    }\n",
              "</style>\n",
              "<table border=\"1\" class=\"dataframe\">\n",
              "  <thead>\n",
              "    <tr style=\"text-align: right;\">\n",
              "      <th></th>\n",
              "      <th>Close</th>\n",
              "    </tr>\n",
              "    <tr>\n",
              "      <th>Date</th>\n",
              "      <th></th>\n",
              "    </tr>\n",
              "  </thead>\n",
              "  <tbody>\n",
              "    <tr>\n",
              "      <th>2020-01-02 00:00:00-05:00</th>\n",
              "      <td>300.291595</td>\n",
              "    </tr>\n",
              "    <tr>\n",
              "      <th>2020-01-03 00:00:00-05:00</th>\n",
              "      <td>298.017700</td>\n",
              "    </tr>\n",
              "    <tr>\n",
              "      <th>2020-01-06 00:00:00-05:00</th>\n",
              "      <td>299.154633</td>\n",
              "    </tr>\n",
              "    <tr>\n",
              "      <th>2020-01-07 00:00:00-05:00</th>\n",
              "      <td>298.313385</td>\n",
              "    </tr>\n",
              "    <tr>\n",
              "      <th>2020-01-08 00:00:00-05:00</th>\n",
              "      <td>299.903381</td>\n",
              "    </tr>\n",
              "    <tr>\n",
              "      <th>...</th>\n",
              "      <td>...</td>\n",
              "    </tr>\n",
              "    <tr>\n",
              "      <th>2024-12-23 00:00:00-05:00</th>\n",
              "      <td>592.906433</td>\n",
              "    </tr>\n",
              "    <tr>\n",
              "      <th>2024-12-24 00:00:00-05:00</th>\n",
              "      <td>599.496582</td>\n",
              "    </tr>\n",
              "    <tr>\n",
              "      <th>2024-12-26 00:00:00-05:00</th>\n",
              "      <td>599.536499</td>\n",
              "    </tr>\n",
              "    <tr>\n",
              "      <th>2024-12-27 00:00:00-05:00</th>\n",
              "      <td>593.225464</td>\n",
              "    </tr>\n",
              "    <tr>\n",
              "      <th>2024-12-30 00:00:00-05:00</th>\n",
              "      <td>586.455811</td>\n",
              "    </tr>\n",
              "  </tbody>\n",
              "</table>\n",
              "<p>1257 rows × 1 columns</p>\n",
              "</div><br><label><b>dtype:</b> float64</label>"
            ]
          },
          "metadata": {},
          "execution_count": 58
        }
      ]
    },
    {
      "cell_type": "code",
      "source": [
        "df = pd.DataFrame({'Market': SPY, 'AAPL':AAPL, 'AAL':AAL, 'NFLX':NFLX, 'META':META,'ZM':ZM, 'TSLA':TSLA, 'DIS':DIS, 'NVDA':NVDA, 'TGT':TGT, 'VZ':VZ})\n",
        "df.head()\n",
        "df.tail()"
      ],
      "metadata": {
        "id": "R-6EAoG7qQBk",
        "outputId": "651c6580-43cb-4c96-9d69-2aa04dc2a6e0",
        "colab": {
          "base_uri": "https://localhost:8080/",
          "height": 237
        }
      },
      "execution_count": null,
      "outputs": [
        {
          "output_type": "execute_result",
          "data": {
            "text/plain": [
              "                               Market        AAPL        AAL        NFLX  \\\n",
              "Date                                                                       \n",
              "2024-12-23 00:00:00-05:00  592.906433  254.989655  17.250000  911.450012   \n",
              "2024-12-24 00:00:00-05:00  599.496582  257.916443  17.350000  932.119995   \n",
              "2024-12-26 00:00:00-05:00  599.536499  258.735504  17.350000  924.140015   \n",
              "2024-12-27 00:00:00-05:00  593.225464  255.309296  17.350000  907.549988   \n",
              "2024-12-30 00:00:00-05:00  586.455811  251.923019  17.620001  900.429993   \n",
              "\n",
              "                                 META         ZM        TSLA         DIS  \\\n",
              "Date                                                                       \n",
              "2024-12-23 00:00:00-05:00  599.316772  85.269997  430.600006  111.400002   \n",
              "2024-12-24 00:00:00-05:00  607.209778  85.669998  462.279999  112.559998   \n",
              "2024-12-26 00:00:00-05:00  602.813660  85.440002  454.130005  112.550003   \n",
              "2024-12-27 00:00:00-05:00  599.276855  83.820000  431.660004  111.550003   \n",
              "2024-12-30 00:00:00-05:00  590.714417  82.730003  417.410004  110.800003   \n",
              "\n",
              "                                 NVDA         TGT         VZ  \n",
              "Date                                                          \n",
              "2024-12-23 00:00:00-05:00  139.657150  130.804489  39.244587  \n",
              "2024-12-24 00:00:00-05:00  140.207108  131.280426  39.107025  \n",
              "2024-12-26 00:00:00-05:00  139.917130  135.236679  39.264240  \n",
              "2024-12-27 00:00:00-05:00  136.997391  134.354218  39.224934  \n",
              "2024-12-30 00:00:00-05:00  137.477356  133.908020  38.910507  "
            ],
            "text/html": [
              "\n",
              "  <div id=\"df-078a5c21-f2b4-4a4a-a5fe-b254402b88f0\" class=\"colab-df-container\">\n",
              "    <div>\n",
              "<style scoped>\n",
              "    .dataframe tbody tr th:only-of-type {\n",
              "        vertical-align: middle;\n",
              "    }\n",
              "\n",
              "    .dataframe tbody tr th {\n",
              "        vertical-align: top;\n",
              "    }\n",
              "\n",
              "    .dataframe thead th {\n",
              "        text-align: right;\n",
              "    }\n",
              "</style>\n",
              "<table border=\"1\" class=\"dataframe\">\n",
              "  <thead>\n",
              "    <tr style=\"text-align: right;\">\n",
              "      <th></th>\n",
              "      <th>Market</th>\n",
              "      <th>AAPL</th>\n",
              "      <th>AAL</th>\n",
              "      <th>NFLX</th>\n",
              "      <th>META</th>\n",
              "      <th>ZM</th>\n",
              "      <th>TSLA</th>\n",
              "      <th>DIS</th>\n",
              "      <th>NVDA</th>\n",
              "      <th>TGT</th>\n",
              "      <th>VZ</th>\n",
              "    </tr>\n",
              "    <tr>\n",
              "      <th>Date</th>\n",
              "      <th></th>\n",
              "      <th></th>\n",
              "      <th></th>\n",
              "      <th></th>\n",
              "      <th></th>\n",
              "      <th></th>\n",
              "      <th></th>\n",
              "      <th></th>\n",
              "      <th></th>\n",
              "      <th></th>\n",
              "      <th></th>\n",
              "    </tr>\n",
              "  </thead>\n",
              "  <tbody>\n",
              "    <tr>\n",
              "      <th>2024-12-23 00:00:00-05:00</th>\n",
              "      <td>592.906433</td>\n",
              "      <td>254.989655</td>\n",
              "      <td>17.250000</td>\n",
              "      <td>911.450012</td>\n",
              "      <td>599.316772</td>\n",
              "      <td>85.269997</td>\n",
              "      <td>430.600006</td>\n",
              "      <td>111.400002</td>\n",
              "      <td>139.657150</td>\n",
              "      <td>130.804489</td>\n",
              "      <td>39.244587</td>\n",
              "    </tr>\n",
              "    <tr>\n",
              "      <th>2024-12-24 00:00:00-05:00</th>\n",
              "      <td>599.496582</td>\n",
              "      <td>257.916443</td>\n",
              "      <td>17.350000</td>\n",
              "      <td>932.119995</td>\n",
              "      <td>607.209778</td>\n",
              "      <td>85.669998</td>\n",
              "      <td>462.279999</td>\n",
              "      <td>112.559998</td>\n",
              "      <td>140.207108</td>\n",
              "      <td>131.280426</td>\n",
              "      <td>39.107025</td>\n",
              "    </tr>\n",
              "    <tr>\n",
              "      <th>2024-12-26 00:00:00-05:00</th>\n",
              "      <td>599.536499</td>\n",
              "      <td>258.735504</td>\n",
              "      <td>17.350000</td>\n",
              "      <td>924.140015</td>\n",
              "      <td>602.813660</td>\n",
              "      <td>85.440002</td>\n",
              "      <td>454.130005</td>\n",
              "      <td>112.550003</td>\n",
              "      <td>139.917130</td>\n",
              "      <td>135.236679</td>\n",
              "      <td>39.264240</td>\n",
              "    </tr>\n",
              "    <tr>\n",
              "      <th>2024-12-27 00:00:00-05:00</th>\n",
              "      <td>593.225464</td>\n",
              "      <td>255.309296</td>\n",
              "      <td>17.350000</td>\n",
              "      <td>907.549988</td>\n",
              "      <td>599.276855</td>\n",
              "      <td>83.820000</td>\n",
              "      <td>431.660004</td>\n",
              "      <td>111.550003</td>\n",
              "      <td>136.997391</td>\n",
              "      <td>134.354218</td>\n",
              "      <td>39.224934</td>\n",
              "    </tr>\n",
              "    <tr>\n",
              "      <th>2024-12-30 00:00:00-05:00</th>\n",
              "      <td>586.455811</td>\n",
              "      <td>251.923019</td>\n",
              "      <td>17.620001</td>\n",
              "      <td>900.429993</td>\n",
              "      <td>590.714417</td>\n",
              "      <td>82.730003</td>\n",
              "      <td>417.410004</td>\n",
              "      <td>110.800003</td>\n",
              "      <td>137.477356</td>\n",
              "      <td>133.908020</td>\n",
              "      <td>38.910507</td>\n",
              "    </tr>\n",
              "  </tbody>\n",
              "</table>\n",
              "</div>\n",
              "    <div class=\"colab-df-buttons\">\n",
              "\n",
              "  <div class=\"colab-df-container\">\n",
              "    <button class=\"colab-df-convert\" onclick=\"convertToInteractive('df-078a5c21-f2b4-4a4a-a5fe-b254402b88f0')\"\n",
              "            title=\"Convert this dataframe to an interactive table.\"\n",
              "            style=\"display:none;\">\n",
              "\n",
              "  <svg xmlns=\"http://www.w3.org/2000/svg\" height=\"24px\" viewBox=\"0 -960 960 960\">\n",
              "    <path d=\"M120-120v-720h720v720H120Zm60-500h600v-160H180v160Zm220 220h160v-160H400v160Zm0 220h160v-160H400v160ZM180-400h160v-160H180v160Zm440 0h160v-160H620v160ZM180-180h160v-160H180v160Zm440 0h160v-160H620v160Z\"/>\n",
              "  </svg>\n",
              "    </button>\n",
              "\n",
              "  <style>\n",
              "    .colab-df-container {\n",
              "      display:flex;\n",
              "      gap: 12px;\n",
              "    }\n",
              "\n",
              "    .colab-df-convert {\n",
              "      background-color: #E8F0FE;\n",
              "      border: none;\n",
              "      border-radius: 50%;\n",
              "      cursor: pointer;\n",
              "      display: none;\n",
              "      fill: #1967D2;\n",
              "      height: 32px;\n",
              "      padding: 0 0 0 0;\n",
              "      width: 32px;\n",
              "    }\n",
              "\n",
              "    .colab-df-convert:hover {\n",
              "      background-color: #E2EBFA;\n",
              "      box-shadow: 0px 1px 2px rgba(60, 64, 67, 0.3), 0px 1px 3px 1px rgba(60, 64, 67, 0.15);\n",
              "      fill: #174EA6;\n",
              "    }\n",
              "\n",
              "    .colab-df-buttons div {\n",
              "      margin-bottom: 4px;\n",
              "    }\n",
              "\n",
              "    [theme=dark] .colab-df-convert {\n",
              "      background-color: #3B4455;\n",
              "      fill: #D2E3FC;\n",
              "    }\n",
              "\n",
              "    [theme=dark] .colab-df-convert:hover {\n",
              "      background-color: #434B5C;\n",
              "      box-shadow: 0px 1px 3px 1px rgba(0, 0, 0, 0.15);\n",
              "      filter: drop-shadow(0px 1px 2px rgba(0, 0, 0, 0.3));\n",
              "      fill: #FFFFFF;\n",
              "    }\n",
              "  </style>\n",
              "\n",
              "    <script>\n",
              "      const buttonEl =\n",
              "        document.querySelector('#df-078a5c21-f2b4-4a4a-a5fe-b254402b88f0 button.colab-df-convert');\n",
              "      buttonEl.style.display =\n",
              "        google.colab.kernel.accessAllowed ? 'block' : 'none';\n",
              "\n",
              "      async function convertToInteractive(key) {\n",
              "        const element = document.querySelector('#df-078a5c21-f2b4-4a4a-a5fe-b254402b88f0');\n",
              "        const dataTable =\n",
              "          await google.colab.kernel.invokeFunction('convertToInteractive',\n",
              "                                                    [key], {});\n",
              "        if (!dataTable) return;\n",
              "\n",
              "        const docLinkHtml = 'Like what you see? Visit the ' +\n",
              "          '<a target=\"_blank\" href=https://colab.research.google.com/notebooks/data_table.ipynb>data table notebook</a>'\n",
              "          + ' to learn more about interactive tables.';\n",
              "        element.innerHTML = '';\n",
              "        dataTable['output_type'] = 'display_data';\n",
              "        await google.colab.output.renderOutput(dataTable, element);\n",
              "        const docLink = document.createElement('div');\n",
              "        docLink.innerHTML = docLinkHtml;\n",
              "        element.appendChild(docLink);\n",
              "      }\n",
              "    </script>\n",
              "  </div>\n",
              "\n",
              "\n",
              "<div id=\"df-7d1efd66-3ca3-47e0-bd0d-2c0f355c45e3\">\n",
              "  <button class=\"colab-df-quickchart\" onclick=\"quickchart('df-7d1efd66-3ca3-47e0-bd0d-2c0f355c45e3')\"\n",
              "            title=\"Suggest charts\"\n",
              "            style=\"display:none;\">\n",
              "\n",
              "<svg xmlns=\"http://www.w3.org/2000/svg\" height=\"24px\"viewBox=\"0 0 24 24\"\n",
              "     width=\"24px\">\n",
              "    <g>\n",
              "        <path d=\"M19 3H5c-1.1 0-2 .9-2 2v14c0 1.1.9 2 2 2h14c1.1 0 2-.9 2-2V5c0-1.1-.9-2-2-2zM9 17H7v-7h2v7zm4 0h-2V7h2v10zm4 0h-2v-4h2v4z\"/>\n",
              "    </g>\n",
              "</svg>\n",
              "  </button>\n",
              "\n",
              "<style>\n",
              "  .colab-df-quickchart {\n",
              "      --bg-color: #E8F0FE;\n",
              "      --fill-color: #1967D2;\n",
              "      --hover-bg-color: #E2EBFA;\n",
              "      --hover-fill-color: #174EA6;\n",
              "      --disabled-fill-color: #AAA;\n",
              "      --disabled-bg-color: #DDD;\n",
              "  }\n",
              "\n",
              "  [theme=dark] .colab-df-quickchart {\n",
              "      --bg-color: #3B4455;\n",
              "      --fill-color: #D2E3FC;\n",
              "      --hover-bg-color: #434B5C;\n",
              "      --hover-fill-color: #FFFFFF;\n",
              "      --disabled-bg-color: #3B4455;\n",
              "      --disabled-fill-color: #666;\n",
              "  }\n",
              "\n",
              "  .colab-df-quickchart {\n",
              "    background-color: var(--bg-color);\n",
              "    border: none;\n",
              "    border-radius: 50%;\n",
              "    cursor: pointer;\n",
              "    display: none;\n",
              "    fill: var(--fill-color);\n",
              "    height: 32px;\n",
              "    padding: 0;\n",
              "    width: 32px;\n",
              "  }\n",
              "\n",
              "  .colab-df-quickchart:hover {\n",
              "    background-color: var(--hover-bg-color);\n",
              "    box-shadow: 0 1px 2px rgba(60, 64, 67, 0.3), 0 1px 3px 1px rgba(60, 64, 67, 0.15);\n",
              "    fill: var(--button-hover-fill-color);\n",
              "  }\n",
              "\n",
              "  .colab-df-quickchart-complete:disabled,\n",
              "  .colab-df-quickchart-complete:disabled:hover {\n",
              "    background-color: var(--disabled-bg-color);\n",
              "    fill: var(--disabled-fill-color);\n",
              "    box-shadow: none;\n",
              "  }\n",
              "\n",
              "  .colab-df-spinner {\n",
              "    border: 2px solid var(--fill-color);\n",
              "    border-color: transparent;\n",
              "    border-bottom-color: var(--fill-color);\n",
              "    animation:\n",
              "      spin 1s steps(1) infinite;\n",
              "  }\n",
              "\n",
              "  @keyframes spin {\n",
              "    0% {\n",
              "      border-color: transparent;\n",
              "      border-bottom-color: var(--fill-color);\n",
              "      border-left-color: var(--fill-color);\n",
              "    }\n",
              "    20% {\n",
              "      border-color: transparent;\n",
              "      border-left-color: var(--fill-color);\n",
              "      border-top-color: var(--fill-color);\n",
              "    }\n",
              "    30% {\n",
              "      border-color: transparent;\n",
              "      border-left-color: var(--fill-color);\n",
              "      border-top-color: var(--fill-color);\n",
              "      border-right-color: var(--fill-color);\n",
              "    }\n",
              "    40% {\n",
              "      border-color: transparent;\n",
              "      border-right-color: var(--fill-color);\n",
              "      border-top-color: var(--fill-color);\n",
              "    }\n",
              "    60% {\n",
              "      border-color: transparent;\n",
              "      border-right-color: var(--fill-color);\n",
              "    }\n",
              "    80% {\n",
              "      border-color: transparent;\n",
              "      border-right-color: var(--fill-color);\n",
              "      border-bottom-color: var(--fill-color);\n",
              "    }\n",
              "    90% {\n",
              "      border-color: transparent;\n",
              "      border-bottom-color: var(--fill-color);\n",
              "    }\n",
              "  }\n",
              "</style>\n",
              "\n",
              "  <script>\n",
              "    async function quickchart(key) {\n",
              "      const quickchartButtonEl =\n",
              "        document.querySelector('#' + key + ' button');\n",
              "      quickchartButtonEl.disabled = true;  // To prevent multiple clicks.\n",
              "      quickchartButtonEl.classList.add('colab-df-spinner');\n",
              "      try {\n",
              "        const charts = await google.colab.kernel.invokeFunction(\n",
              "            'suggestCharts', [key], {});\n",
              "      } catch (error) {\n",
              "        console.error('Error during call to suggestCharts:', error);\n",
              "      }\n",
              "      quickchartButtonEl.classList.remove('colab-df-spinner');\n",
              "      quickchartButtonEl.classList.add('colab-df-quickchart-complete');\n",
              "    }\n",
              "    (() => {\n",
              "      let quickchartButtonEl =\n",
              "        document.querySelector('#df-7d1efd66-3ca3-47e0-bd0d-2c0f355c45e3 button');\n",
              "      quickchartButtonEl.style.display =\n",
              "        google.colab.kernel.accessAllowed ? 'block' : 'none';\n",
              "    })();\n",
              "  </script>\n",
              "</div>\n",
              "\n",
              "    </div>\n",
              "  </div>\n"
            ],
            "application/vnd.google.colaboratory.intrinsic+json": {
              "type": "dataframe",
              "summary": "{\n  \"name\": \"df\",\n  \"rows\": 5,\n  \"fields\": [\n    {\n      \"column\": \"Date\",\n      \"properties\": {\n        \"dtype\": \"date\",\n        \"min\": \"2024-12-23 00:00:00-05:00\",\n        \"max\": \"2024-12-30 00:00:00-05:00\",\n        \"num_unique_values\": 5,\n        \"samples\": [\n          \"2024-12-24 00:00:00-05:00\",\n          \"2024-12-30 00:00:00-05:00\",\n          \"2024-12-26 00:00:00-05:00\"\n        ],\n        \"semantic_type\": \"\",\n        \"description\": \"\"\n      }\n    },\n    {\n      \"column\": \"Market\",\n      \"properties\": {\n        \"dtype\": \"number\",\n        \"std\": 5.455511745492133,\n        \"min\": 586.455810546875,\n        \"max\": 599.5364990234375,\n        \"num_unique_values\": 5,\n        \"samples\": [\n          599.49658203125,\n          586.455810546875,\n          599.5364990234375\n        ],\n        \"semantic_type\": \"\",\n        \"description\": \"\"\n      }\n    },\n    {\n      \"column\": \"AAPL\",\n      \"properties\": {\n        \"dtype\": \"number\",\n        \"std\": 2.6935926130128265,\n        \"min\": 251.9230194091797,\n        \"max\": 258.7355041503906,\n        \"num_unique_values\": 5,\n        \"samples\": [\n          257.91644287109375,\n          251.9230194091797,\n          258.7355041503906\n        ],\n        \"semantic_type\": \"\",\n        \"description\": \"\"\n      }\n    },\n    {\n      \"column\": \"AAL\",\n      \"properties\": {\n        \"dtype\": \"number\",\n        \"std\": 0.13885272620540598,\n        \"min\": 17.25,\n        \"max\": 17.6200008392334,\n        \"num_unique_values\": 3,\n        \"samples\": [\n          17.25,\n          17.350000381469727,\n          17.6200008392334\n        ],\n        \"semantic_type\": \"\",\n        \"description\": \"\"\n      }\n    },\n    {\n      \"column\": \"NFLX\",\n      \"properties\": {\n        \"dtype\": \"number\",\n        \"std\": 12.815313969576364,\n        \"min\": 900.4299926757812,\n        \"max\": 932.1199951171875,\n        \"num_unique_values\": 5,\n        \"samples\": [\n          932.1199951171875,\n          900.4299926757812,\n          924.1400146484375\n        ],\n        \"semantic_type\": \"\",\n        \"description\": \"\"\n      }\n    },\n    {\n      \"column\": \"META\",\n      \"properties\": {\n        \"dtype\": \"number\",\n        \"std\": 6.0625900525171526,\n        \"min\": 590.7144165039062,\n        \"max\": 607.2097778320312,\n        \"num_unique_values\": 5,\n        \"samples\": [\n          607.2097778320312,\n          590.7144165039062,\n          602.8136596679688\n        ],\n        \"semantic_type\": \"\",\n        \"description\": \"\"\n      }\n    },\n    {\n      \"column\": \"ZM\",\n      \"properties\": {\n        \"dtype\": \"number\",\n        \"std\": 1.2652770066801458,\n        \"min\": 82.7300033569336,\n        \"max\": 85.66999816894531,\n        \"num_unique_values\": 5,\n        \"samples\": [\n          85.66999816894531,\n          82.7300033569336,\n          85.44000244140625\n        ],\n        \"semantic_type\": \"\",\n        \"description\": \"\"\n      }\n    },\n    {\n      \"column\": \"TSLA\",\n      \"properties\": {\n        \"dtype\": \"number\",\n        \"std\": 18.447259207714815,\n        \"min\": 417.4100036621094,\n        \"max\": 462.2799987792969,\n        \"num_unique_values\": 5,\n        \"samples\": [\n          462.2799987792969,\n          417.4100036621094,\n          454.1300048828125\n        ],\n        \"semantic_type\": \"\",\n        \"description\": \"\"\n      }\n    },\n    {\n      \"column\": \"DIS\",\n      \"properties\": {\n        \"dtype\": \"number\",\n        \"std\": 0.767898508601559,\n        \"min\": 110.80000305175781,\n        \"max\": 112.55999755859375,\n        \"num_unique_values\": 5,\n        \"samples\": [\n          112.55999755859375,\n          110.80000305175781,\n          112.55000305175781\n        ],\n        \"semantic_type\": \"\",\n        \"description\": \"\"\n      }\n    },\n    {\n      \"column\": \"NVDA\",\n      \"properties\": {\n        \"dtype\": \"number\",\n        \"std\": 1.4956857151929588,\n        \"min\": 136.9973907470703,\n        \"max\": 140.2071075439453,\n        \"num_unique_values\": 5,\n        \"samples\": [\n          140.2071075439453,\n          137.47735595703125,\n          139.91712951660156\n        ],\n        \"semantic_type\": \"\",\n        \"description\": \"\"\n      }\n    },\n    {\n      \"column\": \"TGT\",\n      \"properties\": {\n        \"dtype\": \"number\",\n        \"std\": 1.9602403847983896,\n        \"min\": 130.8044891357422,\n        \"max\": 135.23667907714844,\n        \"num_unique_values\": 5,\n        \"samples\": [\n          131.28042602539062,\n          133.90802001953125,\n          135.23667907714844\n        ],\n        \"semantic_type\": \"\",\n        \"description\": \"\"\n      }\n    },\n    {\n      \"column\": \"VZ\",\n      \"properties\": {\n        \"dtype\": \"number\",\n        \"std\": 0.1473226731081511,\n        \"min\": 38.91050720214844,\n        \"max\": 39.26424026489258,\n        \"num_unique_values\": 5,\n        \"samples\": [\n          39.107025146484375,\n          38.91050720214844,\n          39.26424026489258\n        ],\n        \"semantic_type\": \"\",\n        \"description\": \"\"\n      }\n    }\n  ]\n}"
            }
          },
          "metadata": {},
          "execution_count": 59
        }
      ]
    },
    {
      "cell_type": "code",
      "source": [
        "# print(AAPL)\n",
        "# print(AAPL.shift(1))"
      ],
      "metadata": {
        "id": "nIvs-jfOqCxT"
      },
      "execution_count": null,
      "outputs": []
    },
    {
      "cell_type": "code",
      "source": [
        "plt.style.use('fivethirtyeight')\n",
        "plt.figure(figsize=(5, 3))\n",
        "plt.plot(df, label=df.columns)\n",
        "plt.legend(loc='upper left',fontsize=8)\n",
        "plt.show()"
      ],
      "metadata": {
        "id": "xdFchPWxqCt5",
        "outputId": "586fbcce-36a2-4a6c-8b9d-8669ee478bea",
        "colab": {
          "base_uri": "https://localhost:8080/",
          "height": 299
        }
      },
      "execution_count": null,
      "outputs": [
        {
          "output_type": "display_data",
          "data": {
            "text/plain": [
              "<Figure size 500x300 with 1 Axes>"
            ],
            "image/png": "[encoded data removed]"
          },
          "metadata": {}
        }
      ]
    },
    {
      "cell_type": "markdown",
      "source": [
        "## For financial analysis, we require the log returns (daily), rather than the raw stock prices. The formula for log returns is:\n",
        "\n",
        "log(Today's Price/yesterday's price - 1)"
      ],
      "metadata": {
        "id": "uxdJRkJqsuSv"
      }
    },
    {
      "cell_type": "code",
      "source": [
        "# create new columns that are log returns of the columns\n",
        "data = np.log(df/df.shift(1))\n",
        "# data = (df-df.shift(1))/df.shift(1)\n",
        "# replace first row with zeroes\n",
        "data.iloc[0] = 0\n",
        "data.head(5)"
      ],
      "metadata": {
        "id": "42T9y7o3skC1",
        "outputId": "e2c0f0db-c47f-46da-b113-515163019aa6",
        "colab": {
          "base_uri": "https://localhost:8080/",
          "height": 237
        }
      },
      "execution_count": null,
      "outputs": [
        {
          "output_type": "execute_result",
          "data": {
            "text/plain": [
              "                             Market      AAPL       AAL      NFLX      META  \\\n",
              "Date                                                                          \n",
              "2020-01-02 00:00:00-05:00  0.000000  0.000000  0.000000  0.000000  0.000000   \n",
              "2020-01-03 00:00:00-05:00 -0.007601 -0.009770 -0.050769 -0.011926 -0.005305   \n",
              "2020-01-06 00:00:00-05:00  0.003808  0.007937 -0.012007  0.030014  0.018658   \n",
              "2020-01-07 00:00:00-05:00 -0.002816 -0.004714 -0.003667 -0.015242  0.002161   \n",
              "2020-01-08 00:00:00-05:00  0.005316  0.015958  0.022522  0.025404  0.010087   \n",
              "\n",
              "                                 ZM      TSLA       DIS      NVDA       TGT  \\\n",
              "Date                                                                          \n",
              "2020-01-02 00:00:00-05:00  0.000000  0.000000  0.000000  0.000000  0.000000   \n",
              "2020-01-03 00:00:00-05:00 -0.021177  0.029203 -0.011537 -0.016135 -0.010445   \n",
              "2020-01-06 00:00:00-05:00  0.044193  0.019072 -0.005819  0.004185 -0.009503   \n",
              "2020-01-07 00:00:00-05:00  0.022220  0.038067  0.000343  0.012034  0.001779   \n",
              "2020-01-08 00:00:00-05:00  0.009000  0.048033 -0.002061  0.001874 -0.003236   \n",
              "\n",
              "                                 VZ  \n",
              "Date                                 \n",
              "2020-01-02 00:00:00-05:00  0.000000  \n",
              "2020-01-03 00:00:00-05:00 -0.010704  \n",
              "2020-01-06 00:00:00-05:00 -0.002155  \n",
              "2020-01-07 00:00:00-05:00 -0.011179  \n",
              "2020-01-08 00:00:00-05:00  0.001844  "
            ],
            "text/html": [
              "\n",
              "  <div id=\"df-7457e2f1-8b6d-4d95-95b1-40636582ce56\" class=\"colab-df-container\">\n",
              "    <div>\n",
              "<style scoped>\n",
              "    .dataframe tbody tr th:only-of-type {\n",
              "        vertical-align: middle;\n",
              "    }\n",
              "\n",
              "    .dataframe tbody tr th {\n",
              "        vertical-align: top;\n",
              "    }\n",
              "\n",
              "    .dataframe thead th {\n",
              "        text-align: right;\n",
              "    }\n",
              "</style>\n",
              "<table border=\"1\" class=\"dataframe\">\n",
              "  <thead>\n",
              "    <tr style=\"text-align: right;\">\n",
              "      <th></th>\n",
              "      <th>Market</th>\n",
              "      <th>AAPL</th>\n",
              "      <th>AAL</th>\n",
              "      <th>NFLX</th>\n",
              "      <th>META</th>\n",
              "      <th>ZM</th>\n",
              "      <th>TSLA</th>\n",
              "      <th>DIS</th>\n",
              "      <th>NVDA</th>\n",
              "      <th>TGT</th>\n",
              "      <th>VZ</th>\n",
              "    </tr>\n",
              "    <tr>\n",
              "      <th>Date</th>\n",
              "      <th></th>\n",
              "      <th></th>\n",
              "      <th></th>\n",
              "      <th></th>\n",
              "      <th></th>\n",
              "      <th></th>\n",
              "      <th></th>\n",
              "      <th></th>\n",
              "      <th></th>\n",
              "      <th></th>\n",
              "      <th></th>\n",
              "    </tr>\n",
              "  </thead>\n",
              "  <tbody>\n",
              "    <tr>\n",
              "      <th>2020-01-02 00:00:00-05:00</th>\n",
              "      <td>0.000000</td>\n",
              "      <td>0.000000</td>\n",
              "      <td>0.000000</td>\n",
              "      <td>0.000000</td>\n",
              "      <td>0.000000</td>\n",
              "      <td>0.000000</td>\n",
              "      <td>0.000000</td>\n",
              "      <td>0.000000</td>\n",
              "      <td>0.000000</td>\n",
              "      <td>0.000000</td>\n",
              "      <td>0.000000</td>\n",
              "    </tr>\n",
              "    <tr>\n",
              "      <th>2020-01-03 00:00:00-05:00</th>\n",
              "      <td>-0.007601</td>\n",
              "      <td>-0.009770</td>\n",
              "      <td>-0.050769</td>\n",
              "      <td>-0.011926</td>\n",
              "      <td>-0.005305</td>\n",
              "      <td>-0.021177</td>\n",
              "      <td>0.029203</td>\n",
              "      <td>-0.011537</td>\n",
              "      <td>-0.016135</td>\n",
              "      <td>-0.010445</td>\n",
              "      <td>-0.010704</td>\n",
              "    </tr>\n",
              "    <tr>\n",
              "      <th>2020-01-06 00:00:00-05:00</th>\n",
              "      <td>0.003808</td>\n",
              "      <td>0.007937</td>\n",
              "      <td>-0.012007</td>\n",
              "      <td>0.030014</td>\n",
              "      <td>0.018658</td>\n",
              "      <td>0.044193</td>\n",
              "      <td>0.019072</td>\n",
              "      <td>-0.005819</td>\n",
              "      <td>0.004185</td>\n",
              "      <td>-0.009503</td>\n",
              "      <td>-0.002155</td>\n",
              "    </tr>\n",
              "    <tr>\n",
              "      <th>2020-01-07 00:00:00-05:00</th>\n",
              "      <td>-0.002816</td>\n",
              "      <td>-0.004714</td>\n",
              "      <td>-0.003667</td>\n",
              "      <td>-0.015242</td>\n",
              "      <td>0.002161</td>\n",
              "      <td>0.022220</td>\n",
              "      <td>0.038067</td>\n",
              "      <td>0.000343</td>\n",
              "      <td>0.012034</td>\n",
              "      <td>0.001779</td>\n",
              "      <td>-0.011179</td>\n",
              "    </tr>\n",
              "    <tr>\n",
              "      <th>2020-01-08 00:00:00-05:00</th>\n",
              "      <td>0.005316</td>\n",
              "      <td>0.015958</td>\n",
              "      <td>0.022522</td>\n",
              "      <td>0.025404</td>\n",
              "      <td>0.010087</td>\n",
              "      <td>0.009000</td>\n",
              "      <td>0.048033</td>\n",
              "      <td>-0.002061</td>\n",
              "      <td>0.001874</td>\n",
              "      <td>-0.003236</td>\n",
              "      <td>0.001844</td>\n",
              "    </tr>\n",
              "  </tbody>\n",
              "</table>\n",
              "</div>\n",
              "    <div class=\"colab-df-buttons\">\n",
              "\n",
              "  <div class=\"colab-df-container\">\n",
              "    <button class=\"colab-df-convert\" onclick=\"convertToInteractive('df-7457e2f1-8b6d-4d95-95b1-40636582ce56')\"\n",
              "            title=\"Convert this dataframe to an interactive table.\"\n",
              "            style=\"display:none;\">\n",
              "\n",
              "  <svg xmlns=\"http://www.w3.org/2000/svg\" height=\"24px\" viewBox=\"0 -960 960 960\">\n",
              "    <path d=\"M120-120v-720h720v720H120Zm60-500h600v-160H180v160Zm220 220h160v-160H400v160Zm0 220h160v-160H400v160ZM180-400h160v-160H180v160Zm440 0h160v-160H620v160ZM180-180h160v-160H180v160Zm440 0h160v-160H620v160Z\"/>\n",
              "  </svg>\n",
              "    </button>\n",
              "\n",
              "  <style>\n",
              "    .colab-df-container {\n",
              "      display:flex;\n",
              "      gap: 12px;\n",
              "    }\n",
              "\n",
              "    .colab-df-convert {\n",
              "      background-color: #E8F0FE;\n",
              "      border: none;\n",
              "      border-radius: 50%;\n",
              "      cursor: pointer;\n",
              "      display: none;\n",
              "      fill: #1967D2;\n",
              "      height: 32px;\n",
              "      padding: 0 0 0 0;\n",
              "      width: 32px;\n",
              "    }\n",
              "\n",
              "    .colab-df-convert:hover {\n",
              "      background-color: #E2EBFA;\n",
              "      box-shadow: 0px 1px 2px rgba(60, 64, 67, 0.3), 0px 1px 3px 1px rgba(60, 64, 67, 0.15);\n",
              "      fill: #174EA6;\n",
              "    }\n",
              "\n",
              "    .colab-df-buttons div {\n",
              "      margin-bottom: 4px;\n",
              "    }\n",
              "\n",
              "    [theme=dark] .colab-df-convert {\n",
              "      background-color: #3B4455;\n",
              "      fill: #D2E3FC;\n",
              "    }\n",
              "\n",
              "    [theme=dark] .colab-df-convert:hover {\n",
              "      background-color: #434B5C;\n",
              "      box-shadow: 0px 1px 3px 1px rgba(0, 0, 0, 0.15);\n",
              "      filter: drop-shadow(0px 1px 2px rgba(0, 0, 0, 0.3));\n",
              "      fill: #FFFFFF;\n",
              "    }\n",
              "  </style>\n",
              "\n",
              "    <script>\n",
              "      const buttonEl =\n",
              "        document.querySelector('#df-7457e2f1-8b6d-4d95-95b1-40636582ce56 button.colab-df-convert');\n",
              "      buttonEl.style.display =\n",
              "        google.colab.kernel.accessAllowed ? 'block' : 'none';\n",
              "\n",
              "      async function convertToInteractive(key) {\n",
              "        const element = document.querySelector('#df-7457e2f1-8b6d-4d95-95b1-40636582ce56');\n",
              "        const dataTable =\n",
              "          await google.colab.kernel.invokeFunction('convertToInteractive',\n",
              "                                                    [key], {});\n",
              "        if (!dataTable) return;\n",
              "\n",
              "        const docLinkHtml = 'Like what you see? Visit the ' +\n",
              "          '<a target=\"_blank\" href=https://colab.research.google.com/notebooks/data_table.ipynb>data table notebook</a>'\n",
              "          + ' to learn more about interactive tables.';\n",
              "        element.innerHTML = '';\n",
              "        dataTable['output_type'] = 'display_data';\n",
              "        await google.colab.output.renderOutput(dataTable, element);\n",
              "        const docLink = document.createElement('div');\n",
              "        docLink.innerHTML = docLinkHtml;\n",
              "        element.appendChild(docLink);\n",
              "      }\n",
              "    </script>\n",
              "  </div>\n",
              "\n",
              "\n",
              "<div id=\"df-5e58b587-27dc-472e-851f-3aca8c0cb69d\">\n",
              "  <button class=\"colab-df-quickchart\" onclick=\"quickchart('df-5e58b587-27dc-472e-851f-3aca8c0cb69d')\"\n",
              "            title=\"Suggest charts\"\n",
              "            style=\"display:none;\">\n",
              "\n",
              "<svg xmlns=\"http://www.w3.org/2000/svg\" height=\"24px\"viewBox=\"0 0 24 24\"\n",
              "     width=\"24px\">\n",
              "    <g>\n",
              "        <path d=\"M19 3H5c-1.1 0-2 .9-2 2v14c0 1.1.9 2 2 2h14c1.1 0 2-.9 2-2V5c0-1.1-.9-2-2-2zM9 17H7v-7h2v7zm4 0h-2V7h2v10zm4 0h-2v-4h2v4z\"/>\n",
              "    </g>\n",
              "</svg>\n",
              "  </button>\n",
              "\n",
              "<style>\n",
              "  .colab-df-quickchart {\n",
              "      --bg-color: #E8F0FE;\n",
              "      --fill-color: #1967D2;\n",
              "      --hover-bg-color: #E2EBFA;\n",
              "      --hover-fill-color: #174EA6;\n",
              "      --disabled-fill-color: #AAA;\n",
              "      --disabled-bg-color: #DDD;\n",
              "  }\n",
              "\n",
              "  [theme=dark] .colab-df-quickchart {\n",
              "      --bg-color: #3B4455;\n",
              "      --fill-color: #D2E3FC;\n",
              "      --hover-bg-color: #434B5C;\n",
              "      --hover-fill-color: #FFFFFF;\n",
              "      --disabled-bg-color: #3B4455;\n",
              "      --disabled-fill-color: #666;\n",
              "  }\n",
              "\n",
              "  .colab-df-quickchart {\n",
              "    background-color: var(--bg-color);\n",
              "    border: none;\n",
              "    border-radius: 50%;\n",
              "    cursor: pointer;\n",
              "    display: none;\n",
              "    fill: var(--fill-color);\n",
              "    height: 32px;\n",
              "    padding: 0;\n",
              "    width: 32px;\n",
              "  }\n",
              "\n",
              "  .colab-df-quickchart:hover {\n",
              "    background-color: var(--hover-bg-color);\n",
              "    box-shadow: 0 1px 2px rgba(60, 64, 67, 0.3), 0 1px 3px 1px rgba(60, 64, 67, 0.15);\n",
              "    fill: var(--button-hover-fill-color);\n",
              "  }\n",
              "\n",
              "  .colab-df-quickchart-complete:disabled,\n",
              "  .colab-df-quickchart-complete:disabled:hover {\n",
              "    background-color: var(--disabled-bg-color);\n",
              "    fill: var(--disabled-fill-color);\n",
              "    box-shadow: none;\n",
              "  }\n",
              "\n",
              "  .colab-df-spinner {\n",
              "    border: 2px solid var(--fill-color);\n",
              "    border-color: transparent;\n",
              "    border-bottom-color: var(--fill-color);\n",
              "    animation:\n",
              "      spin 1s steps(1) infinite;\n",
              "  }\n",
              "\n",
              "  @keyframes spin {\n",
              "    0% {\n",
              "      border-color: transparent;\n",
              "      border-bottom-color: var(--fill-color);\n",
              "      border-left-color: var(--fill-color);\n",
              "    }\n",
              "    20% {\n",
              "      border-color: transparent;\n",
              "      border-left-color: var(--fill-color);\n",
              "      border-top-color: var(--fill-color);\n",
              "    }\n",
              "    30% {\n",
              "      border-color: transparent;\n",
              "      border-left-color: var(--fill-color);\n",
              "      border-top-color: var(--fill-color);\n",
              "      border-right-color: var(--fill-color);\n",
              "    }\n",
              "    40% {\n",
              "      border-color: transparent;\n",
              "      border-right-color: var(--fill-color);\n",
              "      border-top-color: var(--fill-color);\n",
              "    }\n",
              "    60% {\n",
              "      border-color: transparent;\n",
              "      border-right-color: var(--fill-color);\n",
              "    }\n",
              "    80% {\n",
              "      border-color: transparent;\n",
              "      border-right-color: var(--fill-color);\n",
              "      border-bottom-color: var(--fill-color);\n",
              "    }\n",
              "    90% {\n",
              "      border-color: transparent;\n",
              "      border-bottom-color: var(--fill-color);\n",
              "    }\n",
              "  }\n",
              "</style>\n",
              "\n",
              "  <script>\n",
              "    async function quickchart(key) {\n",
              "      const quickchartButtonEl =\n",
              "        document.querySelector('#' + key + ' button');\n",
              "      quickchartButtonEl.disabled = true;  // To prevent multiple clicks.\n",
              "      quickchartButtonEl.classList.add('colab-df-spinner');\n",
              "      try {\n",
              "        const charts = await google.colab.kernel.invokeFunction(\n",
              "            'suggestCharts', [key], {});\n",
              "      } catch (error) {\n",
              "        console.error('Error during call to suggestCharts:', error);\n",
              "      }\n",
              "      quickchartButtonEl.classList.remove('colab-df-spinner');\n",
              "      quickchartButtonEl.classList.add('colab-df-quickchart-complete');\n",
              "    }\n",
              "    (() => {\n",
              "      let quickchartButtonEl =\n",
              "        document.querySelector('#df-5e58b587-27dc-472e-851f-3aca8c0cb69d button');\n",
              "      quickchartButtonEl.style.display =\n",
              "        google.colab.kernel.accessAllowed ? 'block' : 'none';\n",
              "    })();\n",
              "  </script>\n",
              "</div>\n",
              "\n",
              "    </div>\n",
              "  </div>\n"
            ],
            "application/vnd.google.colaboratory.intrinsic+json": {
              "type": "dataframe",
              "variable_name": "data",
              "summary": "{\n  \"name\": \"data\",\n  \"rows\": 1257,\n  \"fields\": [\n    {\n      \"column\": \"Date\",\n      \"properties\": {\n        \"dtype\": \"date\",\n        \"min\": \"2020-01-02 00:00:00-05:00\",\n        \"max\": \"2024-12-30 00:00:00-05:00\",\n        \"num_unique_values\": 1257,\n        \"samples\": [\n          \"2021-09-23 00:00:00-04:00\",\n          \"2020-05-28 00:00:00-04:00\",\n          \"2020-03-17 00:00:00-04:00\"\n        ],\n        \"semantic_type\": \"\",\n        \"description\": \"\"\n      }\n    },\n    {\n      \"column\": \"Market\",\n      \"properties\": {\n        \"dtype\": \"number\",\n        \"std\": 0.013281049162434872,\n        \"min\": -0.11588662138215637,\n        \"max\": 0.08673086166069265,\n        \"num_unique_values\": 1255,\n        \"samples\": [\n          -0.009081702412528017,\n          -0.0018467133986421506,\n          0.05258503630991144\n        ],\n        \"semantic_type\": \"\",\n        \"description\": \"\"\n      }\n    },\n    {\n      \"column\": \"AAPL\",\n      \"properties\": {\n        \"dtype\": \"number\",\n        \"std\": 0.019938882327897877,\n        \"min\": -0.13770792484155558,\n        \"max\": 0.11315739976380242,\n        \"num_unique_values\": 1253,\n        \"samples\": [\n          -0.00953096237753702,\n          -0.005179474908716754,\n          0.004491707583684961\n        ],\n        \"semantic_type\": \"\",\n        \"description\": \"\"\n      }\n    },\n    {\n      \"column\": \"AAL\",\n      \"properties\": {\n        \"dtype\": \"number\",\n        \"std\": 0.038601268453318925,\n        \"min\": -0.29068188827816016,\n        \"max\": 0.34427766681656186,\n        \"num_unique_values\": 1236,\n        \"samples\": [\n          -0.04285384147177768,\n          -0.004201716177018891,\n          -0.041468451604115726\n        ],\n        \"semantic_type\": \"\",\n        \"description\": \"\"\n      }\n    },\n    {\n      \"column\": \"NFLX\",\n      \"properties\": {\n        \"dtype\": \"number\",\n        \"std\": 0.02952415899088583,\n        \"min\": -0.43257841199468944,\n        \"max\": 0.15575804642814195,\n        \"num_unique_values\": 1256,\n        \"samples\": [\n          0.004409101206044731,\n          -0.015480400039549484,\n          0.06763113960576661\n        ],\n        \"semantic_type\": \"\",\n        \"description\": \"\"\n      }\n    },\n    {\n      \"column\": \"META\",\n      \"properties\": {\n        \"dtype\": \"number\",\n        \"std\": 0.028601302030445096,\n        \"min\": -0.30639066915683777,\n        \"max\": 0.20930760960797204,\n        \"num_unique_values\": 1255,\n        \"samples\": [\n          -0.018904315967187894,\n          -0.016190466792526118,\n          0.023086077978933982\n        ],\n        \"semantic_type\": \"\",\n        \"description\": \"\"\n      }\n    },\n    {\n      \"column\": \"ZM\",\n      \"properties\": {\n        \"dtype\": \"number\",\n        \"std\": 0.03567525593877465,\n        \"min\": -0.19079953058591292,\n        \"max\": 0.34205925829868195,\n        \"num_unique_values\": 1254,\n        \"samples\": [\n          -0.013089305077007484,\n          0.009707632208966397,\n          0.02959658734348096\n        ],\n        \"semantic_type\": \"\",\n        \"description\": \"\"\n      }\n    },\n    {\n      \"column\": \"TSLA\",\n      \"properties\": {\n        \"dtype\": \"number\",\n        \"std\": 0.04219386983214836,\n        \"min\": -0.23651789445767657,\n        \"max\": 0.19818699146920774,\n        \"num_unique_values\": 1256,\n        \"samples\": [\n          0.002258262820491851,\n          -0.017736751939729612,\n          -0.03398134500612111\n        ],\n        \"semantic_type\": \"\",\n        \"description\": \"\"\n      }\n    },\n    {\n      \"column\": \"DIS\",\n      \"properties\": {\n        \"dtype\": \"number\",\n        \"std\": 0.02137089197872712,\n        \"min\": -0.1411392726650629,\n        \"max\": 0.13463855434001964,\n        \"num_unique_values\": 1252,\n        \"samples\": [\n          0.0490744616990231,\n          -0.0010465312357315504,\n          0.010956925583621952\n        ],\n        \"semantic_type\": \"\",\n        \"description\": \"\"\n      }\n    },\n    {\n      \"column\": \"NVDA\",\n      \"properties\": {\n        \"dtype\": \"number\",\n        \"std\": 0.033704496198502555,\n        \"min\": -0.20397974179736997,\n        \"max\": 0.2180878423260829,\n        \"num_unique_values\": 1255,\n        \"samples\": [\n          0.022166862004135025,\n          -0.0044967898873080675,\n          0.10098756505923917\n        ],\n        \"semantic_type\": \"\",\n        \"description\": \"\"\n      }\n    },\n    {\n      \"column\": \"TGT\",\n      \"properties\": {\n        \"dtype\": \"number\",\n        \"std\": 0.023054365257125238,\n        \"min\": -0.28675344042373385,\n        \"max\": 0.16343030725525506,\n        \"num_unique_values\": 1255,\n        \"samples\": [\n          -0.0257070629576343,\n          0.008650026110324265,\n          0.09976850259783696\n        ],\n        \"semantic_type\": \"\",\n        \"description\": \"\"\n      }\n    },\n    {\n      \"column\": \"VZ\",\n      \"properties\": {\n        \"dtype\": \"number\",\n        \"std\": 0.01348039233022812,\n        \"min\": -0.07793764336096859,\n        \"max\": 0.0886558565125579,\n        \"num_unique_values\": 1239,\n        \"samples\": [\n          0.002528986533786053,\n          -0.003499029219479557,\n          0.001534659549583373\n        ],\n        \"semantic_type\": \"\",\n        \"description\": \"\"\n      }\n    }\n  ]\n}"
            }
          },
          "metadata": {},
          "execution_count": 61
        }
      ]
    },
    {
      "cell_type": "markdown",
      "source": [
        "## Find the betas of the stocks. The formula is shown below:"
      ],
      "metadata": {
        "id": "X8Lt-ASosRrr"
      }
    },
    {
      "cell_type": "code",
      "source": [
        "beta_aapl = (data[['Market','AAPL']].cov()/data['Market'].var()).iloc[0].iloc[1]\n",
        "beta_aapl"
      ],
      "metadata": {
        "id": "7SkE-X2NqCrf",
        "outputId": "4a4fb0f1-7af2-4eb5-f69c-50071c5ea941",
        "colab": {
          "base_uri": "https://localhost:8080/"
        }
      },
      "execution_count": null,
      "outputs": [
        {
          "output_type": "execute_result",
          "data": {
            "text/plain": [
              "np.float64(1.1898312695828792)"
            ]
          },
          "metadata": {},
          "execution_count": 20
        }
      ]
    },
    {
      "cell_type": "markdown",
      "source": [
        "### Calculate beta using regression line."
      ],
      "metadata": {
        "id": "QZoMVlkW_OCZ"
      }
    },
    {
      "cell_type": "code",
      "source": [
        "beta, alpha = np.polyfit(data['Market'], data['AAPL'], 1)\n",
        "alpha\n",
        "beta"
      ],
      "metadata": {
        "id": "VESiMNFiutMN",
        "outputId": "8828b9d0-f05d-40b5-ffd7-f479669b7295",
        "colab": {
          "base_uri": "https://localhost:8080/"
        }
      },
      "execution_count": null,
      "outputs": [
        {
          "output_type": "execute_result",
          "data": {
            "text/plain": [
              "np.float64(1.1898312695828803)"
            ]
          },
          "metadata": {},
          "execution_count": 62
        }
      ]
    },
    {
      "cell_type": "code",
      "source": [
        "# plt.axvline(0, color='grey', alpha = 0.5)\n",
        "# plt.axhline(0, color='grey', alpha = 0.5)\n",
        "sns.scatterplot(y = 'Market', x = 'AAPL', data = data, color = 'red')\n",
        "plt.show()"
      ],
      "metadata": {
        "id": "zsV6vEOTuYgo",
        "outputId": "5b9bc529-fbff-40bd-c416-40a752fa444d",
        "colab": {
          "base_uri": "https://localhost:8080/",
          "height": 474
        }
      },
      "execution_count": null,
      "outputs": [
        {
          "output_type": "display_data",
          "data": {
            "text/plain": [
              "<Figure size 640x480 with 1 Axes>"
            ],
            "image/png": "[encoded data removed]"
          },
          "metadata": {}
        }
      ]
    },
    {
      "cell_type": "code",
      "source": [
        "sns.scatterplot(y = 'AAPL', x = 'Market', data = data, label = 'Returns')\n",
        "sns.lineplot(x = data['Market'], y = alpha + (data['Market']-alpha)*beta_aapl, color = 'maroon', label = 'CAPM Line')"
      ],
      "metadata": {
        "id": "W9chYaxvutTh",
        "outputId": "751d8ea5-053e-4e17-e173-d04ceafa6b80",
        "colab": {
          "base_uri": "https://localhost:8080/",
          "height": 491
        }
      },
      "execution_count": null,
      "outputs": [
        {
          "output_type": "execute_result",
          "data": {
            "text/plain": [
              "<Axes: xlabel='Market', ylabel='AAPL'>"
            ]
          },
          "metadata": {},
          "execution_count": 64
        },
        {
          "output_type": "display_data",
          "data": {
            "text/plain": [
              "<Figure size 640x480 with 1 Axes>"
            ],
            "image/png": "[encoded data removed]"
          },
          "metadata": {}
        }
      ]
    },
    {
      "cell_type": "markdown",
      "source": [
        "### Convert Daily Stock Market Returns to Annualized Returns (assuming 252 trading days in a year)."
      ],
      "metadata": {
        "id": "oSJH9H1HA-u1"
      }
    },
    {
      "cell_type": "code",
      "source": [
        "rm = data['Market'].mean()*252\n",
        "rm\n",
        "cov = data[['Market','AAPL']].cov() *252\n",
        "cov_aapl_market = cov.iloc[0,1]\n",
        "cov_aapl_market\n",
        "market_var = data['Market'].var()*252\n",
        "market_var\n",
        "\n",
        "AAPL_beta_annual = cov_aapl_market / market_var\n",
        "print('The annualized beta will equal the one calculated at daily returns:',AAPL_beta_annual)\n",
        "\n",
        "rf = 0.025\n",
        "riskpremium = rm - rf\n",
        "\n",
        "## CAPM\n",
        "AAPL_capm_return = rf + AAPL_beta_annual*riskpremium\n",
        "\n",
        "print(f\"The annualized CAPM return of AAPL is {AAPL_capm_return*100:.2f}%\")"
      ],
      "metadata": {
        "id": "BxV3yfCGutJo",
        "outputId": "ea2f2635-d74f-45d9-9f28-79efce70bbc4",
        "colab": {
          "base_uri": "https://localhost:8080/"
        }
      },
      "execution_count": null,
      "outputs": [
        {
          "output_type": "stream",
          "name": "stdout",
          "text": [
            "The annualized beta will equal the one calculated at daily returns: 1.1898312695828792\n",
            "The annualized CAPM return of AAPL is 15.49%\n"
          ]
        }
      ]
    },
    {
      "cell_type": "code",
      "source": [
        "sharperatio = (rm-rf)/(data['AAPL'].std()*np.sqrt(252))\n",
        "sharperatio\n",
        "print(f\"Sharpe Ratio: {round(sharperatio,4)}\")"
      ],
      "metadata": {
        "id": "iyFU2UnbwjOC",
        "colab": {
          "base_uri": "https://localhost:8080/"
        },
        "outputId": "2e509022-6788-48a0-dce4-0a83ecb8640e"
      },
      "execution_count": null,
      "outputs": [
        {
          "output_type": "stream",
          "name": "stdout",
          "text": [
            "Sharpe Ratio: 0.345\n"
          ]
        }
      ]
    },
    {
      "cell_type": "code",
      "source": [
        "netflix = yf.Ticker(\"NFLX\")\n",
        "\n",
        "tickers = [\"SPY\", \"AAL\", \"ZM\", \"NFLX\", \"META\", 'AAPL']\n",
        "\n",
        "end_date = datetime.date.today().strftime('%Y-%m-%d')\n",
        "apple = yf.Ticker(\"AAPL\")\n",
        "AAPL = apple.history(start = \"2020-01-01\", end= \"2024-12-31\")\n",
        "\n",
        "for ticker in tickers:\n",
        "    globals()[ticker] = yf.Ticker(ticker)\n",
        "    globals()[ticker] = globals()[ticker].history(start = \"2020-01-01\", end= \"2024-12-31\")"
      ],
      "metadata": {
        "id": "elUcaXDewjLc"
      },
      "execution_count": null,
      "outputs": []
    },
    {
      "cell_type": "code",
      "source": [
        "print(META.Close.mean())\n",
        "META.describe()"
      ],
      "metadata": {
        "id": "x2EraVpJwjJF",
        "colab": {
          "base_uri": "https://localhost:8080/",
          "height": 317
        },
        "outputId": "e3324fc2-de17-4da1-c40a-4b3a3d2b54f8"
      },
      "execution_count": null,
      "outputs": [
        {
          "output_type": "stream",
          "name": "stdout",
          "text": [
            "299.9754146008427\n"
          ]
        },
        {
          "output_type": "execute_result",
          "data": {
            "text/plain": [
              "              Open         High          Low        Close        Volume  \\\n",
              "count  1257.000000  1257.000000  1257.000000  1257.000000  1.257000e+03   \n",
              "mean    299.811910   304.029698   295.797743   299.975415  2.315541e+07   \n",
              "std     124.745252   125.702635   123.419958   124.602584  1.572882e+07   \n",
              "min      89.657445    90.035660    87.676774    88.492935  4.726100e+06   \n",
              "25%     207.860358   210.607414   205.541276   208.795929  1.453120e+07   \n",
              "50%     277.850492   283.892056   274.983974   279.512665  1.938320e+07   \n",
              "75%     345.003997   350.448357   341.570169   344.665588  2.711680e+07   \n",
              "max     630.430133   637.318434   626.147422   631.608093  2.323166e+08   \n",
              "\n",
              "         Dividends  Stock Splits  \n",
              "count  1257.000000        1257.0  \n",
              "mean      0.001591           0.0  \n",
              "std       0.028172           0.0  \n",
              "min       0.000000           0.0  \n",
              "25%       0.000000           0.0  \n",
              "50%       0.000000           0.0  \n",
              "75%       0.000000           0.0  \n",
              "max       0.500000           0.0  "
            ],
            "text/html": [
              "\n",
              "  <div id=\"df-7248274c-c73e-4428-9eaf-47f75e5515f9\" class=\"colab-df-container\">\n",
              "    <div>\n",
              "<style scoped>\n",
              "    .dataframe tbody tr th:only-of-type {\n",
              "        vertical-align: middle;\n",
              "    }\n",
              "\n",
              "    .dataframe tbody tr th {\n",
              "        vertical-align: top;\n",
              "    }\n",
              "\n",
              "    .dataframe thead th {\n",
              "        text-align: right;\n",
              "    }\n",
              "</style>\n",
              "<table border=\"1\" class=\"dataframe\">\n",
              "  <thead>\n",
              "    <tr style=\"text-align: right;\">\n",
              "      <th></th>\n",
              "      <th>Open</th>\n",
              "      <th>High</th>\n",
              "      <th>Low</th>\n",
              "      <th>Close</th>\n",
              "      <th>Volume</th>\n",
              "      <th>Dividends</th>\n",
              "      <th>Stock Splits</th>\n",
              "    </tr>\n",
              "  </thead>\n",
              "  <tbody>\n",
              "    <tr>\n",
              "      <th>count</th>\n",
              "      <td>1257.000000</td>\n",
              "      <td>1257.000000</td>\n",
              "      <td>1257.000000</td>\n",
              "      <td>1257.000000</td>\n",
              "      <td>1.257000e+03</td>\n",
              "      <td>1257.000000</td>\n",
              "      <td>1257.0</td>\n",
              "    </tr>\n",
              "    <tr>\n",
              "      <th>mean</th>\n",
              "      <td>299.811910</td>\n",
              "      <td>304.029698</td>\n",
              "      <td>295.797743</td>\n",
              "      <td>299.975415</td>\n",
              "      <td>2.315541e+07</td>\n",
              "      <td>0.001591</td>\n",
              "      <td>0.0</td>\n",
              "    </tr>\n",
              "    <tr>\n",
              "      <th>std</th>\n",
              "      <td>124.745252</td>\n",
              "      <td>125.702635</td>\n",
              "      <td>123.419958</td>\n",
              "      <td>124.602584</td>\n",
              "      <td>1.572882e+07</td>\n",
              "      <td>0.028172</td>\n",
              "      <td>0.0</td>\n",
              "    </tr>\n",
              "    <tr>\n",
              "      <th>min</th>\n",
              "      <td>89.657445</td>\n",
              "      <td>90.035660</td>\n",
              "      <td>87.676774</td>\n",
              "      <td>88.492935</td>\n",
              "      <td>4.726100e+06</td>\n",
              "      <td>0.000000</td>\n",
              "      <td>0.0</td>\n",
              "    </tr>\n",
              "    <tr>\n",
              "      <th>25%</th>\n",
              "      <td>207.860358</td>\n",
              "      <td>210.607414</td>\n",
              "      <td>205.541276</td>\n",
              "      <td>208.795929</td>\n",
              "      <td>1.453120e+07</td>\n",
              "      <td>0.000000</td>\n",
              "      <td>0.0</td>\n",
              "    </tr>\n",
              "    <tr>\n",
              "      <th>50%</th>\n",
              "      <td>277.850492</td>\n",
              "      <td>283.892056</td>\n",
              "      <td>274.983974</td>\n",
              "      <td>279.512665</td>\n",
              "      <td>1.938320e+07</td>\n",
              "      <td>0.000000</td>\n",
              "      <td>0.0</td>\n",
              "    </tr>\n",
              "    <tr>\n",
              "      <th>75%</th>\n",
              "      <td>345.003997</td>\n",
              "      <td>350.448357</td>\n",
              "      <td>341.570169</td>\n",
              "      <td>344.665588</td>\n",
              "      <td>2.711680e+07</td>\n",
              "      <td>0.000000</td>\n",
              "      <td>0.0</td>\n",
              "    </tr>\n",
              "    <tr>\n",
              "      <th>max</th>\n",
              "      <td>630.430133</td>\n",
              "      <td>637.318434</td>\n",
              "      <td>626.147422</td>\n",
              "      <td>631.608093</td>\n",
              "      <td>2.323166e+08</td>\n",
              "      <td>0.500000</td>\n",
              "      <td>0.0</td>\n",
              "    </tr>\n",
              "  </tbody>\n",
              "</table>\n",
              "</div>\n",
              "    <div class=\"colab-df-buttons\">\n",
              "\n",
              "  <div class=\"colab-df-container\">\n",
              "    <button class=\"colab-df-convert\" onclick=\"convertToInteractive('df-7248274c-c73e-4428-9eaf-47f75e5515f9')\"\n",
              "            title=\"Convert this dataframe to an interactive table.\"\n",
              "            style=\"display:none;\">\n",
              "\n",
              "  <svg xmlns=\"http://www.w3.org/2000/svg\" height=\"24px\" viewBox=\"0 -960 960 960\">\n",
              "    <path d=\"M120-120v-720h720v720H120Zm60-500h600v-160H180v160Zm220 220h160v-160H400v160Zm0 220h160v-160H400v160ZM180-400h160v-160H180v160Zm440 0h160v-160H620v160ZM180-180h160v-160H180v160Zm440 0h160v-160H620v160Z\"/>\n",
              "  </svg>\n",
              "    </button>\n",
              "\n",
              "  <style>\n",
              "    .colab-df-container {\n",
              "      display:flex;\n",
              "      gap: 12px;\n",
              "    }\n",
              "\n",
              "    .colab-df-convert {\n",
              "      background-color: #E8F0FE;\n",
              "      border: none;\n",
              "      border-radius: 50%;\n",
              "      cursor: pointer;\n",
              "      display: none;\n",
              "      fill: #1967D2;\n",
              "      height: 32px;\n",
              "      padding: 0 0 0 0;\n",
              "      width: 32px;\n",
              "    }\n",
              "\n",
              "    .colab-df-convert:hover {\n",
              "      background-color: #E2EBFA;\n",
              "      box-shadow: 0px 1px 2px rgba(60, 64, 67, 0.3), 0px 1px 3px 1px rgba(60, 64, 67, 0.15);\n",
              "      fill: #174EA6;\n",
              "    }\n",
              "\n",
              "    .colab-df-buttons div {\n",
              "      margin-bottom: 4px;\n",
              "    }\n",
              "\n",
              "    [theme=dark] .colab-df-convert {\n",
              "      background-color: #3B4455;\n",
              "      fill: #D2E3FC;\n",
              "    }\n",
              "\n",
              "    [theme=dark] .colab-df-convert:hover {\n",
              "      background-color: #434B5C;\n",
              "      box-shadow: 0px 1px 3px 1px rgba(0, 0, 0, 0.15);\n",
              "      filter: drop-shadow(0px 1px 2px rgba(0, 0, 0, 0.3));\n",
              "      fill: #FFFFFF;\n",
              "    }\n",
              "  </style>\n",
              "\n",
              "    <script>\n",
              "      const buttonEl =\n",
              "        document.querySelector('#df-7248274c-c73e-4428-9eaf-47f75e5515f9 button.colab-df-convert');\n",
              "      buttonEl.style.display =\n",
              "        google.colab.kernel.accessAllowed ? 'block' : 'none';\n",
              "\n",
              "      async function convertToInteractive(key) {\n",
              "        const element = document.querySelector('#df-7248274c-c73e-4428-9eaf-47f75e5515f9');\n",
              "        const dataTable =\n",
              "          await google.colab.kernel.invokeFunction('convertToInteractive',\n",
              "                                                    [key], {});\n",
              "        if (!dataTable) return;\n",
              "\n",
              "        const docLinkHtml = 'Like what you see? Visit the ' +\n",
              "          '<a target=\"_blank\" href=https://colab.research.google.com/notebooks/data_table.ipynb>data table notebook</a>'\n",
              "          + ' to learn more about interactive tables.';\n",
              "        element.innerHTML = '';\n",
              "        dataTable['output_type'] = 'display_data';\n",
              "        await google.colab.output.renderOutput(dataTable, element);\n",
              "        const docLink = document.createElement('div');\n",
              "        docLink.innerHTML = docLinkHtml;\n",
              "        element.appendChild(docLink);\n",
              "      }\n",
              "    </script>\n",
              "  </div>\n",
              "\n",
              "\n",
              "<div id=\"df-a3b08e66-824c-42a3-a895-415ce3ae2d6e\">\n",
              "  <button class=\"colab-df-quickchart\" onclick=\"quickchart('df-a3b08e66-824c-42a3-a895-415ce3ae2d6e')\"\n",
              "            title=\"Suggest charts\"\n",
              "            style=\"display:none;\">\n",
              "\n",
              "<svg xmlns=\"http://www.w3.org/2000/svg\" height=\"24px\"viewBox=\"0 0 24 24\"\n",
              "     width=\"24px\">\n",
              "    <g>\n",
              "        <path d=\"M19 3H5c-1.1 0-2 .9-2 2v14c0 1.1.9 2 2 2h14c1.1 0 2-.9 2-2V5c0-1.1-.9-2-2-2zM9 17H7v-7h2v7zm4 0h-2V7h2v10zm4 0h-2v-4h2v4z\"/>\n",
              "    </g>\n",
              "</svg>\n",
              "  </button>\n",
              "\n",
              "<style>\n",
              "  .colab-df-quickchart {\n",
              "      --bg-color: #E8F0FE;\n",
              "      --fill-color: #1967D2;\n",
              "      --hover-bg-color: #E2EBFA;\n",
              "      --hover-fill-color: #174EA6;\n",
              "      --disabled-fill-color: #AAA;\n",
              "      --disabled-bg-color: #DDD;\n",
              "  }\n",
              "\n",
              "  [theme=dark] .colab-df-quickchart {\n",
              "      --bg-color: #3B4455;\n",
              "      --fill-color: #D2E3FC;\n",
              "      --hover-bg-color: #434B5C;\n",
              "      --hover-fill-color: #FFFFFF;\n",
              "      --disabled-bg-color: #3B4455;\n",
              "      --disabled-fill-color: #666;\n",
              "  }\n",
              "\n",
              "  .colab-df-quickchart {\n",
              "    background-color: var(--bg-color);\n",
              "    border: none;\n",
              "    border-radius: 50%;\n",
              "    cursor: pointer;\n",
              "    display: none;\n",
              "    fill: var(--fill-color);\n",
              "    height: 32px;\n",
              "    padding: 0;\n",
              "    width: 32px;\n",
              "  }\n",
              "\n",
              "  .colab-df-quickchart:hover {\n",
              "    background-color: var(--hover-bg-color);\n",
              "    box-shadow: 0 1px 2px rgba(60, 64, 67, 0.3), 0 1px 3px 1px rgba(60, 64, 67, 0.15);\n",
              "    fill: var(--button-hover-fill-color);\n",
              "  }\n",
              "\n",
              "  .colab-df-quickchart-complete:disabled,\n",
              "  .colab-df-quickchart-complete:disabled:hover {\n",
              "    background-color: var(--disabled-bg-color);\n",
              "    fill: var(--disabled-fill-color);\n",
              "    box-shadow: none;\n",
              "  }\n",
              "\n",
              "  .colab-df-spinner {\n",
              "    border: 2px solid var(--fill-color);\n",
              "    border-color: transparent;\n",
              "    border-bottom-color: var(--fill-color);\n",
              "    animation:\n",
              "      spin 1s steps(1) infinite;\n",
              "  }\n",
              "\n",
              "  @keyframes spin {\n",
              "    0% {\n",
              "      border-color: transparent;\n",
              "      border-bottom-color: var(--fill-color);\n",
              "      border-left-color: var(--fill-color);\n",
              "    }\n",
              "    20% {\n",
              "      border-color: transparent;\n",
              "      border-left-color: var(--fill-color);\n",
              "      border-top-color: var(--fill-color);\n",
              "    }\n",
              "    30% {\n",
              "      border-color: transparent;\n",
              "      border-left-color: var(--fill-color);\n",
              "      border-top-color: var(--fill-color);\n",
              "      border-right-color: var(--fill-color);\n",
              "    }\n",
              "    40% {\n",
              "      border-color: transparent;\n",
              "      border-right-color: var(--fill-color);\n",
              "      border-top-color: var(--fill-color);\n",
              "    }\n",
              "    60% {\n",
              "      border-color: transparent;\n",
              "      border-right-color: var(--fill-color);\n",
              "    }\n",
              "    80% {\n",
              "      border-color: transparent;\n",
              "      border-right-color: var(--fill-color);\n",
              "      border-bottom-color: var(--fill-color);\n",
              "    }\n",
              "    90% {\n",
              "      border-color: transparent;\n",
              "      border-bottom-color: var(--fill-color);\n",
              "    }\n",
              "  }\n",
              "</style>\n",
              "\n",
              "  <script>\n",
              "    async function quickchart(key) {\n",
              "      const quickchartButtonEl =\n",
              "        document.querySelector('#' + key + ' button');\n",
              "      quickchartButtonEl.disabled = true;  // To prevent multiple clicks.\n",
              "      quickchartButtonEl.classList.add('colab-df-spinner');\n",
              "      try {\n",
              "        const charts = await google.colab.kernel.invokeFunction(\n",
              "            'suggestCharts', [key], {});\n",
              "      } catch (error) {\n",
              "        console.error('Error during call to suggestCharts:', error);\n",
              "      }\n",
              "      quickchartButtonEl.classList.remove('colab-df-spinner');\n",
              "      quickchartButtonEl.classList.add('colab-df-quickchart-complete');\n",
              "    }\n",
              "    (() => {\n",
              "      let quickchartButtonEl =\n",
              "        document.querySelector('#df-a3b08e66-824c-42a3-a895-415ce3ae2d6e button');\n",
              "      quickchartButtonEl.style.display =\n",
              "        google.colab.kernel.accessAllowed ? 'block' : 'none';\n",
              "    })();\n",
              "  </script>\n",
              "</div>\n",
              "\n",
              "    </div>\n",
              "  </div>\n"
            ],
            "application/vnd.google.colaboratory.intrinsic+json": {
              "type": "dataframe",
              "summary": "{\n  \"name\": \"META\",\n  \"rows\": 8,\n  \"fields\": [\n    {\n      \"column\": \"Open\",\n      \"properties\": {\n        \"dtype\": \"number\",\n        \"std\": 382.54676449668193,\n        \"min\": 89.65744499802331,\n        \"max\": 1257.0,\n        \"num_unique_values\": 8,\n        \"samples\": [\n          299.8119097455495,\n          277.8504920902116,\n          1257.0\n        ],\n        \"semantic_type\": \"\",\n        \"description\": \"\"\n      }\n    },\n    {\n      \"column\": \"High\",\n      \"properties\": {\n        \"dtype\": \"number\",\n        \"std\": 382.2240584442403,\n        \"min\": 90.03565971999477,\n        \"max\": 1257.0,\n        \"num_unique_values\": 8,\n        \"samples\": [\n          304.02969796015935,\n          283.89205590007015,\n          1257.0\n        ],\n        \"semantic_type\": \"\",\n        \"description\": \"\"\n      }\n    },\n    {\n      \"column\": \"Low\",\n      \"properties\": {\n        \"dtype\": \"number\",\n        \"std\": 383.09471362857096,\n        \"min\": 87.67677376490204,\n        \"max\": 1257.0,\n        \"num_unique_values\": 8,\n        \"samples\": [\n          295.7977428595257,\n          274.98397390963555,\n          1257.0\n        ],\n        \"semantic_type\": \"\",\n        \"description\": \"\"\n      }\n    },\n    {\n      \"column\": \"Close\",\n      \"properties\": {\n        \"dtype\": \"number\",\n        \"std\": 382.65325615158685,\n        \"min\": 88.49293518066406,\n        \"max\": 1257.0,\n        \"num_unique_values\": 8,\n        \"samples\": [\n          299.9754146008427,\n          279.5126647949219,\n          1257.0\n        ],\n        \"semantic_type\": \"\",\n        \"description\": \"\"\n      }\n    },\n    {\n      \"column\": \"Volume\",\n      \"properties\": {\n        \"dtype\": \"number\",\n        \"std\": 77373296.67712471,\n        \"min\": 1257.0,\n        \"max\": 232316600.0,\n        \"num_unique_values\": 8,\n        \"samples\": [\n          23155408.353221957,\n          19383200.0,\n          1257.0\n        ],\n        \"semantic_type\": \"\",\n        \"description\": \"\"\n      }\n    },\n    {\n      \"column\": \"Dividends\",\n      \"properties\": {\n        \"dtype\": \"number\",\n        \"std\": 444.38988878138554,\n        \"min\": 0.0,\n        \"max\": 1257.0,\n        \"num_unique_values\": 5,\n        \"samples\": [\n          0.0015910898965791568,\n          0.5,\n          0.028171701427339768\n        ],\n        \"semantic_type\": \"\",\n        \"description\": \"\"\n      }\n    },\n    {\n      \"column\": \"Stock Splits\",\n      \"properties\": {\n        \"dtype\": \"number\",\n        \"std\": 444.4166119757451,\n        \"min\": 0.0,\n        \"max\": 1257.0,\n        \"num_unique_values\": 2,\n        \"samples\": [\n          0.0,\n          1257.0\n        ],\n        \"semantic_type\": \"\",\n        \"description\": \"\"\n      }\n    }\n  ]\n}"
            }
          },
          "metadata": {},
          "execution_count": 27
        }
      ]
    },
    {
      "cell_type": "markdown",
      "source": [
        "For NFLX"
      ],
      "metadata": {
        "id": "PPUJLPVCQhEN"
      }
    },
    {
      "cell_type": "code",
      "source": [
        "# print(NFLX)\n",
        "# print(NFLX.shift(1))"
      ],
      "metadata": {
        "id": "FuxqBGP2wjGj"
      },
      "execution_count": null,
      "outputs": []
    },
    {
      "cell_type": "code",
      "source": [
        "beta_nflx = (data[['Market','NFLX']].cov()/data['Market'].var()).iloc[0].iloc[1]\n",
        "beta_nflx"
      ],
      "metadata": {
        "colab": {
          "base_uri": "https://localhost:8080/"
        },
        "id": "P1TC2hm3aq5c",
        "outputId": "405b03e6-6007-4587-fbf6-58b1f872fc71"
      },
      "execution_count": null,
      "outputs": [
        {
          "output_type": "execute_result",
          "data": {
            "text/plain": [
              "np.float64(1.0479756263488524)"
            ]
          },
          "metadata": {},
          "execution_count": 29
        }
      ]
    },
    {
      "cell_type": "code",
      "source": [
        "beta, nflx = np.polyfit(data['Market'], data['NFLX'], 1)\n",
        "alpha\n",
        "beta"
      ],
      "metadata": {
        "colab": {
          "base_uri": "https://localhost:8080/"
        },
        "id": "ws_smImBaqs_",
        "outputId": "650010e2-ae61-4ad0-f83c-3a5fd38711ba"
      },
      "execution_count": null,
      "outputs": [
        {
          "output_type": "execute_result",
          "data": {
            "text/plain": [
              "np.float64(1.0479756263488542)"
            ]
          },
          "metadata": {},
          "execution_count": 30
        }
      ]
    },
    {
      "cell_type": "code",
      "source": [
        "rm = data['Market'].mean()*252\n",
        "rm\n",
        "cov = data[['Market','NFLX']].cov() *252\n",
        "cov_nflx_market = cov.iloc[0,1]\n",
        "cov_nflx_market\n",
        "market_var = data['Market'].var()*252\n",
        "market_var\n",
        "\n",
        "NFLX_beta_annual = cov_nflx_market / market_var\n",
        "print('The annualized beta will equal the one calculated at daily returns:',NFLX_beta_annual)\n",
        "\n",
        "rf = 0.025\n",
        "riskpremium = rm - rf\n",
        "\n",
        "## CAPM\n",
        "NFLX_capm_return = rf + NFLX_beta_annual*riskpremium\n",
        "\n",
        "print(f\"The annualized CAPM return of NFLX is {NFLX_capm_return*100:.2f}%\")"
      ],
      "metadata": {
        "colab": {
          "base_uri": "https://localhost:8080/"
        },
        "id": "x9YV4YOmbTvl",
        "outputId": "8b2f7e0d-625f-49cd-fd27-20d375a36596"
      },
      "execution_count": null,
      "outputs": [
        {
          "output_type": "stream",
          "name": "stdout",
          "text": [
            "The annualized beta will equal the one calculated at daily returns: 1.0479756263488524\n",
            "The annualized CAPM return of NFLX is 13.94%\n"
          ]
        }
      ]
    },
    {
      "cell_type": "code",
      "source": [
        "sharperatio = (rm-rf)/(data['NFLX'].std()*np.sqrt(252))\n",
        "sharperatio\n",
        "print(f\"Sharpe Ratio: {round(sharperatio,4)}\")"
      ],
      "metadata": {
        "colab": {
          "base_uri": "https://localhost:8080/"
        },
        "id": "92IokdWAbuSK",
        "outputId": "37d35b59-8812-4b74-ce82-7e242049c05c"
      },
      "execution_count": null,
      "outputs": [
        {
          "output_type": "stream",
          "name": "stdout",
          "text": [
            "Sharpe Ratio: 0.233\n"
          ]
        }
      ]
    },
    {
      "cell_type": "markdown",
      "source": [
        "For AAL"
      ],
      "metadata": {
        "id": "AsKk4K_WQds5"
      }
    },
    {
      "cell_type": "code",
      "source": [
        "# print(AAL)\n",
        "# print(AAL.shift(1))"
      ],
      "metadata": {
        "id": "0YXIlwYbOQpF"
      },
      "execution_count": null,
      "outputs": []
    },
    {
      "cell_type": "code",
      "source": [
        "beta_aal = (data[['Market','AAL']].cov()/data['Market'].var()).iloc[0].iloc[1]\n",
        "beta_aal"
      ],
      "metadata": {
        "colab": {
          "base_uri": "https://localhost:8080/"
        },
        "id": "kvRP1O48PYWG",
        "outputId": "a7c8f7e8-fbd8-4934-a4e7-c713c95e38bc"
      },
      "execution_count": null,
      "outputs": [
        {
          "output_type": "execute_result",
          "data": {
            "text/plain": [
              "np.float64(1.4080157616185618)"
            ]
          },
          "metadata": {},
          "execution_count": 34
        }
      ]
    },
    {
      "cell_type": "code",
      "source": [
        "rm = data['Market'].mean()*252\n",
        "rm\n",
        "cov = data[['Market','AAL']].cov() *252\n",
        "cov_aal_market = cov.iloc[0,1]\n",
        "cov_aal_market\n",
        "market_var = data['Market'].var()*252\n",
        "market_var\n",
        "\n",
        "AAL_beta_annual = cov_aal_market / market_var\n",
        "print('The annualized beta will equal the one calculated at daily returns:',AAL_beta_annual)\n",
        "\n",
        "rf = 0.025\n",
        "riskpremium = rm - rf\n",
        "\n",
        "## CAPM\n",
        "AAL_capm_return = rf + NFLX_beta_annual*riskpremium\n",
        "\n",
        "print(f\"The annualized CAPM return of AAL is {AAL_capm_return*100:.2f}%\")"
      ],
      "metadata": {
        "colab": {
          "base_uri": "https://localhost:8080/"
        },
        "id": "GEXcP48aO-36",
        "outputId": "aaaeab48-1e02-430e-fc0a-e49cfed62a92"
      },
      "execution_count": null,
      "outputs": [
        {
          "output_type": "stream",
          "name": "stdout",
          "text": [
            "The annualized beta will equal the one calculated at daily returns: 1.4080157616185618\n",
            "The annualized CAPM return of AAL is 13.94%\n"
          ]
        }
      ]
    },
    {
      "cell_type": "code",
      "source": [
        "sharperatio = (rm-rf)/(data['AAL'].std()*np.sqrt(252))\n",
        "sharperatio\n",
        "print(f\"Sharpe Ratio: {round(sharperatio,4)}\")"
      ],
      "metadata": {
        "colab": {
          "base_uri": "https://localhost:8080/"
        },
        "id": "RzV47k3hQWpD",
        "outputId": "e076b8df-9108-4dbe-981d-583b65a50f31"
      },
      "execution_count": null,
      "outputs": [
        {
          "output_type": "stream",
          "name": "stdout",
          "text": [
            "Sharpe Ratio: 0.1782\n"
          ]
        }
      ]
    },
    {
      "cell_type": "markdown",
      "source": [
        "For META"
      ],
      "metadata": {
        "id": "44S0cZG4QkWe"
      }
    },
    {
      "cell_type": "code",
      "source": [
        "# print(META)\n",
        "# print(META.shift(1))"
      ],
      "metadata": {
        "id": "4yvMDG_HQrPy"
      },
      "execution_count": null,
      "outputs": []
    },
    {
      "cell_type": "code",
      "source": [
        "beta_meta = (data[['Market','META']].cov()/data['Market'].var()).iloc[0].iloc[1]\n",
        "beta_meta"
      ],
      "metadata": {
        "colab": {
          "base_uri": "https://localhost:8080/"
        },
        "id": "4C57efBsQwL7",
        "outputId": "60c6f075-19db-4217-ab45-f4455e390137"
      },
      "execution_count": null,
      "outputs": [
        {
          "output_type": "execute_result",
          "data": {
            "text/plain": [
              "np.float64(1.329130049386978)"
            ]
          },
          "metadata": {},
          "execution_count": 39
        }
      ]
    },
    {
      "cell_type": "code",
      "source": [
        "rm = data['Market'].mean()*252\n",
        "rm\n",
        "cov = data[['Market','META']].cov() *252\n",
        "cov_meta_market = cov.iloc[0,1]\n",
        "cov_meta_market\n",
        "market_var = data['Market'].var()*252\n",
        "market_var\n",
        "\n",
        "META_beta_annual = cov_meta_market / market_var\n",
        "print('The annualized beta will equal the one calculated at daily returns:',META_beta_annual)\n",
        "\n",
        "rf = 0.025\n",
        "riskpremium = rm - rf\n",
        "\n",
        "## CAPM\n",
        "META_capm_return = rf + META_beta_annual*riskpremium\n",
        "\n",
        "print(f\"The annualized CAPM return of META is {META_capm_return*100:.2f}%\")"
      ],
      "metadata": {
        "colab": {
          "base_uri": "https://localhost:8080/"
        },
        "id": "31sK4DrMQ6MI",
        "outputId": "5e80e4ee-15a3-46f3-927d-c10b63e882b3"
      },
      "execution_count": null,
      "outputs": [
        {
          "output_type": "stream",
          "name": "stdout",
          "text": [
            "The annualized beta will equal the one calculated at daily returns: 1.329130049386978\n",
            "The annualized CAPM return of META is 17.01%\n"
          ]
        }
      ]
    },
    {
      "cell_type": "code",
      "source": [
        "sharperatio = (rm-rf)/(data['META'].std()*np.sqrt(252))\n",
        "sharperatio\n",
        "print(f\"Sharpe Ratio: {round(sharperatio,4)}\")"
      ],
      "metadata": {
        "colab": {
          "base_uri": "https://localhost:8080/"
        },
        "id": "l7yZBENqWVrq",
        "outputId": "42d69a50-4594-43b1-ae6f-3117ca8f7547"
      },
      "execution_count": null,
      "outputs": [
        {
          "output_type": "stream",
          "name": "stdout",
          "text": [
            "Sharpe Ratio: 0.2405\n"
          ]
        }
      ]
    },
    {
      "cell_type": "markdown",
      "source": [
        "For ZM"
      ],
      "metadata": {
        "id": "_cqXcw0FRSUU"
      }
    },
    {
      "cell_type": "code",
      "source": [
        "# print(ZM)\n",
        "# print(ZM.shift(1))"
      ],
      "metadata": {
        "id": "FHFHvtgqRVAu"
      },
      "execution_count": null,
      "outputs": []
    },
    {
      "cell_type": "code",
      "source": [
        "beta_zm = (data[['Market','ZM']].cov()/data['Market'].var()).iloc[0].iloc[1]\n",
        "beta_zm"
      ],
      "metadata": {
        "colab": {
          "base_uri": "https://localhost:8080/"
        },
        "id": "I7Z2aTJ7UbvG",
        "outputId": "8f5985ea-c215-4740-f9be-1a3761e1feee"
      },
      "execution_count": null,
      "outputs": [
        {
          "output_type": "execute_result",
          "data": {
            "text/plain": [
              "np.float64(0.6245574876986691)"
            ]
          },
          "metadata": {},
          "execution_count": 66
        }
      ]
    },
    {
      "cell_type": "code",
      "source": [
        "rm = data['Market'].mean()*252\n",
        "rm\n",
        "cov = data[['Market','ZM']].cov() *252\n",
        "cov_zm_market = cov.iloc[0,1]\n",
        "cov_zm_market\n",
        "market_var = data['Market'].var()*252\n",
        "market_var\n",
        "\n",
        "ZM_beta_annual = cov_zm_market / market_var\n",
        "print('The annualized beta will equal the one calculated at daily returns:',ZM_beta_annual)\n",
        "\n",
        "rf = 0.025\n",
        "riskpremium = rm - rf\n",
        "\n",
        "## CAPM\n",
        "ZM_capm_return = rf + ZM_beta_annual*riskpremium\n",
        "\n",
        "print(f\"The annualized CAPM return of ZM is {ZM_capm_return*100:.2f}%\")"
      ],
      "metadata": {
        "colab": {
          "base_uri": "https://localhost:8080/"
        },
        "id": "nk5Bz3H_Un0K",
        "outputId": "7ad19de8-b097-49e5-8358-d771d8157be7"
      },
      "execution_count": null,
      "outputs": [
        {
          "output_type": "stream",
          "name": "stdout",
          "text": [
            "The annualized beta will equal the one calculated at daily returns: 0.6245574876986691\n",
            "The annualized CAPM return of ZM is 9.32%\n"
          ]
        }
      ]
    },
    {
      "cell_type": "code",
      "source": [
        "sharperatio = (rm-rf)/(data['ZM'].std()*np.sqrt(252))\n",
        "sharperatio\n",
        "print(f\"Sharpe Ratio: {round(sharperatio,4)}\")"
      ],
      "metadata": {
        "colab": {
          "base_uri": "https://localhost:8080/"
        },
        "id": "EZwmNr9SWZIP",
        "outputId": "4b68e1ae-153b-4ccf-c939-8d528a301121"
      },
      "execution_count": null,
      "outputs": [
        {
          "output_type": "stream",
          "name": "stdout",
          "text": [
            "Sharpe Ratio: 0.1928\n"
          ]
        }
      ]
    },
    {
      "cell_type": "markdown",
      "source": [
        "For TSLA"
      ],
      "metadata": {
        "id": "gLJtLErWUzrt"
      }
    },
    {
      "cell_type": "code",
      "source": [
        "# print(TSLA)\n",
        "# print(TSLA.shift(1))"
      ],
      "metadata": {
        "id": "LK3mVL6kU1c7"
      },
      "execution_count": null,
      "outputs": []
    },
    {
      "cell_type": "code",
      "source": [
        "beta_tsla = (data[['Market','TSLA']].cov()/data['Market'].var()).iloc[0].iloc[1]\n",
        "beta_tsla"
      ],
      "metadata": {
        "colab": {
          "base_uri": "https://localhost:8080/"
        },
        "id": "YClPke31U56H",
        "outputId": "229845a4-1e4e-4c2c-ea97-9c90cc76cf8e"
      },
      "execution_count": null,
      "outputs": [
        {
          "output_type": "execute_result",
          "data": {
            "text/plain": [
              "np.float64(1.6257705258065744)"
            ]
          },
          "metadata": {},
          "execution_count": 69
        }
      ]
    },
    {
      "cell_type": "code",
      "source": [
        "rm = data['Market'].mean()*252\n",
        "rm\n",
        "cov = data[['Market','TSLA']].cov() *252\n",
        "cov_tsla_market = cov.iloc[0,1]\n",
        "cov_tsla_market\n",
        "market_var = data['Market'].var()*252\n",
        "market_var\n",
        "\n",
        "TSLA_beta_annual = cov_zm_market / market_var\n",
        "print('The annualized beta will equal the one calculated at daily returns:',TSLA_beta_annual)\n",
        "\n",
        "rf = 0.025\n",
        "riskpremium = rm - rf\n",
        "\n",
        "## CAPM\n",
        "TSLA_capm_return = rf + TSLA_beta_annual*riskpremium\n",
        "\n",
        "print(f\"The annualized CAPM return of TSLA is {TSLA_capm_return*100:.2f}%\")"
      ],
      "metadata": {
        "colab": {
          "base_uri": "https://localhost:8080/"
        },
        "id": "2eQuYuYvU_Pn",
        "outputId": "8926e492-5cb9-462b-b3cb-325bc3fdcfb2"
      },
      "execution_count": null,
      "outputs": [
        {
          "output_type": "stream",
          "name": "stdout",
          "text": [
            "The annualized beta will equal the one calculated at daily returns: 0.6245574876986691\n",
            "The annualized CAPM return of TSLA is 9.32%\n"
          ]
        }
      ]
    },
    {
      "cell_type": "code",
      "source": [
        "sharperatio = (rm-rf)/(data['TSLA'].std()*np.sqrt(252))\n",
        "sharperatio\n",
        "print(f\"Sharpe Ratio: {round(sharperatio,4)}\")"
      ],
      "metadata": {
        "colab": {
          "base_uri": "https://localhost:8080/"
        },
        "id": "QkiBYearWglH",
        "outputId": "49705034-2ab7-4fb6-8afc-cc0895952640"
      },
      "execution_count": null,
      "outputs": [
        {
          "output_type": "stream",
          "name": "stdout",
          "text": [
            "Sharpe Ratio: 0.163\n"
          ]
        }
      ]
    },
    {
      "cell_type": "markdown",
      "source": [
        "For DIS"
      ],
      "metadata": {
        "id": "JOGhdw1ZVd7T"
      }
    },
    {
      "cell_type": "code",
      "source": [
        "# print(DIS)\n",
        "# print(DIS.shift(1))"
      ],
      "metadata": {
        "id": "nc-CQxLzVfHY"
      },
      "execution_count": null,
      "outputs": []
    },
    {
      "cell_type": "code",
      "source": [
        "beta_dis = (data[['Market','DIS']].cov()/data['Market'].var()).iloc[0].iloc[1]\n",
        "beta_dis"
      ],
      "metadata": {
        "colab": {
          "base_uri": "https://localhost:8080/"
        },
        "id": "O2mcXtlLVfcM",
        "outputId": "b9533293-37f4-41d6-954e-2c27275615b4"
      },
      "execution_count": null,
      "outputs": [
        {
          "output_type": "execute_result",
          "data": {
            "text/plain": [
              "np.float64(1.0526029269960222)"
            ]
          },
          "metadata": {},
          "execution_count": 72
        }
      ]
    },
    {
      "cell_type": "code",
      "source": [
        "rm = data['Market'].mean()*252\n",
        "rm\n",
        "cov = data[['Market','DIS']].cov() *252\n",
        "cov_dis_market = cov.iloc[0,1]\n",
        "cov_dis_market\n",
        "market_var = data['Market'].var()*252\n",
        "market_var\n",
        "\n",
        "DIS_beta_annual = cov_zm_market / market_var\n",
        "print('The annualized beta will equal the one calculated at daily returns:',DIS_beta_annual)\n",
        "\n",
        "rf = 0.025\n",
        "riskpremium = rm - rf\n",
        "\n",
        "## CAPM\n",
        "DIS_capm_return = rf + DIS_beta_annual*riskpremium\n",
        "\n",
        "print(f\"The annualized CAPM return of DIS is {DIS_capm_return*100:.2f}%\")"
      ],
      "metadata": {
        "colab": {
          "base_uri": "https://localhost:8080/"
        },
        "id": "Sv2AoAYiVfKu",
        "outputId": "55a771b3-9e9c-4d85-ab1a-5dc4ce18120d"
      },
      "execution_count": null,
      "outputs": [
        {
          "output_type": "stream",
          "name": "stdout",
          "text": [
            "The annualized beta will equal the one calculated at daily returns: 0.6245574876986691\n",
            "The annualized CAPM return of DIS is 9.32%\n"
          ]
        }
      ]
    },
    {
      "cell_type": "code",
      "source": [
        "sharperatio = (rm-rf)/(data['DIS'].std()*np.sqrt(252))\n",
        "sharperatio\n",
        "print(f\"Sharpe Ratio: {round(sharperatio,4)}\")"
      ],
      "metadata": {
        "colab": {
          "base_uri": "https://localhost:8080/"
        },
        "id": "1hLFeruoWlDo",
        "outputId": "80b465c6-e788-49d9-bc7e-e6a01ec2747f"
      },
      "execution_count": null,
      "outputs": [
        {
          "output_type": "stream",
          "name": "stdout",
          "text": [
            "Sharpe Ratio: 0.3218\n"
          ]
        }
      ]
    },
    {
      "cell_type": "markdown",
      "source": [
        "For NVDA"
      ],
      "metadata": {
        "id": "7xy5MBGHWxRI"
      }
    },
    {
      "cell_type": "code",
      "source": [
        "# print(NVDA)\n",
        "# print(NVDA.shift(1))"
      ],
      "metadata": {
        "id": "ix3P3XBVW1cJ"
      },
      "execution_count": null,
      "outputs": []
    },
    {
      "cell_type": "code",
      "source": [
        "beta_nvda = (data[['Market','NVDA']].cov()/data['Market'].var()).iloc[0].iloc[1]\n",
        "beta_nvda"
      ],
      "metadata": {
        "colab": {
          "base_uri": "https://localhost:8080/"
        },
        "id": "08T1ycx2W7DH",
        "outputId": "303088c3-a1e7-4d24-9924-6e534f4a51f4"
      },
      "execution_count": null,
      "outputs": [
        {
          "output_type": "execute_result",
          "data": {
            "text/plain": [
              "np.float64(1.7816155214618343)"
            ]
          },
          "metadata": {},
          "execution_count": 79
        }
      ]
    },
    {
      "cell_type": "code",
      "source": [
        "rm = data['Market'].mean()*252\n",
        "rm\n",
        "cov = data[['Market','NVDA']].cov() *252\n",
        "cov_nvda_market = cov.iloc[0,1]\n",
        "cov_nvda_market\n",
        "market_var = data['Market'].var()*252\n",
        "market_var\n",
        "\n",
        "NVDA_beta_annual = cov_zm_market / market_var\n",
        "print('The annualized beta will equal the one calculated at daily returns:',NVDA_beta_annual)\n",
        "\n",
        "rf = 0.025\n",
        "riskpremium = rm - rf\n",
        "\n",
        "## CAPM\n",
        "NVDA_capm_return = rf + NVDA_beta_annual*riskpremium\n",
        "\n",
        "print(f\"The annualized CAPM return of NVDA is {NVDA_capm_return*100:.2f}%\")"
      ],
      "metadata": {
        "colab": {
          "base_uri": "https://localhost:8080/"
        },
        "id": "A7M02QNLXC9k",
        "outputId": "2f172027-5706-4eaf-90b0-ba04de76cca8"
      },
      "execution_count": null,
      "outputs": [
        {
          "output_type": "stream",
          "name": "stdout",
          "text": [
            "The annualized beta will equal the one calculated at daily returns: 0.6245574876986691\n",
            "The annualized CAPM return of NVDA is 9.32%\n"
          ]
        }
      ]
    },
    {
      "cell_type": "code",
      "source": [
        "sharperatio = (rm-rf)/(data['NVDA'].std()*np.sqrt(252))\n",
        "sharperatio\n",
        "print(f\"Sharpe Ratio: {round(sharperatio,4)}\")"
      ],
      "metadata": {
        "colab": {
          "base_uri": "https://localhost:8080/"
        },
        "id": "20fVEPtcXfrC",
        "outputId": "e6234733-7b2e-44ec-9724-8b490d971e51"
      },
      "execution_count": null,
      "outputs": [
        {
          "output_type": "stream",
          "name": "stdout",
          "text": [
            "Sharpe Ratio: 0.2041\n"
          ]
        }
      ]
    },
    {
      "cell_type": "markdown",
      "source": [
        "For TGT"
      ],
      "metadata": {
        "id": "cKV_nPqPXjpU"
      }
    },
    {
      "cell_type": "code",
      "source": [
        "# print(TGT)\n",
        "# print(TGT.shift(1))"
      ],
      "metadata": {
        "id": "OS-MwkjbXlBg"
      },
      "execution_count": null,
      "outputs": []
    },
    {
      "cell_type": "code",
      "source": [
        "beta_tgt = (data[['Market','TGT']].cov()/data['Market'].var()).iloc[0].iloc[1]\n",
        "beta_tgt"
      ],
      "metadata": {
        "colab": {
          "base_uri": "https://localhost:8080/"
        },
        "id": "18KEEr-NXo1l",
        "outputId": "dba58a45-8272-402d-db4e-22491178f972"
      },
      "execution_count": null,
      "outputs": [
        {
          "output_type": "execute_result",
          "data": {
            "text/plain": [
              "np.float64(0.84001628546354)"
            ]
          },
          "metadata": {},
          "execution_count": 83
        }
      ]
    },
    {
      "cell_type": "code",
      "source": [
        "rm = data['Market'].mean()*252\n",
        "rm\n",
        "cov = data[['Market','TGT']].cov() *252\n",
        "cov_tgt_market = cov.iloc[0,1]\n",
        "cov_tgt_market\n",
        "market_var = data['Market'].var()*252\n",
        "market_var\n",
        "\n",
        "TGT_beta_annual = cov_zm_market / market_var\n",
        "print('The annualized beta will equal the one calculated at daily returns:',TGT_beta_annual)\n",
        "\n",
        "rf = 0.025\n",
        "riskpremium = rm - rf\n",
        "\n",
        "## CAPM\n",
        "TGT_capm_return = rf + TGT_beta_annual*riskpremium\n",
        "\n",
        "print(f\"The annualized CAPM return of TGT is {TGT_capm_return*100:.2f}%\")"
      ],
      "metadata": {
        "colab": {
          "base_uri": "https://localhost:8080/"
        },
        "id": "RytHCq8hXthd",
        "outputId": "a962cc86-8b05-481d-c8cd-dce7ec77cade"
      },
      "execution_count": null,
      "outputs": [
        {
          "output_type": "stream",
          "name": "stdout",
          "text": [
            "The annualized beta will equal the one calculated at daily returns: 0.6245574876986691\n",
            "The annualized CAPM return of TGT is 9.32%\n"
          ]
        }
      ]
    },
    {
      "cell_type": "code",
      "source": [
        "sharperatio = (rm-rf)/(data['TGT'].std()*np.sqrt(252))\n",
        "sharperatio\n",
        "print(f\"Sharpe Ratio: {round(sharperatio,4)}\")"
      ],
      "metadata": {
        "colab": {
          "base_uri": "https://localhost:8080/"
        },
        "id": "UoKrGiAYX9G5",
        "outputId": "aa83555e-96cc-42da-ea7d-dd466596aefd"
      },
      "execution_count": null,
      "outputs": [
        {
          "output_type": "stream",
          "name": "stdout",
          "text": [
            "Sharpe Ratio: 0.2983\n"
          ]
        }
      ]
    },
    {
      "cell_type": "markdown",
      "source": [
        "For VZ"
      ],
      "metadata": {
        "id": "1rL5rIrOYELN"
      }
    },
    {
      "cell_type": "code",
      "source": [
        "# print(VZ)\n",
        "# print(VZ.shift(1))"
      ],
      "metadata": {
        "id": "sJupvc-XYImN"
      },
      "execution_count": null,
      "outputs": []
    },
    {
      "cell_type": "code",
      "source": [
        "beta_vz = (data[['Market','VZ']].cov()/data['Market'].var()).iloc[0].iloc[1]\n",
        "beta_vz"
      ],
      "metadata": {
        "colab": {
          "base_uri": "https://localhost:8080/"
        },
        "id": "OEXwREwMYMmy",
        "outputId": "1163ed74-8010-47d5-fa35-3a7107474965"
      },
      "execution_count": null,
      "outputs": [
        {
          "output_type": "execute_result",
          "data": {
            "text/plain": [
              "np.float64(0.42435840055820484)"
            ]
          },
          "metadata": {},
          "execution_count": 87
        }
      ]
    },
    {
      "cell_type": "code",
      "source": [
        "rm = data['Market'].mean()*252\n",
        "rm\n",
        "cov = data[['Market','TGT']].cov() *252\n",
        "cov_vz_market = cov.iloc[0,1]\n",
        "cov_vz_market\n",
        "market_var = data['Market'].var()*252\n",
        "market_var\n",
        "\n",
        "VZ_beta_annual = cov_zm_market / market_var\n",
        "print('The annualized beta will equal the one calculated at daily returns:',VZ_beta_annual)\n",
        "\n",
        "rf = 0.025\n",
        "riskpremium = rm - rf\n",
        "\n",
        "## CAPM\n",
        "VZ_capm_return = rf + VZ_beta_annual*riskpremium\n",
        "\n",
        "print(f\"The annualized CAPM return of VZ is {VZ_capm_return*100:.2f}%\")"
      ],
      "metadata": {
        "colab": {
          "base_uri": "https://localhost:8080/"
        },
        "id": "ixReNo_dYR4o",
        "outputId": "27005b12-76cc-46a0-f2e9-3e9fae5de441"
      },
      "execution_count": null,
      "outputs": [
        {
          "output_type": "stream",
          "name": "stdout",
          "text": [
            "The annualized beta will equal the one calculated at daily returns: 0.6245574876986691\n",
            "The annualized CAPM return of VZ is 9.32%\n"
          ]
        }
      ]
    },
    {
      "cell_type": "code",
      "source": [
        "sharperatio = (rm-rf)/(data['VZ'].std()*np.sqrt(252))\n",
        "sharperatio\n",
        "print(f\"Sharpe Ratio: {round(sharperatio,4)}\")"
      ],
      "metadata": {
        "colab": {
          "base_uri": "https://localhost:8080/"
        },
        "id": "5VaYDay6YmJU",
        "outputId": "4577b35f-50a5-47bc-db9f-d066a4540e4c"
      },
      "execution_count": null,
      "outputs": [
        {
          "output_type": "stream",
          "name": "stdout",
          "text": [
            "Sharpe Ratio: 0.5102\n"
          ]
        }
      ]
    }
  ]
}